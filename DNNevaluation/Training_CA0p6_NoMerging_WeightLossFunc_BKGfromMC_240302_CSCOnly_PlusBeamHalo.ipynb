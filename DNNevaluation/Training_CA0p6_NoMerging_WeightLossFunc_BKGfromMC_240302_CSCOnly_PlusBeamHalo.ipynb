{
 "cells": [
  {
   "cell_type": "code",
   "execution_count": 1,
   "metadata": {},
   "outputs": [
    {
     "name": "stderr",
     "output_type": "stream",
     "text": [
      "2024-03-10 10:58:05.154433: W tensorflow/stream_executor/platform/default/dso_loader.cc:64] Could not load dynamic library 'libcudart.so.11.0'; dlerror: libcudart.so.11.0: cannot open shared object file: No such file or directory; LD_LIBRARY_PATH: /cvmfs/sft.cern.ch/lcg/releases/MCGenerators/thepeg/2.2.3-6fa5c/x86_64-centos7-gcc11-opt/lib/ThePEG:/cvmfs/sft.cern.ch/lcg/releases/MCGenerators/herwig++/7.2.3-c1d8e/x86_64-centos7-gcc11-opt/lib/Herwig:/cvmfs/sft.cern.ch/lcg/views/LCG_103swan/x86_64-centos7-gcc11-opt/lib/python3.9/site-packages/jaxlib/mlir/_mlir_libs:/cvmfs/sft.cern.ch/lcg/views/LCG_103swan/x86_64-centos7-gcc11-opt/lib/python3.9/site-packages/torch/lib:/cvmfs/sft.cern.ch/lcg/views/LCG_103swan/x86_64-centos7-gcc11-opt/lib/python3.9/site-packages/onnxruntime/capi/:/cvmfs/sft.cern.ch/lcg/views/LCG_103swan/x86_64-centos7-gcc11-opt/lib/python3.9/site-packages/tensorflow:/cvmfs/sft.cern.ch/lcg/views/LCG_103swan/x86_64-centos7-gcc11-opt/lib/python3.9/site-packages/tensorflow/contrib/tensor_forest:/cvmfs/sft.cern.ch/lcg/views/LCG_103swan/x86_64-centos7-gcc11-opt/lib/python3.9/site-packages/tensorflow/python/framework:/cvmfs/sft.cern.ch/lcg/releases/java/11.0.14p1-8284a/x86_64-centos7-gcc11-opt/jre/lib/amd64:/cvmfs/sft.cern.ch/lcg/views/LCG_103swan/x86_64-centos7-gcc11-opt/lib64:/cvmfs/sft.cern.ch/lcg/views/LCG_103swan/x86_64-centos7-gcc11-opt/lib:/cvmfs/sft.cern.ch/lcg/releases/gcc/11.3.0-ad0f5/x86_64-centos7/lib:/cvmfs/sft.cern.ch/lcg/releases/gcc/11.3.0-ad0f5/x86_64-centos7/lib64:/cvmfs/sft.cern.ch/lcg/releases/binutils/2.37-355ed/x86_64-centos7/lib:/usr/local/lib/:/cvmfs/sft.cern.ch/lcg/releases/R/4.1.2-23baf/x86_64-centos7-gcc11-opt/lib64/R/library/readr/rcon\n",
      "2024-03-10 10:58:05.154485: I tensorflow/stream_executor/cuda/cudart_stub.cc:29] Ignore above cudart dlerror if you do not have a GPU set up on your machine.\n"
     ]
    }
   ],
   "source": [
    "import pandas as pd\n",
    "from sklearn.model_selection import train_test_split\n",
    "import numpy as np \n",
    "\n",
    "from keras import layers\n",
    "from keras import models\n",
    "from keras import backend as K\n",
    "from keras import callbacks\n",
    "from keras import optimizers\n",
    "from keras.regularizers import l2\n",
    "import pickle\n",
    "import tensorflow as tf"
   ]
  },
  {
   "cell_type": "code",
   "execution_count": 2,
   "metadata": {},
   "outputs": [],
   "source": [
    "import pickle\n",
    "\n",
    "signal = pd.read_csv('signal_CSCOnly_240510.csv')\n",
    "\n",
    "pu = pd.read_csv('pu_CSCOnly_240510.csv')\n",
    "dy = pd.read_csv('dy_CSCOnly_240510.csv')\n",
    "pions_kaons = pd.read_csv('pions_kaons_CSCOnly_240510.csv')\n",
    "beam_halo = pd.read_csv('beam_halo_CSCOnly_240510.csv')\n",
    "\n",
    "train_csc = pd.concat([signal, pu, dy, pions_kaons, beam_halo], axis=0)\n",
    "\n",
    "del  signal, pu,dy,pions_kaons, beam_halo"
   ]
  },
  {
   "cell_type": "code",
   "execution_count": 3,
   "metadata": {},
   "outputs": [
    {
     "data": {
      "text/plain": [
       "(474855, 22)"
      ]
     },
     "execution_count": 3,
     "metadata": {},
     "output_type": "execute_result"
    }
   ],
   "source": [
    "train_csc.shape"
   ]
  },
  {
   "cell_type": "code",
   "execution_count": 4,
   "metadata": {},
   "outputs": [
    {
     "data": {
      "text/html": [
       "<div>\n",
       "<style scoped>\n",
       "    .dataframe tbody tr th:only-of-type {\n",
       "        vertical-align: middle;\n",
       "    }\n",
       "\n",
       "    .dataframe tbody tr th {\n",
       "        vertical-align: top;\n",
       "    }\n",
       "\n",
       "    .dataframe thead th {\n",
       "        text-align: right;\n",
       "    }\n",
       "</style>\n",
       "<table border=\"1\" class=\"dataframe\">\n",
       "  <thead>\n",
       "    <tr style=\"text-align: right;\">\n",
       "      <th></th>\n",
       "      <th>Unnamed: 0</th>\n",
       "      <th>Cluster_XSpread</th>\n",
       "      <th>Cluster_YSpread</th>\n",
       "      <th>Cluster_ZSpread</th>\n",
       "      <th>Cluster_XYSpread</th>\n",
       "      <th>Cluster_RSpread</th>\n",
       "      <th>Cluster_SkewX</th>\n",
       "      <th>Cluster_SkewY</th>\n",
       "      <th>Cluster_SkewZ</th>\n",
       "      <th>Cluster_KurtX</th>\n",
       "      <th>...</th>\n",
       "      <th>frac_s1</th>\n",
       "      <th>frac_s2</th>\n",
       "      <th>frac_s3</th>\n",
       "      <th>frac_s4</th>\n",
       "      <th>frac_rw1</th>\n",
       "      <th>frac_rw2</th>\n",
       "      <th>frac_rw3</th>\n",
       "      <th>Cluster_Size</th>\n",
       "      <th>y</th>\n",
       "      <th>weight</th>\n",
       "    </tr>\n",
       "  </thead>\n",
       "  <tbody>\n",
       "    <tr>\n",
       "      <th>0</th>\n",
       "      <td>5</td>\n",
       "      <td>18.097641</td>\n",
       "      <td>27.872089</td>\n",
       "      <td>0.047985</td>\n",
       "      <td>13.252828</td>\n",
       "      <td>16.398750</td>\n",
       "      <td>-2.355558</td>\n",
       "      <td>-10.489044</td>\n",
       "      <td>-0.013916</td>\n",
       "      <td>-0.063755</td>\n",
       "      <td>...</td>\n",
       "      <td>1.000000</td>\n",
       "      <td>0.000000</td>\n",
       "      <td>0.000000</td>\n",
       "      <td>0.000000</td>\n",
       "      <td>0.0</td>\n",
       "      <td>0.000000</td>\n",
       "      <td>1.000000</td>\n",
       "      <td>64</td>\n",
       "      <td>1</td>\n",
       "      <td>0.002090</td>\n",
       "    </tr>\n",
       "    <tr>\n",
       "      <th>1</th>\n",
       "      <td>6</td>\n",
       "      <td>31.040527</td>\n",
       "      <td>18.928686</td>\n",
       "      <td>30.312361</td>\n",
       "      <td>14.992152</td>\n",
       "      <td>32.267048</td>\n",
       "      <td>-17.488033</td>\n",
       "      <td>11.488912</td>\n",
       "      <td>55.564621</td>\n",
       "      <td>-0.254372</td>\n",
       "      <td>...</td>\n",
       "      <td>0.000000</td>\n",
       "      <td>0.837838</td>\n",
       "      <td>0.162162</td>\n",
       "      <td>0.000000</td>\n",
       "      <td>0.0</td>\n",
       "      <td>1.000000</td>\n",
       "      <td>0.000000</td>\n",
       "      <td>333</td>\n",
       "      <td>1</td>\n",
       "      <td>0.005323</td>\n",
       "    </tr>\n",
       "    <tr>\n",
       "      <th>2</th>\n",
       "      <td>11</td>\n",
       "      <td>25.771738</td>\n",
       "      <td>45.267792</td>\n",
       "      <td>52.418896</td>\n",
       "      <td>12.181660</td>\n",
       "      <td>44.798634</td>\n",
       "      <td>18.220913</td>\n",
       "      <td>86.644836</td>\n",
       "      <td>-120.445091</td>\n",
       "      <td>0.121282</td>\n",
       "      <td>...</td>\n",
       "      <td>0.000000</td>\n",
       "      <td>0.862745</td>\n",
       "      <td>0.109804</td>\n",
       "      <td>0.027451</td>\n",
       "      <td>0.0</td>\n",
       "      <td>1.000000</td>\n",
       "      <td>0.000000</td>\n",
       "      <td>255</td>\n",
       "      <td>1</td>\n",
       "      <td>0.004396</td>\n",
       "    </tr>\n",
       "    <tr>\n",
       "      <th>3</th>\n",
       "      <td>31</td>\n",
       "      <td>22.737541</td>\n",
       "      <td>23.012917</td>\n",
       "      <td>0.033677</td>\n",
       "      <td>9.930502</td>\n",
       "      <td>24.948252</td>\n",
       "      <td>-1.825027</td>\n",
       "      <td>-2.568240</td>\n",
       "      <td>0.001441</td>\n",
       "      <td>-0.421570</td>\n",
       "      <td>...</td>\n",
       "      <td>0.000000</td>\n",
       "      <td>1.000000</td>\n",
       "      <td>0.000000</td>\n",
       "      <td>0.000000</td>\n",
       "      <td>0.0</td>\n",
       "      <td>1.000000</td>\n",
       "      <td>0.000000</td>\n",
       "      <td>248</td>\n",
       "      <td>1</td>\n",
       "      <td>0.004323</td>\n",
       "    </tr>\n",
       "    <tr>\n",
       "      <th>4</th>\n",
       "      <td>33</td>\n",
       "      <td>33.718040</td>\n",
       "      <td>25.260181</td>\n",
       "      <td>44.089489</td>\n",
       "      <td>5.617549</td>\n",
       "      <td>33.620945</td>\n",
       "      <td>6.964221</td>\n",
       "      <td>-43.769653</td>\n",
       "      <td>167.441162</td>\n",
       "      <td>-1.358159</td>\n",
       "      <td>...</td>\n",
       "      <td>0.000000</td>\n",
       "      <td>0.938144</td>\n",
       "      <td>0.030928</td>\n",
       "      <td>0.030928</td>\n",
       "      <td>0.0</td>\n",
       "      <td>1.000000</td>\n",
       "      <td>0.000000</td>\n",
       "      <td>194</td>\n",
       "      <td>1</td>\n",
       "      <td>0.003786</td>\n",
       "    </tr>\n",
       "    <tr>\n",
       "      <th>...</th>\n",
       "      <td>...</td>\n",
       "      <td>...</td>\n",
       "      <td>...</td>\n",
       "      <td>...</td>\n",
       "      <td>...</td>\n",
       "      <td>...</td>\n",
       "      <td>...</td>\n",
       "      <td>...</td>\n",
       "      <td>...</td>\n",
       "      <td>...</td>\n",
       "      <td>...</td>\n",
       "      <td>...</td>\n",
       "      <td>...</td>\n",
       "      <td>...</td>\n",
       "      <td>...</td>\n",
       "      <td>...</td>\n",
       "      <td>...</td>\n",
       "      <td>...</td>\n",
       "      <td>...</td>\n",
       "      <td>...</td>\n",
       "      <td>...</td>\n",
       "    </tr>\n",
       "    <tr>\n",
       "      <th>39715</th>\n",
       "      <td>9998149</td>\n",
       "      <td>12.120682</td>\n",
       "      <td>4.033607</td>\n",
       "      <td>117.960884</td>\n",
       "      <td>6.304285</td>\n",
       "      <td>12.569423</td>\n",
       "      <td>26.069159</td>\n",
       "      <td>6.265519</td>\n",
       "      <td>31.535727</td>\n",
       "      <td>7.009489</td>\n",
       "      <td>...</td>\n",
       "      <td>0.436364</td>\n",
       "      <td>0.218182</td>\n",
       "      <td>0.218182</td>\n",
       "      <td>0.127273</td>\n",
       "      <td>0.0</td>\n",
       "      <td>0.563636</td>\n",
       "      <td>0.436364</td>\n",
       "      <td>55</td>\n",
       "      <td>0</td>\n",
       "      <td>0.001189</td>\n",
       "    </tr>\n",
       "    <tr>\n",
       "      <th>39716</th>\n",
       "      <td>9998537</td>\n",
       "      <td>100.277237</td>\n",
       "      <td>26.417229</td>\n",
       "      <td>4.836966</td>\n",
       "      <td>48.588280</td>\n",
       "      <td>103.057770</td>\n",
       "      <td>0.856878</td>\n",
       "      <td>3.109254</td>\n",
       "      <td>22.878077</td>\n",
       "      <td>-1.374234</td>\n",
       "      <td>...</td>\n",
       "      <td>0.000000</td>\n",
       "      <td>0.000000</td>\n",
       "      <td>0.000000</td>\n",
       "      <td>1.000000</td>\n",
       "      <td>0.0</td>\n",
       "      <td>1.000000</td>\n",
       "      <td>0.000000</td>\n",
       "      <td>304</td>\n",
       "      <td>0</td>\n",
       "      <td>0.047352</td>\n",
       "    </tr>\n",
       "    <tr>\n",
       "      <th>39717</th>\n",
       "      <td>9999110</td>\n",
       "      <td>45.356262</td>\n",
       "      <td>18.395401</td>\n",
       "      <td>0.020963</td>\n",
       "      <td>16.921047</td>\n",
       "      <td>45.934376</td>\n",
       "      <td>-46.622551</td>\n",
       "      <td>16.197115</td>\n",
       "      <td>-0.019509</td>\n",
       "      <td>0.466967</td>\n",
       "      <td>...</td>\n",
       "      <td>0.000000</td>\n",
       "      <td>1.000000</td>\n",
       "      <td>0.000000</td>\n",
       "      <td>0.000000</td>\n",
       "      <td>1.0</td>\n",
       "      <td>0.000000</td>\n",
       "      <td>0.000000</td>\n",
       "      <td>185</td>\n",
       "      <td>0</td>\n",
       "      <td>0.011755</td>\n",
       "    </tr>\n",
       "    <tr>\n",
       "      <th>39718</th>\n",
       "      <td>9999150</td>\n",
       "      <td>71.777931</td>\n",
       "      <td>9.386246</td>\n",
       "      <td>0.042740</td>\n",
       "      <td>8.109658</td>\n",
       "      <td>71.800270</td>\n",
       "      <td>9.521962</td>\n",
       "      <td>3.881446</td>\n",
       "      <td>-0.010378</td>\n",
       "      <td>-0.194425</td>\n",
       "      <td>...</td>\n",
       "      <td>0.000000</td>\n",
       "      <td>0.000000</td>\n",
       "      <td>0.000000</td>\n",
       "      <td>1.000000</td>\n",
       "      <td>0.0</td>\n",
       "      <td>1.000000</td>\n",
       "      <td>0.000000</td>\n",
       "      <td>246</td>\n",
       "      <td>0</td>\n",
       "      <td>0.014441</td>\n",
       "    </tr>\n",
       "    <tr>\n",
       "      <th>39719</th>\n",
       "      <td>9999215</td>\n",
       "      <td>50.103157</td>\n",
       "      <td>16.022030</td>\n",
       "      <td>0.034987</td>\n",
       "      <td>21.277267</td>\n",
       "      <td>50.981403</td>\n",
       "      <td>-0.984682</td>\n",
       "      <td>5.232469</td>\n",
       "      <td>0.000135</td>\n",
       "      <td>-1.317886</td>\n",
       "      <td>...</td>\n",
       "      <td>0.000000</td>\n",
       "      <td>1.000000</td>\n",
       "      <td>0.000000</td>\n",
       "      <td>0.000000</td>\n",
       "      <td>0.0</td>\n",
       "      <td>1.000000</td>\n",
       "      <td>0.000000</td>\n",
       "      <td>183</td>\n",
       "      <td>0</td>\n",
       "      <td>0.012200</td>\n",
       "    </tr>\n",
       "  </tbody>\n",
       "</table>\n",
       "<p>474855 rows × 22 columns</p>\n",
       "</div>"
      ],
      "text/plain": [
       "       Unnamed: 0  Cluster_XSpread  Cluster_YSpread  Cluster_ZSpread  \\\n",
       "0               5        18.097641        27.872089         0.047985   \n",
       "1               6        31.040527        18.928686        30.312361   \n",
       "2              11        25.771738        45.267792        52.418896   \n",
       "3              31        22.737541        23.012917         0.033677   \n",
       "4              33        33.718040        25.260181        44.089489   \n",
       "...           ...              ...              ...              ...   \n",
       "39715     9998149        12.120682         4.033607       117.960884   \n",
       "39716     9998537       100.277237        26.417229         4.836966   \n",
       "39717     9999110        45.356262        18.395401         0.020963   \n",
       "39718     9999150        71.777931         9.386246         0.042740   \n",
       "39719     9999215        50.103157        16.022030         0.034987   \n",
       "\n",
       "       Cluster_XYSpread  Cluster_RSpread  Cluster_SkewX  Cluster_SkewY  \\\n",
       "0             13.252828        16.398750      -2.355558     -10.489044   \n",
       "1             14.992152        32.267048     -17.488033      11.488912   \n",
       "2             12.181660        44.798634      18.220913      86.644836   \n",
       "3              9.930502        24.948252      -1.825027      -2.568240   \n",
       "4              5.617549        33.620945       6.964221     -43.769653   \n",
       "...                 ...              ...            ...            ...   \n",
       "39715          6.304285        12.569423      26.069159       6.265519   \n",
       "39716         48.588280       103.057770       0.856878       3.109254   \n",
       "39717         16.921047        45.934376     -46.622551      16.197115   \n",
       "39718          8.109658        71.800270       9.521962       3.881446   \n",
       "39719         21.277267        50.981403      -0.984682       5.232469   \n",
       "\n",
       "       Cluster_SkewZ  Cluster_KurtX  ...   frac_s1   frac_s2   frac_s3  \\\n",
       "0          -0.013916      -0.063755  ...  1.000000  0.000000  0.000000   \n",
       "1          55.564621      -0.254372  ...  0.000000  0.837838  0.162162   \n",
       "2        -120.445091       0.121282  ...  0.000000  0.862745  0.109804   \n",
       "3           0.001441      -0.421570  ...  0.000000  1.000000  0.000000   \n",
       "4         167.441162      -1.358159  ...  0.000000  0.938144  0.030928   \n",
       "...              ...            ...  ...       ...       ...       ...   \n",
       "39715      31.535727       7.009489  ...  0.436364  0.218182  0.218182   \n",
       "39716      22.878077      -1.374234  ...  0.000000  0.000000  0.000000   \n",
       "39717      -0.019509       0.466967  ...  0.000000  1.000000  0.000000   \n",
       "39718      -0.010378      -0.194425  ...  0.000000  0.000000  0.000000   \n",
       "39719       0.000135      -1.317886  ...  0.000000  1.000000  0.000000   \n",
       "\n",
       "        frac_s4  frac_rw1  frac_rw2  frac_rw3  Cluster_Size  y    weight  \n",
       "0      0.000000       0.0  0.000000  1.000000            64  1  0.002090  \n",
       "1      0.000000       0.0  1.000000  0.000000           333  1  0.005323  \n",
       "2      0.027451       0.0  1.000000  0.000000           255  1  0.004396  \n",
       "3      0.000000       0.0  1.000000  0.000000           248  1  0.004323  \n",
       "4      0.030928       0.0  1.000000  0.000000           194  1  0.003786  \n",
       "...         ...       ...       ...       ...           ... ..       ...  \n",
       "39715  0.127273       0.0  0.563636  0.436364            55  0  0.001189  \n",
       "39716  1.000000       0.0  1.000000  0.000000           304  0  0.047352  \n",
       "39717  0.000000       1.0  0.000000  0.000000           185  0  0.011755  \n",
       "39718  1.000000       0.0  1.000000  0.000000           246  0  0.014441  \n",
       "39719  0.000000       0.0  1.000000  0.000000           183  0  0.012200  \n",
       "\n",
       "[474855 rows x 22 columns]"
      ]
     },
     "execution_count": 4,
     "metadata": {},
     "output_type": "execute_result"
    }
   ],
   "source": [
    "train_csc"
   ]
  },
  {
   "cell_type": "code",
   "execution_count": 5,
   "metadata": {},
   "outputs": [
    {
     "data": {
      "text/plain": [
       "(array([127054.,  66663.,  50067.,  42978.,  41367.,  35626.,  31724.,\n",
       "         28615.,  26380.,  24381.]),\n",
       " array([ 50.,  85., 120., 155., 190., 225., 260., 295., 330., 365., 400.]),\n",
       " <BarContainer object of 10 artists>)"
      ]
     },
     "execution_count": 5,
     "metadata": {},
     "output_type": "execute_result"
    },
    {
     "data": {
      "image/png": "[encoded data removed]",
      "text/plain": [
       "<Figure size 432x288 with 1 Axes>"
      ]
     },
     "metadata": {
      "needs_background": "light"
     },
     "output_type": "display_data"
    }
   ],
   "source": [
    "import matplotlib.pyplot as plt\n",
    "\n",
    "plt.hist(train_csc.Cluster_Size)"
   ]
  },
  {
   "cell_type": "code",
   "execution_count": 6,
   "metadata": {},
   "outputs": [],
   "source": [
    "flat_df = train_csc\n",
    "flat_df = flat_df.sample(frac = 1) #shuffle\n"
   ]
  },
  {
   "cell_type": "code",
   "execution_count": 7,
   "metadata": {},
   "outputs": [
    {
     "data": {
      "text/plain": [
       "Unnamed: 0            int64\n",
       "Cluster_XSpread     float64\n",
       "Cluster_YSpread     float64\n",
       "Cluster_ZSpread     float64\n",
       "Cluster_XYSpread    float64\n",
       "Cluster_RSpread     float64\n",
       "Cluster_SkewX       float64\n",
       "Cluster_SkewY       float64\n",
       "Cluster_SkewZ       float64\n",
       "Cluster_KurtX       float64\n",
       "Cluster_KurtY       float64\n",
       "Cluster_KurtZ       float64\n",
       "frac_s1             float64\n",
       "frac_s2             float64\n",
       "frac_s3             float64\n",
       "frac_s4             float64\n",
       "frac_rw1            float64\n",
       "frac_rw2            float64\n",
       "frac_rw3            float64\n",
       "Cluster_Size          int64\n",
       "y                     int64\n",
       "weight              float64\n",
       "dtype: object"
      ]
     },
     "execution_count": 7,
     "metadata": {},
     "output_type": "execute_result"
    }
   ],
   "source": [
    "flat_df[\"Cluster_Size\"] = pd.to_numeric(flat_df[\"Cluster_Size\"])\n",
    "flat_df[\"y\"] = pd.to_numeric(flat_df[\"y\"])\n",
    "flat_df[\"weight\"] = pd.to_numeric(flat_df[\"weight\"])\n",
    "\n",
    "flat_df.dtypes"
   ]
  },
  {
   "cell_type": "code",
   "execution_count": 8,
   "metadata": {},
   "outputs": [],
   "source": [
    "def equalObs(x, nbin):\n",
    "    nlen = len(x)\n",
    "    return np.interp(np.linspace(0, nlen, nbin + 1),\n",
    "                     np.arange(nlen),\n",
    "                     np.sort(x))"
   ]
  },
  {
   "cell_type": "code",
   "execution_count": 9,
   "metadata": {},
   "outputs": [
    {
     "name": "stdout",
     "output_type": "stream",
     "text": [
      "signal:  [ 50.  68.  90. 116. 146. 178. 214. 253. 297. 345. 400.]\n",
      "bkg:  [ 50.  52.  55.  59.  65.  72.  82. 100. 130. 204. 400.]\n",
      "ratio: [ 50.   60.   72.5  87.5 105.5 125.  148.  176.5 213.5 274.5 400. ]\n"
     ]
    }
   ],
   "source": [
    "print('signal: ',equalObs(flat_df[(flat_df.y == 1)].Cluster_Size, 10))\n",
    "print('bkg: ',equalObs(flat_df[(flat_df.y == 0)].Cluster_Size, 10))\n",
    "print('ratio:', (equalObs(flat_df[(flat_df.y == 1)].Cluster_Size, 10) + equalObs(flat_df[(flat_df.y == 0)].Cluster_Size, 10))/2)"
   ]
  },
  {
   "cell_type": "code",
   "execution_count": 10,
   "metadata": {},
   "outputs": [],
   "source": [
    "def make_groups(x):\n",
    "    if x >= 50 and x < 75:\n",
    "        return 0\n",
    "    elif x >= 75 and x < 100:\n",
    "        return 1\n",
    "    elif x >= 100 and x < 125:\n",
    "        return 2\n",
    "    elif x >= 125 and x < 150:\n",
    "        return 3\n",
    "    elif x >= 150 and x < 175:\n",
    "        return 4\n",
    "    elif x >= 175 and x < 200:\n",
    "        return 5\n",
    "    elif x >= 200 and x < 225:\n",
    "        return 6\n",
    "    elif x >= 225 and x < 250:\n",
    "        return 7\n",
    "    elif x >= 250 and x < 275:\n",
    "        return 8\n",
    "    elif x >= 275 and x < 300:\n",
    "        return 9\n",
    "    elif x >= 300 and x < 325:\n",
    "        return 10\n",
    "    elif x >= 325 and x < 350:\n",
    "        return 11\n",
    "    elif x >= 350 and x < 375:\n",
    "        return 12\n",
    "    elif x >= 375 and x <= 400:\n",
    "        return 13\n",
    "    \n",
    "groups = flat_df['Cluster_Size'].apply(make_groups)\n",
    "\n"
   ]
  },
  {
   "cell_type": "code",
   "execution_count": 10,
   "metadata": {},
   "outputs": [],
   "source": [
    "def make_groups(x):\n",
    "    if x >= 50 and x < 70:\n",
    "        return 0\n",
    "    elif x >= 70 and x < 90:\n",
    "        return 1\n",
    "    elif x >= 90 and x < 110:\n",
    "        return 2\n",
    "    elif x >= 110 and x < 130:\n",
    "        return 3\n",
    "    elif x >= 130 and x < 150:\n",
    "        return 4\n",
    "    elif x >= 150 and x < 170:\n",
    "        return 5\n",
    "    elif x >= 170 and x < 190:\n",
    "        return 6\n",
    "    elif x >= 190 and x < 210:\n",
    "        return 7\n",
    "    elif x >= 210 and x < 230:\n",
    "        return 8\n",
    "    elif x >= 230 and x < 250:\n",
    "        return 9\n",
    "    elif x >= 250 and x < 270:\n",
    "        return 10\n",
    "    elif x >= 270 and x < 290:\n",
    "        return 11\n",
    "    elif x >= 290 and x < 310:\n",
    "        return 12\n",
    "    elif x >= 310 and x < 330:\n",
    "        return 13\n",
    "    elif x >= 330 and x < 350:\n",
    "        return 14\n",
    "    elif x >= 350 and x < 370:\n",
    "        return 15\n",
    "    elif x >= 370 and x <= 400:\n",
    "        return 16\n",
    "\n",
    "groups = flat_df['Cluster_Size'].apply(make_groups)"
   ]
  },
  {
   "cell_type": "code",
   "execution_count": 11,
   "metadata": {},
   "outputs": [],
   "source": [
    "groups = tf.keras.utils.to_categorical(groups)\n"
   ]
  },
  {
   "cell_type": "code",
   "execution_count": 15,
   "metadata": {},
   "outputs": [],
   "source": [
    "#variablesTrain = ['Cluster_isCSC', 'Cluster_XSpread', 'Cluster_YSpread', 'Cluster_XYSpread', 'Cluster_RSpread', 'Cluster_SkewX', 'Cluster_SkewY', 'Cluster_KurtX', 'Cluster_KurtY', 'frac_s1', 'frac_s2', 'frac_s3', 'frac_s4', 'frac_rw1', 'frac_rw2', 'frac_rw3', 'Cluster_Size', 'Cluster_nXY', 'Cluster_nZ']\n",
    "\n",
    "# option1:\n",
    "#variablesTrain = ['Cluster_isCSC', 'Cluster_XSpread', 'Cluster_YSpread', 'Cluster_XYSpread', 'Cluster_RSpread','Cluster_Size', 'Cluster_nXY', 'Cluster_nZ']\n",
    "\n",
    "# option2:\n",
    "#variablesTrain = ['Cluster_isCSC', 'Cluster_XSpread', 'Cluster_YSpread', 'Cluster_XYSpread', 'Cluster_RSpread', 'frac_s1', 'frac_s2', 'frac_s3', 'frac_s4', 'frac_rw1', 'frac_rw2', 'frac_rw3', 'Cluster_Size', 'Cluster_nXY', 'Cluster_nZ']\n",
    "# option3:\n",
    "variablesTrain = ['Cluster_XSpread', 'Cluster_YSpread', 'Cluster_ZSpread', 'Cluster_XYSpread', 'Cluster_RSpread', 'Cluster_SkewX', 'Cluster_SkewY', 'frac_s1', 'frac_s2', 'frac_s3', 'frac_s4', 'frac_rw1', 'frac_rw2', 'frac_rw3', 'Cluster_Size']\n",
    "#variablesTrain = ['Cluster_XSpread', 'Cluster_YSpread', 'Cluster_ZSpread', 'Cluster_XYSpread', 'Cluster_RSpread', 'frac_s1', 'frac_s2', 'frac_s3', 'frac_s4', 'frac_rw1', 'frac_rw2', 'frac_rw3', 'Cluster_Size']\n",
    "\n"
   ]
  },
  {
   "cell_type": "code",
   "execution_count": 16,
   "metadata": {},
   "outputs": [
    {
     "name": "stdout",
     "output_type": "stream",
     "text": [
      ">>> Plotting Cluster_XSpread histogram...\n",
      "0 200\n"
     ]
    },
    {
     "data": {
      "text/plain": [
       "<Figure size 432x288 with 0 Axes>"
      ]
     },
     "metadata": {},
     "output_type": "display_data"
    },
    {
     "data": {
      "image/png": "[encoded data removed]",
      "text/plain": [
       "<Figure size 432x432 with 1 Axes>"
      ]
     },
     "metadata": {
      "needs_background": "light"
     },
     "output_type": "display_data"
    },
    {
     "name": "stdout",
     "output_type": "stream",
     "text": [
      "    Done\n",
      ">>> Plotting Cluster_YSpread histogram...\n",
      "0 200\n"
     ]
    },
    {
     "data": {
      "text/plain": [
       "<Figure size 432x288 with 0 Axes>"
      ]
     },
     "metadata": {},
     "output_type": "display_data"
    },
    {
     "data": {
      "image/png": "[encoded data removed]",
      "text/plain": [
       "<Figure size 432x432 with 1 Axes>"
      ]
     },
     "metadata": {
      "needs_background": "light"
     },
     "output_type": "display_data"
    },
    {
     "name": "stdout",
     "output_type": "stream",
     "text": [
      "    Done\n",
      ">>> Plotting Cluster_ZSpread histogram...\n",
      "0 200\n"
     ]
    },
    {
     "data": {
      "text/plain": [
       "<Figure size 432x288 with 0 Axes>"
      ]
     },
     "metadata": {},
     "output_type": "display_data"
    },
    {
     "data": {
      "image/png": "[encoded data removed]",
      "text/plain": [
       "<Figure size 432x432 with 1 Axes>"
      ]
     },
     "metadata": {
      "needs_background": "light"
     },
     "output_type": "display_data"
    },
    {
     "name": "stdout",
     "output_type": "stream",
     "text": [
      "    Done\n",
      ">>> Plotting Cluster_XYSpread histogram...\n",
      "0 130\n"
     ]
    },
    {
     "data": {
      "text/plain": [
       "<Figure size 432x288 with 0 Axes>"
      ]
     },
     "metadata": {},
     "output_type": "display_data"
    },
    {
     "data": {
      "image/png": "[encoded data removed]",
      "text/plain": [
       "<Figure size 432x432 with 1 Axes>"
      ]
     },
     "metadata": {
      "needs_background": "light"
     },
     "output_type": "display_data"
    },
    {
     "name": "stdout",
     "output_type": "stream",
     "text": [
      "    Done\n",
      ">>> Plotting Cluster_RSpread histogram...\n",
      "0 130\n"
     ]
    },
    {
     "data": {
      "text/plain": [
       "<Figure size 432x288 with 0 Axes>"
      ]
     },
     "metadata": {},
     "output_type": "display_data"
    },
    {
     "data": {
      "image/png": "[encoded data removed]",
      "text/plain": [
       "<Figure size 432x432 with 1 Axes>"
      ]
     },
     "metadata": {
      "needs_background": "light"
     },
     "output_type": "display_data"
    },
    {
     "name": "stdout",
     "output_type": "stream",
     "text": [
      "    Done\n",
      ">>> Plotting Cluster_SkewX histogram...\n",
      "0 340.5431396484\n"
     ]
    },
    {
     "data": {
      "text/plain": [
       "<Figure size 432x288 with 0 Axes>"
      ]
     },
     "metadata": {},
     "output_type": "display_data"
    },
    {
     "data": {
      "image/png": "[encoded data removed]",
      "text/plain": [
       "<Figure size 432x432 with 1 Axes>"
      ]
     },
     "metadata": {
      "needs_background": "light"
     },
     "output_type": "display_data"
    },
    {
     "name": "stdout",
     "output_type": "stream",
     "text": [
      "    Done\n",
      ">>> Plotting Cluster_SkewY histogram...\n",
      "0 376.1938842768\n"
     ]
    },
    {
     "data": {
      "text/plain": [
       "<Figure size 432x288 with 0 Axes>"
      ]
     },
     "metadata": {},
     "output_type": "display_data"
    },
    {
     "data": {
      "image/png": "[encoded data removed]",
      "text/plain": [
       "<Figure size 432x432 with 1 Axes>"
      ]
     },
     "metadata": {
      "needs_background": "light"
     },
     "output_type": "display_data"
    },
    {
     "name": "stdout",
     "output_type": "stream",
     "text": [
      "    Done\n",
      ">>> Plotting frac_s1 histogram...\n",
      "0 1.2\n"
     ]
    },
    {
     "data": {
      "text/plain": [
       "<Figure size 432x288 with 0 Axes>"
      ]
     },
     "metadata": {},
     "output_type": "display_data"
    },
    {
     "data": {
      "image/png": "[encoded data removed]",
      "text/plain": [
       "<Figure size 432x432 with 1 Axes>"
      ]
     },
     "metadata": {
      "needs_background": "light"
     },
     "output_type": "display_data"
    },
    {
     "name": "stdout",
     "output_type": "stream",
     "text": [
      "    Done\n",
      ">>> Plotting frac_s2 histogram...\n",
      "0 1.2\n"
     ]
    },
    {
     "data": {
      "text/plain": [
       "<Figure size 432x288 with 0 Axes>"
      ]
     },
     "metadata": {},
     "output_type": "display_data"
    },
    {
     "data": {
      "image/png": "[encoded data removed]",
      "text/plain": [
       "<Figure size 432x432 with 1 Axes>"
      ]
     },
     "metadata": {
      "needs_background": "light"
     },
     "output_type": "display_data"
    },
    {
     "name": "stdout",
     "output_type": "stream",
     "text": [
      "    Done\n",
      ">>> Plotting frac_s3 histogram...\n",
      "0 1.2\n"
     ]
    },
    {
     "data": {
      "text/plain": [
       "<Figure size 432x288 with 0 Axes>"
      ]
     },
     "metadata": {},
     "output_type": "display_data"
    },
    {
     "data": {
      "image/png": "[encoded data removed]",
      "text/plain": [
       "<Figure size 432x432 with 1 Axes>"
      ]
     },
     "metadata": {
      "needs_background": "light"
     },
     "output_type": "display_data"
    },
    {
     "name": "stdout",
     "output_type": "stream",
     "text": [
      "    Done\n",
      ">>> Plotting frac_s4 histogram...\n",
      "0 1.2\n"
     ]
    },
    {
     "data": {
      "text/plain": [
       "<Figure size 432x288 with 0 Axes>"
      ]
     },
     "metadata": {},
     "output_type": "display_data"
    },
    {
     "data": {
      "image/png": "[encoded data removed]",
      "text/plain": [
       "<Figure size 432x432 with 1 Axes>"
      ]
     },
     "metadata": {
      "needs_background": "light"
     },
     "output_type": "display_data"
    },
    {
     "name": "stdout",
     "output_type": "stream",
     "text": [
      "    Done\n",
      ">>> Plotting frac_rw1 histogram...\n",
      "0 1.2\n"
     ]
    },
    {
     "data": {
      "text/plain": [
       "<Figure size 432x288 with 0 Axes>"
      ]
     },
     "metadata": {},
     "output_type": "display_data"
    },
    {
     "data": {
      "image/png": "[encoded data removed]",
      "text/plain": [
       "<Figure size 432x432 with 1 Axes>"
      ]
     },
     "metadata": {
      "needs_background": "light"
     },
     "output_type": "display_data"
    },
    {
     "name": "stdout",
     "output_type": "stream",
     "text": [
      "    Done\n",
      ">>> Plotting frac_rw2 histogram...\n",
      "0 1.2\n"
     ]
    },
    {
     "data": {
      "text/plain": [
       "<Figure size 432x288 with 0 Axes>"
      ]
     },
     "metadata": {},
     "output_type": "display_data"
    },
    {
     "data": {
      "image/png": "[encoded data removed]",
      "text/plain": [
       "<Figure size 432x432 with 1 Axes>"
      ]
     },
     "metadata": {
      "needs_background": "light"
     },
     "output_type": "display_data"
    },
    {
     "name": "stdout",
     "output_type": "stream",
     "text": [
      "    Done\n",
      ">>> Plotting frac_rw3 histogram...\n",
      "0 1.2\n"
     ]
    },
    {
     "data": {
      "text/plain": [
       "<Figure size 432x288 with 0 Axes>"
      ]
     },
     "metadata": {},
     "output_type": "display_data"
    },
    {
     "data": {
      "image/png": "[encoded data removed]",
      "text/plain": [
       "<Figure size 432x432 with 1 Axes>"
      ]
     },
     "metadata": {
      "needs_background": "light"
     },
     "output_type": "display_data"
    },
    {
     "name": "stdout",
     "output_type": "stream",
     "text": [
      "    Done\n",
      ">>> Plotting Cluster_Size histogram...\n",
      "0 480.0\n"
     ]
    },
    {
     "data": {
      "text/plain": [
       "<Figure size 432x288 with 0 Axes>"
      ]
     },
     "metadata": {},
     "output_type": "display_data"
    },
    {
     "data": {
      "image/png": "[encoded data removed]",
      "text/plain": [
       "<Figure size 432x432 with 1 Axes>"
      ]
     },
     "metadata": {
      "needs_background": "light"
     },
     "output_type": "display_data"
    },
    {
     "name": "stdout",
     "output_type": "stream",
     "text": [
      "    Done\n"
     ]
    }
   ],
   "source": [
    "import matplotlib.pyplot as plt\n",
    "\n",
    "for feature in variablesTrain:\n",
    "    \n",
    "    print(\">>> Plotting \" + feature + \" histogram...\")\n",
    "\n",
    "    # Define the histogram binning\n",
    "    xmin = 0\n",
    "    #xmin = bkg_sel_test_Dt[feature].dropna().values.min()\n",
    "    xmax = 1.2*flat_df[(flat_df.y == 0)][feature].dropna().values.max()\n",
    "\n",
    "\n",
    "    # same x-axis\n",
    "    if 'Cluster_XSpread' in feature:\n",
    "        xmax = 200\n",
    "    elif 'Cluster_YSpread' in feature:\n",
    "        xmax = 200\n",
    "    elif 'Cluster_ZSpread' in feature:\n",
    "        xmax = 200\n",
    "    elif 'Cluster_XYSpread' in feature:\n",
    "        xmax = 130\n",
    "    elif 'Cluster_RSpread' in feature:\n",
    "        xmax = 130\n",
    "        \n",
    "    binning = np.linspace(xmin, xmax, 50) \n",
    "    print(xmin,xmax)\n",
    "    \n",
    "    # Plot and save the histogram\n",
    "    plt.clf()\n",
    "    fig = plt.figure(figsize =(6,6))\n",
    "    ax = fig.add_subplot(111)\n",
    "    ax.margins(x = 0)\n",
    "    \n",
    "    ax.hist(flat_df[(flat_df.y == 0)][feature].values, bins = binning, color = 'k', alpha = 0.4, histtype = 'stepfilled', \n",
    "             linewidth = 1, edgecolor = 'k', label = 'Background', density = True)\n",
    "    ax.hist(flat_df[(flat_df.y == 1)][feature].values, bins = binning, color = 'r', alpha = 0.3, histtype = 'stepfilled', \n",
    "             linewidth = 1, edgecolor = 'r', label = 'Signal', density = True)\n",
    "    ax.legend(loc = 'best', fontsize = 10)\n",
    "    ax.set_xlabel(feature, fontsize = 14)\n",
    "    ax.set_ylabel('Event density', fontsize = 14)\n",
    "    ax.tick_params(axis='both', which='both', direction='in', \n",
    "                   bottom=True, top=True, left=True, right=True, labelsize=12)\n",
    "    ax.ticklabel_format(style='sci', axis='y', scilimits=(0,0), useMathText = True)\n",
    "    fig.savefig('Plots_presentation_PlusbeamHalo/CSC_'+feature+'.png', dpi = 600)\n",
    "    plt.show()\n",
    "          \n",
    "    print(\"    Done\")"
   ]
  },
  {
   "cell_type": "code",
   "execution_count": 17,
   "metadata": {},
   "outputs": [
    {
     "name": "stdout",
     "output_type": "stream",
     "text": [
      "Model: \"model\"\n",
      "__________________________________________________________________________________________________\n",
      " Layer (type)                   Output Shape         Param #     Connected to                     \n",
      "==================================================================================================\n",
      " input_1 (InputLayer)           [(None, 14)]         0           []                               \n",
      "                                                                                                  \n",
      " dense (Dense)                  (None, 64)           960         ['input_1[0][0]']                \n",
      "                                                                                                  \n",
      " dense_1 (Dense)                (None, 64)           4160        ['dense[0][0]']                  \n",
      "                                                                                                  \n",
      " dense_2 (Dense)                (None, 32)           2080        ['dense_1[0][0]']                \n",
      "                                                                                                  \n",
      " dense_3 (Dense)                (None, 16)           528         ['dense_2[0][0]']                \n",
      "                                                                                                  \n",
      " dense_4 (Dense)                (None, 8)            136         ['dense_3[0][0]']                \n",
      "                                                                                                  \n",
      " input_2 (InputLayer)           [(None, 1)]          0           []                               \n",
      "                                                                                                  \n",
      " input_3 (InputLayer)           [(None, 17)]         0           []                               \n",
      "                                                                                                  \n",
      " dense_5 (Dense)                (None, 1)            9           ['dense_4[0][0]']                \n",
      "                                                                                                  \n",
      " dense_6 (Dense)                (None, 17)           34          ['dense_5[0][0]']                \n",
      "                                                                                                  \n",
      " tf.cast (TFOpLambda)           (None, 1)            0           ['input_2[0][0]']                \n",
      "                                                                                                  \n",
      " tf.convert_to_tensor (TFOpLamb  (None, 1)           0           ['dense_5[0][0]']                \n",
      " da)                                                                                              \n",
      "                                                                                                  \n",
      " tf.cast_1 (TFOpLambda)         (None, 17)           0           ['input_3[0][0]']                \n",
      "                                                                                                  \n",
      " tf.convert_to_tensor_3 (TFOpLa  (None, 17)          0           ['dense_6[0][0]']                \n",
      " mbda)                                                                                            \n",
      "                                                                                                  \n",
      " tf.keras.backend.binary_crosse  (None, 1)           0           ['tf.cast[0][0]',                \n",
      " ntropy (TFOpLambda)                                              'tf.convert_to_tensor[0][0]']   \n",
      "                                                                                                  \n",
      " tf.keras.backend.categorical_c  (None,)             0           ['tf.cast_1[0][0]',              \n",
      " rossentropy (TFOpLambda)                                         'tf.convert_to_tensor_3[0][0]'] \n",
      "                                                                                                  \n",
      " tf.math.reduce_mean (TFOpLambd  (None,)             0           ['tf.keras.backend.binary_crossen\n",
      " a)                                                              tropy[0][0]']                    \n",
      "                                                                                                  \n",
      " tf.math.multiply (TFOpLambda)  (None,)              0           ['tf.keras.backend.categorical_cr\n",
      "                                                                 ossentropy[0][0]']               \n",
      "                                                                                                  \n",
      " tf.math.subtract (TFOpLambda)  (None,)              0           ['tf.math.reduce_mean[0][0]',    \n",
      "                                                                  'tf.math.multiply[0][0]']       \n",
      "                                                                                                  \n",
      " add_loss (AddLoss)             (None,)              0           ['tf.math.subtract[0][0]']       \n",
      "                                                                                                  \n",
      "==================================================================================================\n",
      "Total params: 7,907\n",
      "Trainable params: 7,873\n",
      "Non-trainable params: 34\n",
      "__________________________________________________________________________________________________\n",
      "Epoch 1/1000\n",
      "214/214 [==============================] - 12s 50ms/step - loss: -57.6896 - accuracy: 0.7645 - val_loss: -57.8783 - val_accuracy: 0.7993\n",
      "Epoch 2/1000\n",
      "214/214 [==============================] - 1s 7ms/step - loss: -57.8861 - accuracy: 0.8048 - val_loss: -57.9071 - val_accuracy: 0.8067\n",
      "Epoch 3/1000\n",
      "214/214 [==============================] - 1s 7ms/step - loss: -57.9063 - accuracy: 0.8055 - val_loss: -57.9185 - val_accuracy: 0.8046\n",
      "Epoch 4/1000\n",
      "214/214 [==============================] - 1s 7ms/step - loss: -57.9157 - accuracy: 0.8057 - val_loss: -57.9257 - val_accuracy: 0.8043\n",
      "Epoch 5/1000\n",
      "214/214 [==============================] - 1s 7ms/step - loss: -57.9208 - accuracy: 0.8058 - val_loss: -57.9247 - val_accuracy: 0.8049\n",
      "Epoch 6/1000\n",
      "214/214 [==============================] - 1s 7ms/step - loss: -57.9227 - accuracy: 0.8058 - val_loss: -57.9315 - val_accuracy: 0.8052\n",
      "Epoch 7/1000\n",
      "214/214 [==============================] - 1s 7ms/step - loss: -57.9244 - accuracy: 0.8060 - val_loss: -57.9325 - val_accuracy: 0.8065\n",
      "Epoch 8/1000\n",
      "214/214 [==============================] - 1s 7ms/step - loss: -57.9265 - accuracy: 0.8060 - val_loss: -57.9284 - val_accuracy: 0.8085\n",
      "Epoch 9/1000\n",
      "214/214 [==============================] - 1s 7ms/step - loss: -57.9272 - accuracy: 0.8060 - val_loss: -57.9335 - val_accuracy: 0.8077\n",
      "Epoch 10/1000\n",
      "214/214 [==============================] - 1s 7ms/step - loss: -57.9295 - accuracy: 0.8060 - val_loss: -57.9363 - val_accuracy: 0.8056\n",
      "Epoch 11/1000\n",
      "214/214 [==============================] - 1s 7ms/step - loss: -57.9301 - accuracy: 0.8059 - val_loss: -57.9373 - val_accuracy: 0.8058\n",
      "Epoch 12/1000\n",
      "214/214 [==============================] - 1s 7ms/step - loss: -57.9323 - accuracy: 0.8059 - val_loss: -57.9403 - val_accuracy: 0.8052\n",
      "Epoch 13/1000\n",
      "214/214 [==============================] - 1s 7ms/step - loss: -57.9330 - accuracy: 0.8057 - val_loss: -57.9378 - val_accuracy: 0.8057\n",
      "Epoch 14/1000\n",
      "214/214 [==============================] - 1s 7ms/step - loss: -57.9353 - accuracy: 0.8061 - val_loss: -57.9413 - val_accuracy: 0.8056\n",
      "Epoch 15/1000\n",
      "214/214 [==============================] - 1s 7ms/step - loss: -57.9369 - accuracy: 0.8060 - val_loss: -57.9375 - val_accuracy: 0.8026\n",
      "Epoch 16/1000\n",
      "214/214 [==============================] - 1s 7ms/step - loss: -57.9386 - accuracy: 0.8057 - val_loss: -57.9411 - val_accuracy: 0.8056\n",
      "Epoch 17/1000\n",
      "214/214 [==============================] - 1s 7ms/step - loss: -57.9410 - accuracy: 0.8056 - val_loss: -57.9475 - val_accuracy: 0.8057\n",
      "Epoch 18/1000\n",
      "214/214 [==============================] - 1s 7ms/step - loss: -57.9418 - accuracy: 0.8056 - val_loss: -57.9500 - val_accuracy: 0.8052\n",
      "Epoch 19/1000\n",
      "214/214 [==============================] - 1s 7ms/step - loss: -57.9447 - accuracy: 0.8057 - val_loss: -57.9515 - val_accuracy: 0.8061\n",
      "Epoch 20/1000\n",
      "214/214 [==============================] - 1s 7ms/step - loss: -57.9466 - accuracy: 0.8055 - val_loss: -57.9543 - val_accuracy: 0.8059\n"
     ]
    },
    {
     "name": "stdout",
     "output_type": "stream",
     "text": [
      "Epoch 21/1000\n",
      "214/214 [==============================] - 1s 7ms/step - loss: -57.9472 - accuracy: 0.8055 - val_loss: -57.9540 - val_accuracy: 0.8058\n",
      "Epoch 22/1000\n",
      "214/214 [==============================] - 1s 7ms/step - loss: -57.9488 - accuracy: 0.8055 - val_loss: -57.9520 - val_accuracy: 0.8037\n",
      "Epoch 23/1000\n",
      "214/214 [==============================] - 1s 7ms/step - loss: -57.9497 - accuracy: 0.8054 - val_loss: -57.9542 - val_accuracy: 0.8064\n",
      "Epoch 24/1000\n",
      "214/214 [==============================] - 1s 7ms/step - loss: -57.9506 - accuracy: 0.8058 - val_loss: -57.9560 - val_accuracy: 0.8068\n",
      "Epoch 25/1000\n",
      "214/214 [==============================] - 1s 7ms/step - loss: -57.9518 - accuracy: 0.8054 - val_loss: -57.9554 - val_accuracy: 0.8071\n",
      "Epoch 26/1000\n",
      "214/214 [==============================] - 1s 7ms/step - loss: -57.9523 - accuracy: 0.8054 - val_loss: -57.9566 - val_accuracy: 0.8070\n",
      "Epoch 27/1000\n",
      "214/214 [==============================] - 1s 7ms/step - loss: -57.9539 - accuracy: 0.8056 - val_loss: -57.9561 - val_accuracy: 0.8080\n",
      "Epoch 28/1000\n",
      "214/214 [==============================] - 1s 7ms/step - loss: -57.9538 - accuracy: 0.8057 - val_loss: -57.9568 - val_accuracy: 0.8063\n",
      "Epoch 29/1000\n",
      "214/214 [==============================] - 1s 7ms/step - loss: -57.9553 - accuracy: 0.8055 - val_loss: -57.9577 - val_accuracy: 0.8065\n",
      "Epoch 30/1000\n",
      "214/214 [==============================] - 1s 7ms/step - loss: -57.9542 - accuracy: 0.8056 - val_loss: -57.9603 - val_accuracy: 0.8035\n",
      "Epoch 31/1000\n",
      "214/214 [==============================] - 1s 7ms/step - loss: -57.9559 - accuracy: 0.8054 - val_loss: -57.9592 - val_accuracy: 0.8038\n",
      "Epoch 32/1000\n",
      "214/214 [==============================] - 1s 7ms/step - loss: -57.9564 - accuracy: 0.8055 - val_loss: -57.9598 - val_accuracy: 0.8064\n",
      "Epoch 33/1000\n",
      "214/214 [==============================] - 1s 7ms/step - loss: -57.9566 - accuracy: 0.8057 - val_loss: -57.9603 - val_accuracy: 0.8064\n",
      "Epoch 34/1000\n",
      "214/214 [==============================] - 1s 7ms/step - loss: -57.9576 - accuracy: 0.8056 - val_loss: -57.9599 - val_accuracy: 0.8053\n",
      "Epoch 35/1000\n",
      "214/214 [==============================] - 1s 7ms/step - loss: -57.9581 - accuracy: 0.8056 - val_loss: -57.9608 - val_accuracy: 0.8064\n",
      "Epoch 36/1000\n",
      "214/214 [==============================] - 1s 7ms/step - loss: -57.9584 - accuracy: 0.8056 - val_loss: -57.9617 - val_accuracy: 0.8068\n",
      "Epoch 37/1000\n",
      "214/214 [==============================] - 1s 7ms/step - loss: -57.9584 - accuracy: 0.8056 - val_loss: -57.9610 - val_accuracy: 0.8049\n",
      "Epoch 38/1000\n",
      "214/214 [==============================] - 1s 7ms/step - loss: -57.9595 - accuracy: 0.8054 - val_loss: -57.9611 - val_accuracy: 0.8066\n",
      "Epoch 39/1000\n",
      "214/214 [==============================] - 1s 7ms/step - loss: -57.9593 - accuracy: 0.8055 - val_loss: -57.9637 - val_accuracy: 0.8066\n",
      "Epoch 40/1000\n",
      "214/214 [==============================] - 1s 7ms/step - loss: -57.9593 - accuracy: 0.8056 - val_loss: -57.9628 - val_accuracy: 0.8052\n",
      "Epoch 41/1000\n",
      "214/214 [==============================] - 1s 7ms/step - loss: -57.9605 - accuracy: 0.8054 - val_loss: -57.9636 - val_accuracy: 0.8062\n",
      "Epoch 42/1000\n",
      "214/214 [==============================] - 1s 7ms/step - loss: -57.9598 - accuracy: 0.8056 - val_loss: -57.9644 - val_accuracy: 0.8065\n",
      "Epoch 43/1000\n",
      "214/214 [==============================] - 1s 7ms/step - loss: -57.9611 - accuracy: 0.8056 - val_loss: -57.9640 - val_accuracy: 0.8048\n",
      "Epoch 44/1000\n",
      "214/214 [==============================] - 1s 7ms/step - loss: -57.9613 - accuracy: 0.8055 - val_loss: -57.9630 - val_accuracy: 0.8059\n",
      "Epoch 45/1000\n",
      "214/214 [==============================] - 1s 7ms/step - loss: -57.9620 - accuracy: 0.8056 - val_loss: -57.9639 - val_accuracy: 0.8062\n",
      "Epoch 46/1000\n",
      "214/214 [==============================] - 1s 7ms/step - loss: -57.9625 - accuracy: 0.8056 - val_loss: -57.9616 - val_accuracy: 0.8063\n",
      "Epoch 47/1000\n",
      "214/214 [==============================] - 1s 7ms/step - loss: -57.9608 - accuracy: 0.8056 - val_loss: -57.9630 - val_accuracy: 0.8046\n",
      "Epoch 48/1000\n",
      "214/214 [==============================] - 1s 7ms/step - loss: -57.9628 - accuracy: 0.8055 - val_loss: -57.9642 - val_accuracy: 0.8066\n",
      "Epoch 49/1000\n",
      "214/214 [==============================] - 1s 7ms/step - loss: -57.9631 - accuracy: 0.8055 - val_loss: -57.9597 - val_accuracy: 0.8069\n",
      "Epoch 50/1000\n",
      "214/214 [==============================] - 1s 7ms/step - loss: -57.9637 - accuracy: 0.8056 - val_loss: -57.9659 - val_accuracy: 0.8060\n",
      "Epoch 51/1000\n",
      "214/214 [==============================] - 1s 7ms/step - loss: -57.9633 - accuracy: 0.8055 - val_loss: -57.9627 - val_accuracy: 0.8070\n",
      "Epoch 52/1000\n",
      "214/214 [==============================] - 1s 7ms/step - loss: -57.9644 - accuracy: 0.8058 - val_loss: -57.9648 - val_accuracy: 0.8066\n",
      "Epoch 53/1000\n",
      "214/214 [==============================] - 1s 7ms/step - loss: -57.9640 - accuracy: 0.8056 - val_loss: -57.9648 - val_accuracy: 0.8039\n",
      "Epoch 54/1000\n",
      "214/214 [==============================] - 1s 7ms/step - loss: -57.9643 - accuracy: 0.8055 - val_loss: -57.9640 - val_accuracy: 0.8057\n",
      "Epoch 55/1000\n",
      "214/214 [==============================] - 1s 7ms/step - loss: -57.9652 - accuracy: 0.8056 - val_loss: -57.9631 - val_accuracy: 0.8067\n",
      "Epoch 56/1000\n",
      "214/214 [==============================] - 1s 7ms/step - loss: -57.9653 - accuracy: 0.8055 - val_loss: -57.9649 - val_accuracy: 0.8044\n",
      "Epoch 57/1000\n",
      "214/214 [==============================] - 1s 7ms/step - loss: -57.9651 - accuracy: 0.8057 - val_loss: -57.9652 - val_accuracy: 0.8056\n",
      "Epoch 58/1000\n",
      "214/214 [==============================] - 1s 7ms/step - loss: -57.9660 - accuracy: 0.8056 - val_loss: -57.9668 - val_accuracy: 0.8058\n",
      "Epoch 59/1000\n",
      "214/214 [==============================] - 1s 7ms/step - loss: -57.9663 - accuracy: 0.8059 - val_loss: -57.9638 - val_accuracy: 0.8061\n",
      "Epoch 60/1000\n",
      "214/214 [==============================] - 1s 7ms/step - loss: -57.9662 - accuracy: 0.8055 - val_loss: -57.9654 - val_accuracy: 0.8040\n",
      "Epoch 61/1000\n",
      "214/214 [==============================] - 1s 7ms/step - loss: -57.9657 - accuracy: 0.8057 - val_loss: -57.9664 - val_accuracy: 0.8043\n",
      "Epoch 62/1000\n",
      "214/214 [==============================] - 1s 7ms/step - loss: -57.9671 - accuracy: 0.8056 - val_loss: -57.9671 - val_accuracy: 0.8068\n",
      "Epoch 63/1000\n",
      "214/214 [==============================] - 1s 7ms/step - loss: -57.9662 - accuracy: 0.8057 - val_loss: -57.9666 - val_accuracy: 0.8067\n",
      "Epoch 64/1000\n",
      "214/214 [==============================] - 1s 7ms/step - loss: -57.9674 - accuracy: 0.8056 - val_loss: -57.9676 - val_accuracy: 0.8051\n",
      "Epoch 65/1000\n",
      "214/214 [==============================] - 1s 7ms/step - loss: -57.9677 - accuracy: 0.8059 - val_loss: -57.9666 - val_accuracy: 0.8036\n",
      "Epoch 66/1000\n",
      "214/214 [==============================] - 1s 7ms/step - loss: -57.9678 - accuracy: 0.8056 - val_loss: -57.9654 - val_accuracy: 0.8073\n",
      "Epoch 67/1000\n",
      "214/214 [==============================] - 1s 7ms/step - loss: -57.9679 - accuracy: 0.8056 - val_loss: -57.9672 - val_accuracy: 0.8068\n",
      "Epoch 68/1000\n",
      "214/214 [==============================] - 1s 7ms/step - loss: -57.9687 - accuracy: 0.8057 - val_loss: -57.9654 - val_accuracy: 0.8019\n",
      "Epoch 69/1000\n",
      "214/214 [==============================] - 1s 7ms/step - loss: -57.9686 - accuracy: 0.8057 - val_loss: -57.9682 - val_accuracy: 0.8055\n",
      "Epoch 70/1000\n",
      "214/214 [==============================] - 1s 7ms/step - loss: -57.9692 - accuracy: 0.8057 - val_loss: -57.9661 - val_accuracy: 0.8067\n",
      "Epoch 71/1000\n",
      "214/214 [==============================] - 1s 7ms/step - loss: -57.9692 - accuracy: 0.8061 - val_loss: -57.9675 - val_accuracy: 0.8056\n",
      "Epoch 72/1000\n",
      "214/214 [==============================] - 1s 7ms/step - loss: -57.9695 - accuracy: 0.8061 - val_loss: -57.9680 - val_accuracy: 0.8071\n",
      "Epoch 73/1000\n",
      "214/214 [==============================] - 1s 7ms/step - loss: -57.9698 - accuracy: 0.8059 - val_loss: -57.9661 - val_accuracy: 0.8063\n",
      "Epoch 74/1000\n",
      "214/214 [==============================] - 1s 7ms/step - loss: -57.9691 - accuracy: 0.8062 - val_loss: -57.9685 - val_accuracy: 0.8055\n",
      "Epoch 75/1000\n",
      "214/214 [==============================] - 1s 7ms/step - loss: -57.9705 - accuracy: 0.8060 - val_loss: -57.9684 - val_accuracy: 0.8042\n"
     ]
    },
    {
     "name": "stdout",
     "output_type": "stream",
     "text": [
      "Epoch 76/1000\n",
      "214/214 [==============================] - 1s 7ms/step - loss: -57.9706 - accuracy: 0.8062 - val_loss: -57.9659 - val_accuracy: 0.8067\n",
      "Epoch 77/1000\n",
      "214/214 [==============================] - 1s 7ms/step - loss: -57.9704 - accuracy: 0.8061 - val_loss: -57.9661 - val_accuracy: 0.8090\n",
      "Epoch 78/1000\n",
      "214/214 [==============================] - 1s 7ms/step - loss: -57.9711 - accuracy: 0.8064 - val_loss: -57.9665 - val_accuracy: 0.8071\n",
      "Epoch 79/1000\n",
      "214/214 [==============================] - 1s 7ms/step - loss: -57.9717 - accuracy: 0.8062 - val_loss: -57.9692 - val_accuracy: 0.8065\n",
      "Epoch 80/1000\n",
      "214/214 [==============================] - 1s 7ms/step - loss: -57.9707 - accuracy: 0.8062 - val_loss: -57.9666 - val_accuracy: 0.8069\n",
      "Epoch 81/1000\n",
      "214/214 [==============================] - 1s 7ms/step - loss: -57.9720 - accuracy: 0.8063 - val_loss: -57.9680 - val_accuracy: 0.8080\n",
      "Epoch 82/1000\n",
      "214/214 [==============================] - 1s 7ms/step - loss: -57.9720 - accuracy: 0.8065 - val_loss: -57.9668 - val_accuracy: 0.8085\n",
      "Epoch 83/1000\n",
      "214/214 [==============================] - 1s 7ms/step - loss: -57.9720 - accuracy: 0.8063 - val_loss: -57.9686 - val_accuracy: 0.8056\n",
      "Epoch 84/1000\n",
      "214/214 [==============================] - 1s 7ms/step - loss: -57.9716 - accuracy: 0.8068 - val_loss: -57.9676 - val_accuracy: 0.8050\n",
      "Epoch 85/1000\n",
      "214/214 [==============================] - 1s 7ms/step - loss: -57.9726 - accuracy: 0.8064 - val_loss: -57.9699 - val_accuracy: 0.8058\n",
      "Epoch 86/1000\n",
      "214/214 [==============================] - 1s 7ms/step - loss: -57.9718 - accuracy: 0.8061 - val_loss: -57.9704 - val_accuracy: 0.8077\n",
      "Epoch 87/1000\n",
      "214/214 [==============================] - 1s 7ms/step - loss: -57.9728 - accuracy: 0.8064 - val_loss: -57.9658 - val_accuracy: 0.8086\n",
      "Epoch 88/1000\n",
      "214/214 [==============================] - 1s 7ms/step - loss: -57.9728 - accuracy: 0.8068 - val_loss: -57.9675 - val_accuracy: 0.8063\n",
      "Epoch 89/1000\n",
      "214/214 [==============================] - 1s 7ms/step - loss: -57.9733 - accuracy: 0.8066 - val_loss: -57.9701 - val_accuracy: 0.8083\n",
      "Epoch 90/1000\n",
      "214/214 [==============================] - 1s 7ms/step - loss: -57.9736 - accuracy: 0.8065 - val_loss: -57.9670 - val_accuracy: 0.8072\n",
      "Epoch 91/1000\n",
      "214/214 [==============================] - 1s 7ms/step - loss: -57.9734 - accuracy: 0.8066 - val_loss: -57.9693 - val_accuracy: 0.8070\n",
      "Epoch 92/1000\n",
      "214/214 [==============================] - 1s 7ms/step - loss: -57.9731 - accuracy: 0.8065 - val_loss: -57.9679 - val_accuracy: 0.8066\n",
      "Epoch 93/1000\n",
      "214/214 [==============================] - 1s 7ms/step - loss: -57.9738 - accuracy: 0.8066 - val_loss: -57.9696 - val_accuracy: 0.8068\n",
      "Epoch 94/1000\n",
      "214/214 [==============================] - 1s 7ms/step - loss: -57.9746 - accuracy: 0.8065 - val_loss: -57.9708 - val_accuracy: 0.8077\n",
      "Epoch 95/1000\n",
      "214/214 [==============================] - 1s 7ms/step - loss: -57.9742 - accuracy: 0.8065 - val_loss: -57.9684 - val_accuracy: 0.8049\n",
      "Epoch 96/1000\n",
      "214/214 [==============================] - 1s 7ms/step - loss: -57.9742 - accuracy: 0.8065 - val_loss: -57.9686 - val_accuracy: 0.8064\n",
      "Epoch 97/1000\n",
      "214/214 [==============================] - 1s 7ms/step - loss: -57.9751 - accuracy: 0.8067 - val_loss: -57.9667 - val_accuracy: 0.8090\n",
      "Epoch 98/1000\n",
      "214/214 [==============================] - 1s 7ms/step - loss: -57.9747 - accuracy: 0.8067 - val_loss: -57.9703 - val_accuracy: 0.8092\n",
      "Epoch 99/1000\n",
      "214/214 [==============================] - 1s 7ms/step - loss: -57.9750 - accuracy: 0.8064 - val_loss: -57.9697 - val_accuracy: 0.8064\n",
      "Epoch 100/1000\n",
      "214/214 [==============================] - 1s 7ms/step - loss: -57.9753 - accuracy: 0.8068 - val_loss: -57.9689 - val_accuracy: 0.8068\n",
      "Epoch 101/1000\n",
      "214/214 [==============================] - 1s 7ms/step - loss: -57.9756 - accuracy: 0.8065 - val_loss: -57.9712 - val_accuracy: 0.8059\n",
      "Epoch 102/1000\n",
      "214/214 [==============================] - 1s 7ms/step - loss: -57.9749 - accuracy: 0.8068 - val_loss: -57.9719 - val_accuracy: 0.8063\n",
      "Epoch 103/1000\n",
      "214/214 [==============================] - 1s 7ms/step - loss: -57.9760 - accuracy: 0.8066 - val_loss: -57.9727 - val_accuracy: 0.8065\n",
      "Epoch 104/1000\n",
      "214/214 [==============================] - 1s 7ms/step - loss: -57.9760 - accuracy: 0.8066 - val_loss: -57.9726 - val_accuracy: 0.8042\n",
      "Epoch 105/1000\n",
      "214/214 [==============================] - 1s 7ms/step - loss: -57.9760 - accuracy: 0.8068 - val_loss: -57.9695 - val_accuracy: 0.8047\n",
      "Epoch 106/1000\n",
      "214/214 [==============================] - 1s 7ms/step - loss: -57.9766 - accuracy: 0.8068 - val_loss: -57.9721 - val_accuracy: 0.8061\n",
      "Epoch 107/1000\n",
      "214/214 [==============================] - 1s 7ms/step - loss: -57.9762 - accuracy: 0.8068 - val_loss: -57.9717 - val_accuracy: 0.8076\n",
      "Epoch 108/1000\n",
      "214/214 [==============================] - 1s 7ms/step - loss: -57.9765 - accuracy: 0.8068 - val_loss: -57.9725 - val_accuracy: 0.8063\n",
      "Epoch 109/1000\n",
      "214/214 [==============================] - 1s 7ms/step - loss: -57.9768 - accuracy: 0.8067 - val_loss: -57.9721 - val_accuracy: 0.8069\n",
      "Epoch 110/1000\n",
      "214/214 [==============================] - 1s 7ms/step - loss: -57.9769 - accuracy: 0.8065 - val_loss: -57.9727 - val_accuracy: 0.8045\n",
      "Epoch 111/1000\n",
      "214/214 [==============================] - 1s 7ms/step - loss: -57.9771 - accuracy: 0.8067 - val_loss: -57.9717 - val_accuracy: 0.8081\n",
      "Epoch 112/1000\n",
      "214/214 [==============================] - 1s 7ms/step - loss: -57.9768 - accuracy: 0.8070 - val_loss: -57.9710 - val_accuracy: 0.8070\n",
      "Epoch 113/1000\n",
      "214/214 [==============================] - 1s 7ms/step - loss: -57.9770 - accuracy: 0.8063 - val_loss: -57.9708 - val_accuracy: 0.8079\n",
      "Epoch 114/1000\n",
      "214/214 [==============================] - 1s 7ms/step - loss: -57.9769 - accuracy: 0.8069 - val_loss: -57.9730 - val_accuracy: 0.8048\n",
      "Epoch 115/1000\n",
      "214/214 [==============================] - 1s 7ms/step - loss: -57.9775 - accuracy: 0.8070 - val_loss: -57.9722 - val_accuracy: 0.8064\n",
      "Epoch 116/1000\n",
      "214/214 [==============================] - 1s 7ms/step - loss: -57.9772 - accuracy: 0.8068 - val_loss: -57.9715 - val_accuracy: 0.8046\n",
      "Epoch 117/1000\n",
      "214/214 [==============================] - 1s 7ms/step - loss: -57.9777 - accuracy: 0.8070 - val_loss: -57.9718 - val_accuracy: 0.8067\n",
      "Epoch 118/1000\n",
      "214/214 [==============================] - 1s 7ms/step - loss: -57.9780 - accuracy: 0.8068 - val_loss: -57.9715 - val_accuracy: 0.8077\n",
      "Epoch 119/1000\n",
      "214/214 [==============================] - 1s 7ms/step - loss: -57.9781 - accuracy: 0.8064 - val_loss: -57.9734 - val_accuracy: 0.8041\n",
      "Epoch 120/1000\n",
      "214/214 [==============================] - 1s 7ms/step - loss: -57.9786 - accuracy: 0.8067 - val_loss: -57.9731 - val_accuracy: 0.8067\n",
      "Epoch 121/1000\n",
      "214/214 [==============================] - 2s 7ms/step - loss: -57.9791 - accuracy: 0.8067 - val_loss: -57.9736 - val_accuracy: 0.8063\n",
      "Epoch 122/1000\n",
      "214/214 [==============================] - 1s 7ms/step - loss: -57.9789 - accuracy: 0.8071 - val_loss: -57.9697 - val_accuracy: 0.8079\n",
      "Epoch 123/1000\n",
      "214/214 [==============================] - 1s 7ms/step - loss: -57.9787 - accuracy: 0.8069 - val_loss: -57.9729 - val_accuracy: 0.8065\n",
      "Epoch 124/1000\n",
      "214/214 [==============================] - 1s 7ms/step - loss: -57.9797 - accuracy: 0.8068 - val_loss: -57.9715 - val_accuracy: 0.8087\n",
      "Epoch 125/1000\n",
      "214/214 [==============================] - 1s 7ms/step - loss: -57.9793 - accuracy: 0.8068 - val_loss: -57.9743 - val_accuracy: 0.8059\n",
      "Epoch 126/1000\n",
      "214/214 [==============================] - 1s 7ms/step - loss: -57.9789 - accuracy: 0.8069 - val_loss: -57.9741 - val_accuracy: 0.8075\n",
      "Epoch 127/1000\n",
      "214/214 [==============================] - 1s 7ms/step - loss: -57.9794 - accuracy: 0.8068 - val_loss: -57.9738 - val_accuracy: 0.8071\n",
      "Epoch 128/1000\n",
      "214/214 [==============================] - 1s 7ms/step - loss: -57.9793 - accuracy: 0.8068 - val_loss: -57.9737 - val_accuracy: 0.8058\n",
      "Epoch 129/1000\n",
      "214/214 [==============================] - 1s 7ms/step - loss: -57.9801 - accuracy: 0.8068 - val_loss: -57.9740 - val_accuracy: 0.8050\n",
      "Epoch 130/1000\n",
      "214/214 [==============================] - 1s 7ms/step - loss: -57.9806 - accuracy: 0.8068 - val_loss: -57.9718 - val_accuracy: 0.8086\n"
     ]
    },
    {
     "name": "stdout",
     "output_type": "stream",
     "text": [
      "Epoch 131/1000\n",
      "214/214 [==============================] - 1s 7ms/step - loss: -57.9801 - accuracy: 0.8070 - val_loss: -57.9742 - val_accuracy: 0.8071\n",
      "Epoch 132/1000\n",
      "214/214 [==============================] - 1s 7ms/step - loss: -57.9804 - accuracy: 0.8070 - val_loss: -57.9698 - val_accuracy: 0.8091\n",
      "Epoch 133/1000\n",
      "214/214 [==============================] - 1s 7ms/step - loss: -57.9800 - accuracy: 0.8071 - val_loss: -57.9725 - val_accuracy: 0.8078\n",
      "Epoch 134/1000\n",
      "214/214 [==============================] - 1s 7ms/step - loss: -57.9811 - accuracy: 0.8070 - val_loss: -57.9747 - val_accuracy: 0.8066\n",
      "Epoch 135/1000\n",
      "214/214 [==============================] - 1s 7ms/step - loss: -57.9804 - accuracy: 0.8070 - val_loss: -57.9717 - val_accuracy: 0.8051\n",
      "Epoch 136/1000\n",
      "214/214 [==============================] - 1s 7ms/step - loss: -57.9814 - accuracy: 0.8071 - val_loss: -57.9721 - val_accuracy: 0.8062\n",
      "Epoch 137/1000\n",
      "214/214 [==============================] - 1s 7ms/step - loss: -57.9808 - accuracy: 0.8073 - val_loss: -57.9760 - val_accuracy: 0.8055\n",
      "Epoch 138/1000\n",
      "214/214 [==============================] - 1s 7ms/step - loss: -57.9814 - accuracy: 0.8070 - val_loss: -57.9723 - val_accuracy: 0.8078\n",
      "Epoch 139/1000\n",
      "214/214 [==============================] - 1s 7ms/step - loss: -57.9815 - accuracy: 0.8069 - val_loss: -57.9718 - val_accuracy: 0.8085\n",
      "Epoch 140/1000\n",
      "214/214 [==============================] - 1s 7ms/step - loss: -57.9813 - accuracy: 0.8071 - val_loss: -57.9724 - val_accuracy: 0.8084\n",
      "Epoch 141/1000\n",
      "214/214 [==============================] - 1s 7ms/step - loss: -57.9814 - accuracy: 0.8071 - val_loss: -57.9730 - val_accuracy: 0.8069\n",
      "Epoch 142/1000\n",
      "214/214 [==============================] - 1s 7ms/step - loss: -57.9820 - accuracy: 0.8070 - val_loss: -57.9749 - val_accuracy: 0.8076\n",
      "Epoch 143/1000\n",
      "214/214 [==============================] - 1s 7ms/step - loss: -57.9820 - accuracy: 0.8070 - val_loss: -57.9728 - val_accuracy: 0.8084\n",
      "Epoch 144/1000\n",
      "214/214 [==============================] - 1s 7ms/step - loss: -57.9821 - accuracy: 0.8071 - val_loss: -57.9734 - val_accuracy: 0.8077\n",
      "Epoch 145/1000\n",
      "214/214 [==============================] - 1s 7ms/step - loss: -57.9826 - accuracy: 0.8070 - val_loss: -57.9747 - val_accuracy: 0.8067\n",
      "Epoch 146/1000\n",
      "214/214 [==============================] - 1s 7ms/step - loss: -57.9827 - accuracy: 0.8070 - val_loss: -57.9754 - val_accuracy: 0.8045\n",
      "Epoch 147/1000\n",
      "214/214 [==============================] - 1s 7ms/step - loss: -57.9826 - accuracy: 0.8072 - val_loss: -57.9729 - val_accuracy: 0.8062\n",
      "Epoch 148/1000\n",
      "214/214 [==============================] - 1s 7ms/step - loss: -57.9823 - accuracy: 0.8070 - val_loss: -57.9756 - val_accuracy: 0.8059\n",
      "Epoch 149/1000\n",
      "214/214 [==============================] - 1s 7ms/step - loss: -57.9828 - accuracy: 0.8069 - val_loss: -57.9749 - val_accuracy: 0.8059\n",
      "Epoch 150/1000\n",
      "214/214 [==============================] - 1s 7ms/step - loss: -57.9831 - accuracy: 0.8070 - val_loss: -57.9728 - val_accuracy: 0.8080\n",
      "Epoch 151/1000\n",
      "214/214 [==============================] - 1s 7ms/step - loss: -57.9827 - accuracy: 0.8072 - val_loss: -57.9729 - val_accuracy: 0.8064\n",
      "Epoch 152/1000\n",
      "214/214 [==============================] - 1s 7ms/step - loss: -57.9832 - accuracy: 0.8071 - val_loss: -57.9756 - val_accuracy: 0.8070\n",
      "Epoch 153/1000\n",
      "214/214 [==============================] - 1s 7ms/step - loss: -57.9837 - accuracy: 0.8072 - val_loss: -57.9743 - val_accuracy: 0.8060\n",
      "Epoch 154/1000\n",
      "214/214 [==============================] - 1s 7ms/step - loss: -57.9835 - accuracy: 0.8071 - val_loss: -57.9744 - val_accuracy: 0.8071\n",
      "Epoch 155/1000\n",
      "214/214 [==============================] - 1s 7ms/step - loss: -57.9839 - accuracy: 0.8070 - val_loss: -57.9720 - val_accuracy: 0.8060\n",
      "Epoch 156/1000\n",
      "214/214 [==============================] - 1s 7ms/step - loss: -57.9841 - accuracy: 0.8074 - val_loss: -57.9726 - val_accuracy: 0.8074\n",
      "Epoch 157/1000\n",
      "214/214 [==============================] - 1s 7ms/step - loss: -57.9834 - accuracy: 0.8072 - val_loss: -57.9727 - val_accuracy: 0.8075\n",
      "Epoch 158/1000\n",
      "214/214 [==============================] - 1s 7ms/step - loss: -57.9839 - accuracy: 0.8071 - val_loss: -57.9762 - val_accuracy: 0.8083\n",
      "Epoch 159/1000\n",
      "214/214 [==============================] - 1s 7ms/step - loss: -57.9838 - accuracy: 0.8071 - val_loss: -57.9771 - val_accuracy: 0.8053\n",
      "Epoch 160/1000\n",
      "214/214 [==============================] - 1s 7ms/step - loss: -57.9844 - accuracy: 0.8072 - val_loss: -57.9754 - val_accuracy: 0.8061\n",
      "Epoch 161/1000\n",
      "214/214 [==============================] - 1s 7ms/step - loss: -57.9850 - accuracy: 0.8072 - val_loss: -57.9749 - val_accuracy: 0.8085\n",
      "Epoch 162/1000\n",
      "214/214 [==============================] - 1s 7ms/step - loss: -57.9846 - accuracy: 0.8071 - val_loss: -57.9767 - val_accuracy: 0.8063\n",
      "Epoch 163/1000\n",
      "214/214 [==============================] - 1s 7ms/step - loss: -57.9851 - accuracy: 0.8074 - val_loss: -57.9737 - val_accuracy: 0.8074\n",
      "Epoch 164/1000\n",
      "214/214 [==============================] - 1s 7ms/step - loss: -57.9846 - accuracy: 0.8071 - val_loss: -57.9771 - val_accuracy: 0.8064\n",
      "Epoch 165/1000\n",
      "214/214 [==============================] - 1s 7ms/step - loss: -57.9848 - accuracy: 0.8073 - val_loss: -57.9758 - val_accuracy: 0.8063\n",
      "Epoch 166/1000\n",
      "214/214 [==============================] - 1s 7ms/step - loss: -57.9847 - accuracy: 0.8070 - val_loss: -57.9745 - val_accuracy: 0.8049\n",
      "Epoch 167/1000\n",
      "214/214 [==============================] - 1s 7ms/step - loss: -57.9851 - accuracy: 0.8073 - val_loss: -57.9764 - val_accuracy: 0.8068\n",
      "Epoch 168/1000\n",
      "214/214 [==============================] - 1s 7ms/step - loss: -57.9860 - accuracy: 0.8072 - val_loss: -57.9754 - val_accuracy: 0.8064\n",
      "Epoch 169/1000\n",
      "214/214 [==============================] - 1s 7ms/step - loss: -57.9855 - accuracy: 0.8067 - val_loss: -57.9761 - val_accuracy: 0.8051\n",
      "Epoch 170/1000\n",
      "214/214 [==============================] - 1s 7ms/step - loss: -57.9852 - accuracy: 0.8071 - val_loss: -57.9730 - val_accuracy: 0.8072\n",
      "Epoch 171/1000\n",
      "214/214 [==============================] - 1s 7ms/step - loss: -57.9857 - accuracy: 0.8073 - val_loss: -57.9756 - val_accuracy: 0.8076\n",
      "Epoch 172/1000\n",
      "214/214 [==============================] - 1s 7ms/step - loss: -57.9859 - accuracy: 0.8072 - val_loss: -57.9759 - val_accuracy: 0.8056\n",
      "Epoch 173/1000\n",
      "214/214 [==============================] - 1s 7ms/step - loss: -57.9854 - accuracy: 0.8073 - val_loss: -57.9770 - val_accuracy: 0.8044\n",
      "Epoch 174/1000\n",
      "214/214 [==============================] - 1s 7ms/step - loss: -57.9859 - accuracy: 0.8070 - val_loss: -57.9758 - val_accuracy: 0.8072\n",
      "Epoch 175/1000\n",
      "214/214 [==============================] - 1s 7ms/step - loss: -57.9862 - accuracy: 0.8074 - val_loss: -57.9742 - val_accuracy: 0.8058\n",
      "Epoch 176/1000\n",
      "214/214 [==============================] - 1s 7ms/step - loss: -57.9859 - accuracy: 0.8070 - val_loss: -57.9751 - val_accuracy: 0.8082\n",
      "Epoch 177/1000\n",
      "214/214 [==============================] - 1s 7ms/step - loss: -57.9862 - accuracy: 0.8070 - val_loss: -57.9739 - val_accuracy: 0.8071\n",
      "Epoch 178/1000\n",
      "214/214 [==============================] - 1s 7ms/step - loss: -57.9862 - accuracy: 0.8070 - val_loss: -57.9730 - val_accuracy: 0.8092\n",
      "Epoch 179/1000\n",
      "214/214 [==============================] - 1s 7ms/step - loss: -57.9863 - accuracy: 0.8076 - val_loss: -57.9748 - val_accuracy: 0.8067\n",
      "Epoch 180/1000\n",
      "214/214 [==============================] - 1s 7ms/step - loss: -57.9873 - accuracy: 0.8073 - val_loss: -57.9750 - val_accuracy: 0.8080\n",
      "Epoch 181/1000\n",
      "214/214 [==============================] - 1s 7ms/step - loss: -57.9865 - accuracy: 0.8072 - val_loss: -57.9756 - val_accuracy: 0.8077\n",
      "Epoch 182/1000\n",
      "214/214 [==============================] - 1s 7ms/step - loss: -57.9867 - accuracy: 0.8073 - val_loss: -57.9769 - val_accuracy: 0.8064\n",
      "Epoch 183/1000\n",
      "214/214 [==============================] - 1s 7ms/step - loss: -57.9872 - accuracy: 0.8072 - val_loss: -57.9749 - val_accuracy: 0.8065\n",
      "Epoch 184/1000\n",
      "214/214 [==============================] - 1s 7ms/step - loss: -57.9873 - accuracy: 0.8074 - val_loss: -57.9760 - val_accuracy: 0.8074\n",
      "Epoch 185/1000\n",
      "214/214 [==============================] - 1s 7ms/step - loss: -57.9877 - accuracy: 0.8069 - val_loss: -57.9783 - val_accuracy: 0.8055\n",
      "Epoch 186/1000\n",
      "214/214 [==============================] - 1s 7ms/step - loss: -57.9873 - accuracy: 0.8075 - val_loss: -57.9753 - val_accuracy: 0.8073\n",
      "Epoch 187/1000\n",
      "214/214 [==============================] - 1s 7ms/step - loss: -57.9873 - accuracy: 0.8073 - val_loss: -57.9747 - val_accuracy: 0.8051\n",
      "Epoch 188/1000\n",
      "214/214 [==============================] - 1s 7ms/step - loss: -57.9872 - accuracy: 0.8069 - val_loss: -57.9747 - val_accuracy: 0.8063\n",
      "Epoch 189/1000\n",
      "214/214 [==============================] - 1s 7ms/step - loss: -57.9879 - accuracy: 0.8072 - val_loss: -57.9745 - val_accuracy: 0.8075\n",
      "Epoch 190/1000\n",
      "214/214 [==============================] - 1s 7ms/step - loss: -57.9870 - accuracy: 0.8071 - val_loss: -57.9765 - val_accuracy: 0.8063\n",
      "Epoch 191/1000\n",
      "214/214 [==============================] - 1s 7ms/step - loss: -57.9879 - accuracy: 0.8072 - val_loss: -57.9739 - val_accuracy: 0.8081\n",
      "Epoch 192/1000\n",
      "214/214 [==============================] - 1s 7ms/step - loss: -57.9877 - accuracy: 0.8072 - val_loss: -57.9764 - val_accuracy: 0.8074\n",
      "Epoch 193/1000\n",
      "214/214 [==============================] - 1s 7ms/step - loss: -57.9880 - accuracy: 0.8072 - val_loss: -57.9752 - val_accuracy: 0.8079\n",
      "Epoch 194/1000\n",
      "214/214 [==============================] - 1s 7ms/step - loss: -57.9876 - accuracy: 0.8070 - val_loss: -57.9763 - val_accuracy: 0.8079\n",
      "Epoch 195/1000\n",
      "214/214 [==============================] - 1s 7ms/step - loss: -57.9878 - accuracy: 0.8075 - val_loss: -57.9765 - val_accuracy: 0.8061\n",
      "Epoch 196/1000\n",
      "214/214 [==============================] - 1s 7ms/step - loss: -57.9878 - accuracy: 0.8072 - val_loss: -57.9755 - val_accuracy: 0.8065\n",
      "Epoch 197/1000\n",
      "214/214 [==============================] - 1s 7ms/step - loss: -57.9877 - accuracy: 0.8069 - val_loss: -57.9742 - val_accuracy: 0.8031\n",
      "Epoch 198/1000\n",
      "214/214 [==============================] - 1s 7ms/step - loss: -57.9879 - accuracy: 0.8072 - val_loss: -57.9769 - val_accuracy: 0.8069\n",
      "Epoch 199/1000\n",
      "214/214 [==============================] - 1s 7ms/step - loss: -57.9888 - accuracy: 0.8072 - val_loss: -57.9773 - val_accuracy: 0.8060\n",
      "Epoch 200/1000\n",
      "214/214 [==============================] - 1s 7ms/step - loss: -57.9883 - accuracy: 0.8069 - val_loss: -57.9716 - val_accuracy: 0.8023\n",
      "Epoch 201/1000\n",
      "214/214 [==============================] - 1s 7ms/step - loss: -57.9885 - accuracy: 0.8072 - val_loss: -57.9769 - val_accuracy: 0.8075\n",
      "Epoch 202/1000\n",
      "214/214 [==============================] - 1s 7ms/step - loss: -57.9886 - accuracy: 0.8074 - val_loss: -57.9758 - val_accuracy: 0.8070\n",
      "Epoch 203/1000\n",
      "214/214 [==============================] - 1s 7ms/step - loss: -57.9892 - accuracy: 0.8072 - val_loss: -57.9760 - val_accuracy: 0.8084\n",
      "Epoch 204/1000\n",
      "214/214 [==============================] - 1s 7ms/step - loss: -57.9891 - accuracy: 0.8072 - val_loss: -57.9722 - val_accuracy: 0.8061\n",
      "Epoch 205/1000\n",
      "214/214 [==============================] - 1s 7ms/step - loss: -57.9893 - accuracy: 0.8072 - val_loss: -57.9765 - val_accuracy: 0.8077\n",
      "Epoch 206/1000\n",
      "214/214 [==============================] - 1s 7ms/step - loss: -57.9883 - accuracy: 0.8071 - val_loss: -57.9762 - val_accuracy: 0.8075\n",
      "Epoch 207/1000\n",
      "214/214 [==============================] - 1s 7ms/step - loss: -57.9892 - accuracy: 0.8073 - val_loss: -57.9761 - val_accuracy: 0.8074\n",
      "Epoch 208/1000\n",
      "214/214 [==============================] - 1s 7ms/step - loss: -57.9892 - accuracy: 0.8070 - val_loss: -57.9767 - val_accuracy: 0.8074\n",
      "Epoch 209/1000\n",
      "214/214 [==============================] - 1s 7ms/step - loss: -57.9896 - accuracy: 0.8072 - val_loss: -57.9747 - val_accuracy: 0.8073\n",
      "Epoch 210/1000\n",
      "214/214 [==============================] - 1s 7ms/step - loss: -57.9893 - accuracy: 0.8070 - val_loss: -57.9770 - val_accuracy: 0.8076\n",
      "Epoch 211/1000\n",
      "214/214 [==============================] - 1s 7ms/step - loss: -57.9895 - accuracy: 0.8072 - val_loss: -57.9769 - val_accuracy: 0.8063\n",
      "Epoch 212/1000\n",
      "214/214 [==============================] - 1s 7ms/step - loss: -57.9900 - accuracy: 0.8073 - val_loss: -57.9768 - val_accuracy: 0.8074\n",
      "Epoch 213/1000\n",
      "214/214 [==============================] - 1s 7ms/step - loss: -57.9906 - accuracy: 0.8072 - val_loss: -57.9751 - val_accuracy: 0.8081\n",
      "Epoch 214/1000\n",
      "214/214 [==============================] - 1s 7ms/step - loss: -57.9896 - accuracy: 0.8074 - val_loss: -57.9751 - val_accuracy: 0.8089\n",
      "Epoch 215/1000\n",
      "214/214 [==============================] - 1s 7ms/step - loss: -57.9901 - accuracy: 0.8074 - val_loss: -57.9721 - val_accuracy: 0.8074\n",
      "Epoch 215: early stopping\n"
     ]
    }
   ],
   "source": [
    "import keras.backend as K\n",
    "from keras.layers import Input, Dense\n",
    "from keras.models import Model\n",
    "from keras.losses import mse, binary_crossentropy, CategoricalCrossentropy, categorical_crossentropy\n",
    "import numpy as np\n",
    "\n",
    "\n",
    "\n",
    "K.clear_session()\n",
    "\n",
    "# Some random training data\n",
    "#features = np.asarray(flat_df[variablesTrain[:-3]]).astype(np.float32)\n",
    "features = flat_df[variablesTrain[:-1]]\n",
    "\n",
    "# Architecture:\n",
    "input_layer = Input((flat_df[variablesTrain[:-1]].shape[1],))\n",
    "dense_1 = Dense(64, activation='relu')(input_layer)\n",
    "dense_2 = Dense(64, activation='relu')(dense_1)\n",
    "dense_3 = Dense(32, activation='relu')(dense_2)\n",
    "dense_4 = Dense(16, activation='relu')(dense_3)\n",
    "dense_5 = Dense(8, activation='relu')(dense_4)\n",
    "classifier_1 = Dense(1, activation='sigmoid')(dense_5)\n",
    "classifier_2 = Dense(groups.shape[1], activation='sigmoid',trainable=False)(classifier_1)\n",
    "\n",
    "#dense_6 = Dense(8, activation='tanh',trainable=False)(classifier_1)\n",
    "#dense_7 = Dense(8, activation='tanh',trainable=False)(dense_6)\n",
    "#dense_8 = Dense(16, activation='tanh',trainable=False)(dense_7)\n",
    "#classifier_2 = Dense(groups.shape[1], activation='sigmoid',trainable=False)(dense_8)\n",
    "\n",
    "# Two additional 'inputs' for the labels\n",
    "label_layer_1 = Input((1,))\n",
    "label_layer_2 = Input((groups.shape[1],))\n",
    "\n",
    "# Instantiate model, pass label layers as inputs\n",
    "model = Model(inputs=[input_layer, label_layer_1, label_layer_2], outputs=[classifier_1])\n",
    "\n",
    "# Construct custom loss\n",
    "#loss = (binary_crossentropy(label_layer_1, classifier_1) / (5.0 * categorical_crossentropy(label_layer_2, classifier_2, from_logits=True)))\n",
    "\n",
    "loss = (binary_crossentropy(label_layer_1, classifier_1) - 20.*categorical_crossentropy(label_layer_2, classifier_2))\n",
    "#loss = (binary_crossentropy(label_layer_1, classifier_1) / 2*categorical_crossentropy(label_layer_2, classifier_2))\n",
    "\n",
    "# Add loss to model\n",
    "model.add_loss(loss)\n",
    "\n",
    "# Compile without specifying a loss\n",
    "model.compile(optimizer=tf.optimizers.Adam(0.0005), metrics=['accuracy',])\n",
    "#model.compile(optimizer=tf.optimizers.Adam(0.0005), weighted_metrics=['accuracy',])\n",
    "\n",
    "\n",
    "model.summary()\n",
    "#history = model.fit([features, np.asarray(flat_df['y']).astype(np.int64), groups], np.asarray(flat_df['y']).astype(np.int64), shuffle=True,  batch_size=2000, validation_split=0.1, epochs=500, verbose=1, callbacks=[callbacks.EarlyStopping(monitor='val_loss',patience=30,verbose=1)])\n",
    "history = model.fit([features, flat_df['y'], groups], flat_df['y'], shuffle=True, sample_weight=flat_df['weight'], validation_split=0.1, epochs=1000, batch_size=2000, verbose=1, callbacks=[callbacks.EarlyStopping(monitor='val_loss',patience=30,verbose=1)])\n",
    "#history = model.fit([features, flat_df['y'], groups], flat_df['y'], shuffle=True, validation_split=0.1, epochs=700, batch_size=2000, verbose=1, callbacks=[callbacks.EarlyStopping(monitor='val_loss',patience=30,verbose=1)])\n",
    "\n",
    "\n"
   ]
  },
  {
   "cell_type": "code",
   "execution_count": 18,
   "metadata": {},
   "outputs": [
    {
     "data": {
      "image/png": "[encoded data removed]",
      "text/plain": [
       "<Figure size 432x288 with 1 Axes>"
      ]
     },
     "metadata": {
      "needs_background": "light"
     },
     "output_type": "display_data"
    }
   ],
   "source": [
    "import matplotlib.pyplot as plt\n",
    "\n",
    "# summarize history for loss\n",
    "plt.plot(history.history['loss'])\n",
    "plt.plot(history.history['val_loss'])\n",
    "plt.title('model loss')\n",
    "plt.ylabel('Custom loss')\n",
    "plt.xlabel('epoch')\n",
    "plt.legend(['train', 'validation'], loc='upper right')\n",
    "\n",
    "plt.savefig('Plots_presentation_PlusbeamHalo/model_loss.png')\n",
    "\n",
    "plt.show()"
   ]
  },
  {
   "cell_type": "code",
   "execution_count": 19,
   "metadata": {},
   "outputs": [
    {
     "name": "stdout",
     "output_type": "stream",
     "text": [
      "Model: \"model\"\n",
      "__________________________________________________________________________________________________\n",
      " Layer (type)                   Output Shape         Param #     Connected to                     \n",
      "==================================================================================================\n",
      " input_1 (InputLayer)           [(None, 14)]         0           []                               \n",
      "                                                                                                  \n",
      " dense (Dense)                  (None, 64)           960         ['input_1[0][0]']                \n",
      "                                                                                                  \n",
      " dense_1 (Dense)                (None, 64)           4160        ['dense[0][0]']                  \n",
      "                                                                                                  \n",
      " dense_2 (Dense)                (None, 32)           2080        ['dense_1[0][0]']                \n",
      "                                                                                                  \n",
      " dense_3 (Dense)                (None, 16)           528         ['dense_2[0][0]']                \n",
      "                                                                                                  \n",
      " dense_4 (Dense)                (None, 8)            136         ['dense_3[0][0]']                \n",
      "                                                                                                  \n",
      " input_2 (InputLayer)           [(None, 1)]          0           []                               \n",
      "                                                                                                  \n",
      " input_3 (InputLayer)           [(None, 17)]         0           []                               \n",
      "                                                                                                  \n",
      " dense_5 (Dense)                (None, 1)            9           ['dense_4[0][0]']                \n",
      "                                                                                                  \n",
      " tf.cast (TFOpLambda)           (None, 1)            0           ['input_2[0][0]']                \n",
      "                                                                                                  \n",
      " tf.convert_to_tensor (TFOpLamb  (None, 1)           0           ['dense_5[0][0]']                \n",
      " da)                                                                                              \n",
      "                                                                                                  \n",
      " tf.keras.backend.binary_crosse  (None, 1)           0           ['tf.cast[0][0]',                \n",
      " ntropy (TFOpLambda)                                              'tf.convert_to_tensor[0][0]']   \n",
      "                                                                                                  \n",
      " tf.math.reduce_mean (TFOpLambd  (None,)             0           ['tf.keras.backend.binary_crossen\n",
      " a)                                                              tropy[0][0]']                    \n",
      "                                                                                                  \n",
      " add_loss (AddLoss)             (None,)              0           ['tf.math.reduce_mean[0][0]']    \n",
      "                                                                                                  \n",
      "==================================================================================================\n",
      "Total params: 7,873\n",
      "Trainable params: 7,873\n",
      "Non-trainable params: 0\n",
      "__________________________________________________________________________________________________\n",
      "Epoch 1/1000\n",
      "WARNING:tensorflow:Model was constructed with shape (None, 17) for input KerasTensor(type_spec=TensorSpec(shape=(None, 17), dtype=tf.float32, name='input_3'), name='input_3', description=\"created by layer 'input_3'\"), but it was called on an input with incompatible shape (None, 1).\n",
      "WARNING:tensorflow:Model was constructed with shape (None, 17) for input KerasTensor(type_spec=TensorSpec(shape=(None, 17), dtype=tf.float32, name='input_3'), name='input_3', description=\"created by layer 'input_3'\"), but it was called on an input with incompatible shape (None, 1).\n",
      "213/214 [============================>.] - ETA: 0s - loss: 0.3863 - accuracy: 0.8488WARNING:tensorflow:Model was constructed with shape (None, 17) for input KerasTensor(type_spec=TensorSpec(shape=(None, 17), dtype=tf.float32, name='input_3'), name='input_3', description=\"created by layer 'input_3'\"), but it was called on an input with incompatible shape (None, 1).\n",
      "214/214 [==============================] - 11s 47ms/step - loss: 0.3863 - accuracy: 0.8488 - val_loss: 0.3622 - val_accuracy: 0.8556\n",
      "Epoch 2/1000\n",
      "214/214 [==============================] - 1s 6ms/step - loss: 0.3492 - accuracy: 0.8606 - val_loss: 0.3434 - val_accuracy: 0.8635\n",
      "Epoch 3/1000\n",
      "214/214 [==============================] - 1s 6ms/step - loss: 0.3362 - accuracy: 0.8662 - val_loss: 0.3351 - val_accuracy: 0.8663\n",
      "Epoch 4/1000\n",
      "214/214 [==============================] - 1s 6ms/step - loss: 0.3300 - accuracy: 0.8675 - val_loss: 0.3307 - val_accuracy: 0.8676\n",
      "Epoch 5/1000\n",
      "214/214 [==============================] - 1s 6ms/step - loss: 0.3252 - accuracy: 0.8697 - val_loss: 0.3274 - val_accuracy: 0.8674\n",
      "Epoch 6/1000\n",
      "214/214 [==============================] - 1s 6ms/step - loss: 0.3214 - accuracy: 0.8709 - val_loss: 0.3231 - val_accuracy: 0.8705\n",
      "Epoch 7/1000\n",
      "214/214 [==============================] - 1s 6ms/step - loss: 0.3161 - accuracy: 0.8725 - val_loss: 0.3174 - val_accuracy: 0.8723\n",
      "Epoch 8/1000\n",
      "214/214 [==============================] - 1s 6ms/step - loss: 0.3109 - accuracy: 0.8741 - val_loss: 0.3121 - val_accuracy: 0.8726\n",
      "Epoch 9/1000\n",
      "214/214 [==============================] - 1s 6ms/step - loss: 0.3050 - accuracy: 0.8753 - val_loss: 0.3066 - val_accuracy: 0.8748\n",
      "Epoch 10/1000\n",
      "214/214 [==============================] - 1s 6ms/step - loss: 0.2999 - accuracy: 0.8763 - val_loss: 0.3030 - val_accuracy: 0.8758\n",
      "Epoch 11/1000\n",
      "214/214 [==============================] - 1s 6ms/step - loss: 0.2968 - accuracy: 0.8776 - val_loss: 0.2997 - val_accuracy: 0.8765\n",
      "Epoch 12/1000\n",
      "214/214 [==============================] - 1s 6ms/step - loss: 0.2940 - accuracy: 0.8786 - val_loss: 0.2977 - val_accuracy: 0.8772\n",
      "Epoch 13/1000\n",
      "214/214 [==============================] - 1s 6ms/step - loss: 0.2918 - accuracy: 0.8797 - val_loss: 0.2966 - val_accuracy: 0.8775\n",
      "Epoch 14/1000\n",
      "214/214 [==============================] - 1s 6ms/step - loss: 0.2900 - accuracy: 0.8804 - val_loss: 0.2939 - val_accuracy: 0.8778\n",
      "Epoch 15/1000\n",
      "214/214 [==============================] - 1s 6ms/step - loss: 0.2887 - accuracy: 0.8809 - val_loss: 0.2945 - val_accuracy: 0.8783\n",
      "Epoch 16/1000\n",
      "214/214 [==============================] - 1s 6ms/step - loss: 0.2882 - accuracy: 0.8811 - val_loss: 0.2934 - val_accuracy: 0.8783\n",
      "Epoch 17/1000\n",
      "214/214 [==============================] - 1s 6ms/step - loss: 0.2864 - accuracy: 0.8818 - val_loss: 0.2906 - val_accuracy: 0.8798\n",
      "Epoch 18/1000\n",
      "214/214 [==============================] - 1s 6ms/step - loss: 0.2851 - accuracy: 0.8822 - val_loss: 0.2944 - val_accuracy: 0.8784\n",
      "Epoch 19/1000\n",
      "214/214 [==============================] - 1s 6ms/step - loss: 0.2846 - accuracy: 0.8823 - val_loss: 0.2901 - val_accuracy: 0.8803\n",
      "Epoch 20/1000\n",
      "214/214 [==============================] - 1s 6ms/step - loss: 0.2840 - accuracy: 0.8825 - val_loss: 0.2888 - val_accuracy: 0.8810\n",
      "Epoch 21/1000\n",
      "214/214 [==============================] - 1s 6ms/step - loss: 0.2830 - accuracy: 0.8829 - val_loss: 0.2882 - val_accuracy: 0.8809\n",
      "Epoch 22/1000\n",
      "214/214 [==============================] - 1s 6ms/step - loss: 0.2823 - accuracy: 0.8830 - val_loss: 0.2877 - val_accuracy: 0.8806\n",
      "Epoch 23/1000\n",
      "214/214 [==============================] - 1s 6ms/step - loss: 0.2817 - accuracy: 0.8836 - val_loss: 0.2882 - val_accuracy: 0.8812\n",
      "Epoch 24/1000\n",
      "214/214 [==============================] - 1s 6ms/step - loss: 0.2811 - accuracy: 0.8838 - val_loss: 0.2866 - val_accuracy: 0.8819\n",
      "Epoch 25/1000\n",
      "214/214 [==============================] - 1s 6ms/step - loss: 0.2808 - accuracy: 0.8838 - val_loss: 0.2866 - val_accuracy: 0.8830\n"
     ]
    },
    {
     "name": "stdout",
     "output_type": "stream",
     "text": [
      "Epoch 26/1000\n",
      "214/214 [==============================] - 1s 6ms/step - loss: 0.2802 - accuracy: 0.8844 - val_loss: 0.2864 - val_accuracy: 0.8819\n",
      "Epoch 27/1000\n",
      "214/214 [==============================] - 1s 6ms/step - loss: 0.2795 - accuracy: 0.8845 - val_loss: 0.2862 - val_accuracy: 0.8813\n",
      "Epoch 28/1000\n",
      "214/214 [==============================] - 1s 6ms/step - loss: 0.2793 - accuracy: 0.8845 - val_loss: 0.2852 - val_accuracy: 0.8821\n",
      "Epoch 29/1000\n",
      "214/214 [==============================] - 1s 6ms/step - loss: 0.2786 - accuracy: 0.8846 - val_loss: 0.2867 - val_accuracy: 0.8807\n",
      "Epoch 30/1000\n",
      "214/214 [==============================] - 1s 6ms/step - loss: 0.2785 - accuracy: 0.8850 - val_loss: 0.2831 - val_accuracy: 0.8833\n",
      "Epoch 31/1000\n",
      "214/214 [==============================] - 1s 6ms/step - loss: 0.2778 - accuracy: 0.8849 - val_loss: 0.2865 - val_accuracy: 0.8811\n",
      "Epoch 32/1000\n",
      "214/214 [==============================] - 1s 6ms/step - loss: 0.2774 - accuracy: 0.8852 - val_loss: 0.2834 - val_accuracy: 0.8831\n",
      "Epoch 33/1000\n",
      "214/214 [==============================] - 1s 6ms/step - loss: 0.2768 - accuracy: 0.8857 - val_loss: 0.2836 - val_accuracy: 0.8829\n",
      "Epoch 34/1000\n",
      "214/214 [==============================] - 1s 6ms/step - loss: 0.2766 - accuracy: 0.8858 - val_loss: 0.2842 - val_accuracy: 0.8825\n",
      "Epoch 35/1000\n",
      "214/214 [==============================] - 1s 6ms/step - loss: 0.2763 - accuracy: 0.8860 - val_loss: 0.2829 - val_accuracy: 0.8836\n",
      "Epoch 36/1000\n",
      "214/214 [==============================] - 1s 6ms/step - loss: 0.2760 - accuracy: 0.8858 - val_loss: 0.2819 - val_accuracy: 0.8840\n",
      "Epoch 37/1000\n",
      "214/214 [==============================] - 1s 6ms/step - loss: 0.2753 - accuracy: 0.8862 - val_loss: 0.2853 - val_accuracy: 0.8818\n",
      "Epoch 38/1000\n",
      "214/214 [==============================] - 1s 6ms/step - loss: 0.2752 - accuracy: 0.8863 - val_loss: 0.2863 - val_accuracy: 0.8825\n",
      "Epoch 39/1000\n",
      "214/214 [==============================] - 1s 6ms/step - loss: 0.2756 - accuracy: 0.8862 - val_loss: 0.2870 - val_accuracy: 0.8806\n",
      "Epoch 40/1000\n",
      "214/214 [==============================] - 1s 6ms/step - loss: 0.2747 - accuracy: 0.8865 - val_loss: 0.2833 - val_accuracy: 0.8831\n",
      "Epoch 41/1000\n",
      "214/214 [==============================] - 1s 6ms/step - loss: 0.2746 - accuracy: 0.8866 - val_loss: 0.2828 - val_accuracy: 0.8825\n",
      "Epoch 42/1000\n",
      "214/214 [==============================] - 1s 6ms/step - loss: 0.2739 - accuracy: 0.8867 - val_loss: 0.2805 - val_accuracy: 0.8837\n",
      "Epoch 43/1000\n",
      "214/214 [==============================] - 1s 6ms/step - loss: 0.2736 - accuracy: 0.8869 - val_loss: 0.2811 - val_accuracy: 0.8834\n",
      "Epoch 44/1000\n",
      "214/214 [==============================] - 1s 6ms/step - loss: 0.2734 - accuracy: 0.8870 - val_loss: 0.2803 - val_accuracy: 0.8847\n",
      "Epoch 45/1000\n",
      "214/214 [==============================] - 1s 6ms/step - loss: 0.2732 - accuracy: 0.8872 - val_loss: 0.2800 - val_accuracy: 0.8847\n",
      "Epoch 46/1000\n",
      "214/214 [==============================] - 1s 6ms/step - loss: 0.2729 - accuracy: 0.8874 - val_loss: 0.2808 - val_accuracy: 0.8839\n",
      "Epoch 47/1000\n",
      "214/214 [==============================] - 1s 6ms/step - loss: 0.2729 - accuracy: 0.8874 - val_loss: 0.2794 - val_accuracy: 0.8841\n",
      "Epoch 48/1000\n",
      "214/214 [==============================] - 1s 6ms/step - loss: 0.2725 - accuracy: 0.8873 - val_loss: 0.2796 - val_accuracy: 0.8843\n",
      "Epoch 49/1000\n",
      "214/214 [==============================] - 1s 6ms/step - loss: 0.2724 - accuracy: 0.8877 - val_loss: 0.2800 - val_accuracy: 0.8844\n",
      "Epoch 50/1000\n",
      "214/214 [==============================] - 1s 6ms/step - loss: 0.2722 - accuracy: 0.8876 - val_loss: 0.2791 - val_accuracy: 0.8846\n",
      "Epoch 51/1000\n",
      "214/214 [==============================] - 1s 6ms/step - loss: 0.2717 - accuracy: 0.8879 - val_loss: 0.2799 - val_accuracy: 0.8849\n",
      "Epoch 52/1000\n",
      "214/214 [==============================] - 1s 6ms/step - loss: 0.2716 - accuracy: 0.8878 - val_loss: 0.2798 - val_accuracy: 0.8845\n",
      "Epoch 53/1000\n",
      "214/214 [==============================] - 1s 6ms/step - loss: 0.2714 - accuracy: 0.8881 - val_loss: 0.2794 - val_accuracy: 0.8854\n",
      "Epoch 54/1000\n",
      "214/214 [==============================] - 1s 6ms/step - loss: 0.2710 - accuracy: 0.8881 - val_loss: 0.2806 - val_accuracy: 0.8840\n",
      "Epoch 55/1000\n",
      "214/214 [==============================] - 1s 6ms/step - loss: 0.2711 - accuracy: 0.8881 - val_loss: 0.2851 - val_accuracy: 0.8826\n",
      "Epoch 56/1000\n",
      "214/214 [==============================] - 1s 6ms/step - loss: 0.2709 - accuracy: 0.8882 - val_loss: 0.2792 - val_accuracy: 0.8850\n",
      "Epoch 57/1000\n",
      "214/214 [==============================] - 1s 6ms/step - loss: 0.2702 - accuracy: 0.8886 - val_loss: 0.2791 - val_accuracy: 0.8846\n",
      "Epoch 58/1000\n",
      "214/214 [==============================] - 1s 6ms/step - loss: 0.2706 - accuracy: 0.8884 - val_loss: 0.2790 - val_accuracy: 0.8847\n",
      "Epoch 59/1000\n",
      "214/214 [==============================] - 1s 6ms/step - loss: 0.2700 - accuracy: 0.8886 - val_loss: 0.2807 - val_accuracy: 0.8841\n",
      "Epoch 60/1000\n",
      "214/214 [==============================] - 1s 6ms/step - loss: 0.2700 - accuracy: 0.8885 - val_loss: 0.2780 - val_accuracy: 0.8850\n",
      "Epoch 61/1000\n",
      "214/214 [==============================] - 1s 6ms/step - loss: 0.2702 - accuracy: 0.8885 - val_loss: 0.2782 - val_accuracy: 0.8858\n",
      "Epoch 62/1000\n",
      "214/214 [==============================] - 1s 6ms/step - loss: 0.2696 - accuracy: 0.8888 - val_loss: 0.2796 - val_accuracy: 0.8846\n",
      "Epoch 63/1000\n",
      "214/214 [==============================] - 1s 6ms/step - loss: 0.2693 - accuracy: 0.8890 - val_loss: 0.2792 - val_accuracy: 0.8848\n",
      "Epoch 64/1000\n",
      "214/214 [==============================] - 1s 6ms/step - loss: 0.2691 - accuracy: 0.8888 - val_loss: 0.2794 - val_accuracy: 0.8850\n",
      "Epoch 65/1000\n",
      "214/214 [==============================] - 1s 6ms/step - loss: 0.2695 - accuracy: 0.8889 - val_loss: 0.2791 - val_accuracy: 0.8846\n",
      "Epoch 66/1000\n",
      "214/214 [==============================] - 1s 6ms/step - loss: 0.2689 - accuracy: 0.8890 - val_loss: 0.2793 - val_accuracy: 0.8855\n",
      "Epoch 67/1000\n",
      "214/214 [==============================] - 1s 6ms/step - loss: 0.2690 - accuracy: 0.8888 - val_loss: 0.2773 - val_accuracy: 0.8869\n",
      "Epoch 68/1000\n",
      "214/214 [==============================] - 1s 6ms/step - loss: 0.2684 - accuracy: 0.8890 - val_loss: 0.2785 - val_accuracy: 0.8847\n",
      "Epoch 69/1000\n",
      "214/214 [==============================] - 1s 6ms/step - loss: 0.2688 - accuracy: 0.8892 - val_loss: 0.2767 - val_accuracy: 0.8863\n",
      "Epoch 70/1000\n",
      "214/214 [==============================] - 1s 6ms/step - loss: 0.2680 - accuracy: 0.8893 - val_loss: 0.2781 - val_accuracy: 0.8850\n",
      "Epoch 71/1000\n",
      "214/214 [==============================] - 1s 6ms/step - loss: 0.2683 - accuracy: 0.8893 - val_loss: 0.2764 - val_accuracy: 0.8863\n",
      "Epoch 72/1000\n",
      "214/214 [==============================] - 1s 6ms/step - loss: 0.2682 - accuracy: 0.8894 - val_loss: 0.2767 - val_accuracy: 0.8862\n",
      "Epoch 73/1000\n",
      "214/214 [==============================] - 1s 6ms/step - loss: 0.2679 - accuracy: 0.8895 - val_loss: 0.2765 - val_accuracy: 0.8865\n",
      "Epoch 74/1000\n",
      "214/214 [==============================] - 1s 6ms/step - loss: 0.2676 - accuracy: 0.8897 - val_loss: 0.2772 - val_accuracy: 0.8868\n",
      "Epoch 75/1000\n",
      "214/214 [==============================] - 1s 6ms/step - loss: 0.2680 - accuracy: 0.8895 - val_loss: 0.2752 - val_accuracy: 0.8873\n",
      "Epoch 76/1000\n",
      "214/214 [==============================] - 1s 6ms/step - loss: 0.2672 - accuracy: 0.8897 - val_loss: 0.2773 - val_accuracy: 0.8863\n",
      "Epoch 77/1000\n",
      "214/214 [==============================] - 1s 6ms/step - loss: 0.2674 - accuracy: 0.8895 - val_loss: 0.2761 - val_accuracy: 0.8868\n",
      "Epoch 78/1000\n",
      "214/214 [==============================] - 1s 6ms/step - loss: 0.2671 - accuracy: 0.8897 - val_loss: 0.2758 - val_accuracy: 0.8870\n",
      "Epoch 79/1000\n",
      "214/214 [==============================] - 1s 6ms/step - loss: 0.2676 - accuracy: 0.8897 - val_loss: 0.2765 - val_accuracy: 0.8870\n",
      "Epoch 80/1000\n",
      "214/214 [==============================] - 1s 6ms/step - loss: 0.2669 - accuracy: 0.8902 - val_loss: 0.2760 - val_accuracy: 0.8868\n",
      "Epoch 81/1000\n",
      "214/214 [==============================] - 1s 6ms/step - loss: 0.2672 - accuracy: 0.8900 - val_loss: 0.2787 - val_accuracy: 0.8860\n",
      "Epoch 82/1000\n",
      "214/214 [==============================] - 1s 6ms/step - loss: 0.2668 - accuracy: 0.8900 - val_loss: 0.2755 - val_accuracy: 0.8866\n",
      "Epoch 83/1000\n",
      "214/214 [==============================] - 1s 6ms/step - loss: 0.2667 - accuracy: 0.8902 - val_loss: 0.2750 - val_accuracy: 0.8868\n",
      "Epoch 84/1000\n",
      "214/214 [==============================] - 1s 6ms/step - loss: 0.2661 - accuracy: 0.8902 - val_loss: 0.2759 - val_accuracy: 0.8871\n",
      "Epoch 85/1000\n",
      "214/214 [==============================] - 1s 6ms/step - loss: 0.2658 - accuracy: 0.8906 - val_loss: 0.2753 - val_accuracy: 0.8865\n",
      "Epoch 86/1000\n",
      "214/214 [==============================] - 1s 6ms/step - loss: 0.2661 - accuracy: 0.8904 - val_loss: 0.2753 - val_accuracy: 0.8871\n",
      "Epoch 87/1000\n",
      "214/214 [==============================] - 1s 6ms/step - loss: 0.2659 - accuracy: 0.8903 - val_loss: 0.2776 - val_accuracy: 0.8861\n",
      "Epoch 88/1000\n",
      "214/214 [==============================] - 1s 6ms/step - loss: 0.2658 - accuracy: 0.8904 - val_loss: 0.2759 - val_accuracy: 0.8862\n",
      "Epoch 89/1000\n",
      "214/214 [==============================] - 1s 6ms/step - loss: 0.2658 - accuracy: 0.8904 - val_loss: 0.2773 - val_accuracy: 0.8876\n",
      "Epoch 90/1000\n",
      "214/214 [==============================] - 1s 6ms/step - loss: 0.2656 - accuracy: 0.8908 - val_loss: 0.2778 - val_accuracy: 0.8862\n",
      "Epoch 91/1000\n",
      "214/214 [==============================] - 1s 6ms/step - loss: 0.2653 - accuracy: 0.8910 - val_loss: 0.2746 - val_accuracy: 0.8866\n",
      "Epoch 92/1000\n",
      "214/214 [==============================] - 1s 6ms/step - loss: 0.2652 - accuracy: 0.8908 - val_loss: 0.2746 - val_accuracy: 0.8878\n",
      "Epoch 93/1000\n",
      "214/214 [==============================] - 1s 6ms/step - loss: 0.2651 - accuracy: 0.8909 - val_loss: 0.2743 - val_accuracy: 0.8866\n",
      "Epoch 94/1000\n",
      "214/214 [==============================] - 1s 6ms/step - loss: 0.2652 - accuracy: 0.8909 - val_loss: 0.2755 - val_accuracy: 0.8867\n",
      "Epoch 95/1000\n",
      "214/214 [==============================] - 1s 6ms/step - loss: 0.2648 - accuracy: 0.8910 - val_loss: 0.2757 - val_accuracy: 0.8877\n",
      "Epoch 96/1000\n",
      "214/214 [==============================] - 1s 6ms/step - loss: 0.2646 - accuracy: 0.8907 - val_loss: 0.2744 - val_accuracy: 0.8882\n",
      "Epoch 97/1000\n",
      "214/214 [==============================] - 1s 6ms/step - loss: 0.2644 - accuracy: 0.8911 - val_loss: 0.2764 - val_accuracy: 0.8869\n",
      "Epoch 98/1000\n",
      "214/214 [==============================] - 1s 6ms/step - loss: 0.2643 - accuracy: 0.8911 - val_loss: 0.2739 - val_accuracy: 0.8879\n",
      "Epoch 99/1000\n",
      "214/214 [==============================] - 1s 6ms/step - loss: 0.2643 - accuracy: 0.8912 - val_loss: 0.2773 - val_accuracy: 0.8862\n",
      "Epoch 100/1000\n",
      "214/214 [==============================] - 1s 6ms/step - loss: 0.2642 - accuracy: 0.8914 - val_loss: 0.2763 - val_accuracy: 0.8866\n",
      "Epoch 101/1000\n",
      "214/214 [==============================] - 1s 6ms/step - loss: 0.2639 - accuracy: 0.8912 - val_loss: 0.2740 - val_accuracy: 0.8874\n",
      "Epoch 102/1000\n",
      "214/214 [==============================] - 1s 6ms/step - loss: 0.2640 - accuracy: 0.8915 - val_loss: 0.2740 - val_accuracy: 0.8884\n",
      "Epoch 103/1000\n",
      "214/214 [==============================] - 1s 6ms/step - loss: 0.2636 - accuracy: 0.8916 - val_loss: 0.2743 - val_accuracy: 0.8870\n",
      "Epoch 104/1000\n",
      "214/214 [==============================] - 1s 6ms/step - loss: 0.2636 - accuracy: 0.8916 - val_loss: 0.2742 - val_accuracy: 0.8877\n",
      "Epoch 105/1000\n",
      "214/214 [==============================] - 1s 6ms/step - loss: 0.2634 - accuracy: 0.8918 - val_loss: 0.2732 - val_accuracy: 0.8875\n",
      "Epoch 106/1000\n",
      "214/214 [==============================] - 1s 6ms/step - loss: 0.2633 - accuracy: 0.8921 - val_loss: 0.2735 - val_accuracy: 0.8882\n",
      "Epoch 107/1000\n",
      "214/214 [==============================] - 1s 6ms/step - loss: 0.2630 - accuracy: 0.8919 - val_loss: 0.2755 - val_accuracy: 0.8880\n",
      "Epoch 108/1000\n",
      "214/214 [==============================] - 1s 6ms/step - loss: 0.2628 - accuracy: 0.8921 - val_loss: 0.2755 - val_accuracy: 0.8873\n",
      "Epoch 109/1000\n",
      "214/214 [==============================] - 1s 6ms/step - loss: 0.2628 - accuracy: 0.8919 - val_loss: 0.2752 - val_accuracy: 0.8873\n",
      "Epoch 110/1000\n",
      "214/214 [==============================] - 1s 6ms/step - loss: 0.2632 - accuracy: 0.8915 - val_loss: 0.2726 - val_accuracy: 0.8891\n",
      "Epoch 111/1000\n",
      "214/214 [==============================] - 1s 6ms/step - loss: 0.2626 - accuracy: 0.8922 - val_loss: 0.2732 - val_accuracy: 0.8889\n",
      "Epoch 112/1000\n",
      "214/214 [==============================] - 1s 6ms/step - loss: 0.2623 - accuracy: 0.8922 - val_loss: 0.2727 - val_accuracy: 0.8882\n",
      "Epoch 113/1000\n",
      "214/214 [==============================] - 1s 6ms/step - loss: 0.2620 - accuracy: 0.8927 - val_loss: 0.2738 - val_accuracy: 0.8884\n",
      "Epoch 114/1000\n",
      "214/214 [==============================] - 1s 6ms/step - loss: 0.2623 - accuracy: 0.8921 - val_loss: 0.2735 - val_accuracy: 0.8883\n",
      "Epoch 115/1000\n",
      "214/214 [==============================] - 1s 6ms/step - loss: 0.2619 - accuracy: 0.8924 - val_loss: 0.2753 - val_accuracy: 0.8874\n",
      "Epoch 116/1000\n",
      "214/214 [==============================] - 1s 6ms/step - loss: 0.2616 - accuracy: 0.8928 - val_loss: 0.2734 - val_accuracy: 0.8887\n",
      "Epoch 117/1000\n",
      "214/214 [==============================] - 1s 6ms/step - loss: 0.2612 - accuracy: 0.8927 - val_loss: 0.2745 - val_accuracy: 0.8879\n",
      "Epoch 118/1000\n",
      "214/214 [==============================] - 1s 6ms/step - loss: 0.2616 - accuracy: 0.8927 - val_loss: 0.2721 - val_accuracy: 0.8888\n",
      "Epoch 119/1000\n",
      "214/214 [==============================] - 1s 6ms/step - loss: 0.2612 - accuracy: 0.8926 - val_loss: 0.2721 - val_accuracy: 0.8891\n",
      "Epoch 120/1000\n",
      "214/214 [==============================] - 1s 6ms/step - loss: 0.2610 - accuracy: 0.8927 - val_loss: 0.2724 - val_accuracy: 0.8893\n",
      "Epoch 121/1000\n",
      "214/214 [==============================] - 1s 6ms/step - loss: 0.2605 - accuracy: 0.8933 - val_loss: 0.2742 - val_accuracy: 0.8874\n",
      "Epoch 122/1000\n",
      "214/214 [==============================] - 1s 6ms/step - loss: 0.2607 - accuracy: 0.8933 - val_loss: 0.2723 - val_accuracy: 0.8892\n",
      "Epoch 123/1000\n",
      "214/214 [==============================] - 1s 6ms/step - loss: 0.2605 - accuracy: 0.8935 - val_loss: 0.2716 - val_accuracy: 0.8897\n",
      "Epoch 124/1000\n",
      "214/214 [==============================] - 1s 6ms/step - loss: 0.2600 - accuracy: 0.8938 - val_loss: 0.2724 - val_accuracy: 0.8899\n",
      "Epoch 125/1000\n",
      "214/214 [==============================] - 1s 6ms/step - loss: 0.2599 - accuracy: 0.8939 - val_loss: 0.2713 - val_accuracy: 0.8898\n",
      "Epoch 126/1000\n",
      "214/214 [==============================] - 1s 6ms/step - loss: 0.2598 - accuracy: 0.8938 - val_loss: 0.2718 - val_accuracy: 0.8898\n",
      "Epoch 127/1000\n",
      "214/214 [==============================] - 1s 6ms/step - loss: 0.2597 - accuracy: 0.8935 - val_loss: 0.2714 - val_accuracy: 0.8903\n",
      "Epoch 128/1000\n",
      "214/214 [==============================] - 2s 12ms/step - loss: 0.2594 - accuracy: 0.8940 - val_loss: 0.2732 - val_accuracy: 0.8886\n",
      "Epoch 129/1000\n",
      "214/214 [==============================] - 1s 7ms/step - loss: 0.2592 - accuracy: 0.8937 - val_loss: 0.2717 - val_accuracy: 0.8886\n",
      "Epoch 130/1000\n",
      "214/214 [==============================] - 1s 6ms/step - loss: 0.2591 - accuracy: 0.8940 - val_loss: 0.2702 - val_accuracy: 0.8901\n",
      "Epoch 131/1000\n",
      "214/214 [==============================] - 1s 6ms/step - loss: 0.2587 - accuracy: 0.8944 - val_loss: 0.2714 - val_accuracy: 0.8900\n",
      "Epoch 132/1000\n",
      "214/214 [==============================] - 1s 6ms/step - loss: 0.2583 - accuracy: 0.8948 - val_loss: 0.2705 - val_accuracy: 0.8896\n",
      "Epoch 133/1000\n",
      "214/214 [==============================] - 1s 6ms/step - loss: 0.2578 - accuracy: 0.8951 - val_loss: 0.2705 - val_accuracy: 0.8906\n",
      "Epoch 134/1000\n",
      "214/214 [==============================] - 1s 6ms/step - loss: 0.2577 - accuracy: 0.8952 - val_loss: 0.2692 - val_accuracy: 0.8914\n",
      "Epoch 135/1000\n",
      "214/214 [==============================] - 2s 9ms/step - loss: 0.2576 - accuracy: 0.8952 - val_loss: 0.2699 - val_accuracy: 0.8909\n",
      "Epoch 136/1000\n",
      "214/214 [==============================] - 1s 6ms/step - loss: 0.2569 - accuracy: 0.8955 - val_loss: 0.2695 - val_accuracy: 0.8918\n",
      "Epoch 137/1000\n",
      "214/214 [==============================] - 1s 6ms/step - loss: 0.2564 - accuracy: 0.8961 - val_loss: 0.2692 - val_accuracy: 0.8910\n",
      "Epoch 138/1000\n"
     ]
    },
    {
     "name": "stdout",
     "output_type": "stream",
     "text": [
      "214/214 [==============================] - 1s 6ms/step - loss: 0.2561 - accuracy: 0.8959 - val_loss: 0.2675 - val_accuracy: 0.8925\n",
      "Epoch 139/1000\n",
      "214/214 [==============================] - 1s 6ms/step - loss: 0.2555 - accuracy: 0.8965 - val_loss: 0.2682 - val_accuracy: 0.8925\n",
      "Epoch 140/1000\n",
      "214/214 [==============================] - 1s 6ms/step - loss: 0.2551 - accuracy: 0.8967 - val_loss: 0.2666 - val_accuracy: 0.8936\n",
      "Epoch 141/1000\n",
      "214/214 [==============================] - 1s 6ms/step - loss: 0.2543 - accuracy: 0.8972 - val_loss: 0.2682 - val_accuracy: 0.8927\n",
      "Epoch 142/1000\n",
      "214/214 [==============================] - 2s 8ms/step - loss: 0.2540 - accuracy: 0.8975 - val_loss: 0.2658 - val_accuracy: 0.8933\n",
      "Epoch 143/1000\n",
      "214/214 [==============================] - 1s 6ms/step - loss: 0.2530 - accuracy: 0.8978 - val_loss: 0.2639 - val_accuracy: 0.8952\n",
      "Epoch 144/1000\n",
      "214/214 [==============================] - 1s 6ms/step - loss: 0.2519 - accuracy: 0.8990 - val_loss: 0.2623 - val_accuracy: 0.8957\n",
      "Epoch 145/1000\n",
      "214/214 [==============================] - 1s 6ms/step - loss: 0.2506 - accuracy: 0.8996 - val_loss: 0.2611 - val_accuracy: 0.8968\n",
      "Epoch 146/1000\n",
      "214/214 [==============================] - 1s 6ms/step - loss: 0.2484 - accuracy: 0.9011 - val_loss: 0.2598 - val_accuracy: 0.8976\n",
      "Epoch 147/1000\n",
      "214/214 [==============================] - 1s 6ms/step - loss: 0.2480 - accuracy: 0.9011 - val_loss: 0.2593 - val_accuracy: 0.8984\n",
      "Epoch 148/1000\n",
      "214/214 [==============================] - 1s 6ms/step - loss: 0.2461 - accuracy: 0.9023 - val_loss: 0.2570 - val_accuracy: 0.9000\n",
      "Epoch 149/1000\n",
      "214/214 [==============================] - 2s 10ms/step - loss: 0.2446 - accuracy: 0.9033 - val_loss: 0.2559 - val_accuracy: 0.9000\n",
      "Epoch 150/1000\n",
      "214/214 [==============================] - 1s 6ms/step - loss: 0.2430 - accuracy: 0.9043 - val_loss: 0.2569 - val_accuracy: 0.9000\n",
      "Epoch 151/1000\n",
      "214/214 [==============================] - 1s 6ms/step - loss: 0.2419 - accuracy: 0.9051 - val_loss: 0.2538 - val_accuracy: 0.9014\n",
      "Epoch 152/1000\n",
      "214/214 [==============================] - 1s 6ms/step - loss: 0.2409 - accuracy: 0.9053 - val_loss: 0.2534 - val_accuracy: 0.9008\n",
      "Epoch 153/1000\n",
      "214/214 [==============================] - 1s 6ms/step - loss: 0.2403 - accuracy: 0.9058 - val_loss: 0.2529 - val_accuracy: 0.9013\n",
      "Epoch 154/1000\n",
      "214/214 [==============================] - 1s 6ms/step - loss: 0.2395 - accuracy: 0.9063 - val_loss: 0.2504 - val_accuracy: 0.9023\n",
      "Epoch 155/1000\n",
      "214/214 [==============================] - 1s 6ms/step - loss: 0.2388 - accuracy: 0.9066 - val_loss: 0.2504 - val_accuracy: 0.9028\n",
      "Epoch 156/1000\n",
      "214/214 [==============================] - 2s 11ms/step - loss: 0.2384 - accuracy: 0.9067 - val_loss: 0.2498 - val_accuracy: 0.9036\n",
      "Epoch 157/1000\n",
      "214/214 [==============================] - 1s 6ms/step - loss: 0.2379 - accuracy: 0.9069 - val_loss: 0.2495 - val_accuracy: 0.9029\n",
      "Epoch 158/1000\n",
      "214/214 [==============================] - 1s 6ms/step - loss: 0.2374 - accuracy: 0.9070 - val_loss: 0.2480 - val_accuracy: 0.9040\n",
      "Epoch 159/1000\n",
      "214/214 [==============================] - 1s 6ms/step - loss: 0.2368 - accuracy: 0.9073 - val_loss: 0.2493 - val_accuracy: 0.9025\n",
      "Epoch 160/1000\n",
      "214/214 [==============================] - 1s 6ms/step - loss: 0.2361 - accuracy: 0.9078 - val_loss: 0.2465 - val_accuracy: 0.9046\n",
      "Epoch 161/1000\n",
      "214/214 [==============================] - 1s 6ms/step - loss: 0.2355 - accuracy: 0.9079 - val_loss: 0.2476 - val_accuracy: 0.9039\n",
      "Epoch 162/1000\n",
      "214/214 [==============================] - 1s 6ms/step - loss: 0.2351 - accuracy: 0.9082 - val_loss: 0.2463 - val_accuracy: 0.9049\n",
      "Epoch 163/1000\n",
      "214/214 [==============================] - 1s 6ms/step - loss: 0.2344 - accuracy: 0.9084 - val_loss: 0.2470 - val_accuracy: 0.9038\n",
      "Epoch 164/1000\n",
      "214/214 [==============================] - 1s 6ms/step - loss: 0.2345 - accuracy: 0.9084 - val_loss: 0.2477 - val_accuracy: 0.9041\n",
      "Epoch 165/1000\n",
      "214/214 [==============================] - 1s 6ms/step - loss: 0.2343 - accuracy: 0.9083 - val_loss: 0.2486 - val_accuracy: 0.9028\n",
      "Epoch 166/1000\n",
      "214/214 [==============================] - 1s 6ms/step - loss: 0.2336 - accuracy: 0.9088 - val_loss: 0.2456 - val_accuracy: 0.9042\n",
      "Epoch 167/1000\n",
      "214/214 [==============================] - 1s 6ms/step - loss: 0.2336 - accuracy: 0.9086 - val_loss: 0.2471 - val_accuracy: 0.9047\n",
      "Epoch 168/1000\n",
      "214/214 [==============================] - 1s 6ms/step - loss: 0.2329 - accuracy: 0.9091 - val_loss: 0.2460 - val_accuracy: 0.9049\n",
      "Epoch 169/1000\n",
      "214/214 [==============================] - 1s 6ms/step - loss: 0.2327 - accuracy: 0.9091 - val_loss: 0.2461 - val_accuracy: 0.9044\n",
      "Epoch 170/1000\n",
      "214/214 [==============================] - 1s 6ms/step - loss: 0.2328 - accuracy: 0.9093 - val_loss: 0.2442 - val_accuracy: 0.9056\n",
      "Epoch 171/1000\n",
      "214/214 [==============================] - 1s 6ms/step - loss: 0.2318 - accuracy: 0.9095 - val_loss: 0.2430 - val_accuracy: 0.9055\n",
      "Epoch 172/1000\n",
      "214/214 [==============================] - 1s 6ms/step - loss: 0.2317 - accuracy: 0.9099 - val_loss: 0.2454 - val_accuracy: 0.9037\n",
      "Epoch 173/1000\n",
      "214/214 [==============================] - 1s 6ms/step - loss: 0.2316 - accuracy: 0.9099 - val_loss: 0.2429 - val_accuracy: 0.9066\n",
      "Epoch 174/1000\n",
      "214/214 [==============================] - 1s 6ms/step - loss: 0.2318 - accuracy: 0.9093 - val_loss: 0.2450 - val_accuracy: 0.9042\n",
      "Epoch 175/1000\n",
      "214/214 [==============================] - 1s 6ms/step - loss: 0.2318 - accuracy: 0.9093 - val_loss: 0.2430 - val_accuracy: 0.9066\n",
      "Epoch 176/1000\n",
      "214/214 [==============================] - 1s 6ms/step - loss: 0.2306 - accuracy: 0.9100 - val_loss: 0.2426 - val_accuracy: 0.9055\n",
      "Epoch 177/1000\n",
      "214/214 [==============================] - 1s 6ms/step - loss: 0.2307 - accuracy: 0.9100 - val_loss: 0.2446 - val_accuracy: 0.9058\n",
      "Epoch 178/1000\n",
      "214/214 [==============================] - 1s 6ms/step - loss: 0.2309 - accuracy: 0.9096 - val_loss: 0.2425 - val_accuracy: 0.9060\n",
      "Epoch 179/1000\n",
      "214/214 [==============================] - 1s 6ms/step - loss: 0.2301 - accuracy: 0.9101 - val_loss: 0.2418 - val_accuracy: 0.9062\n",
      "Epoch 180/1000\n",
      "214/214 [==============================] - 1s 6ms/step - loss: 0.2297 - accuracy: 0.9104 - val_loss: 0.2433 - val_accuracy: 0.9045\n",
      "Epoch 181/1000\n",
      "214/214 [==============================] - 1s 6ms/step - loss: 0.2300 - accuracy: 0.9102 - val_loss: 0.2419 - val_accuracy: 0.9065\n",
      "Epoch 182/1000\n",
      "214/214 [==============================] - 1s 6ms/step - loss: 0.2296 - accuracy: 0.9105 - val_loss: 0.2433 - val_accuracy: 0.9044\n",
      "Epoch 183/1000\n",
      "214/214 [==============================] - 1s 6ms/step - loss: 0.2289 - accuracy: 0.9107 - val_loss: 0.2451 - val_accuracy: 0.9057\n",
      "Epoch 184/1000\n",
      "214/214 [==============================] - 1s 6ms/step - loss: 0.2296 - accuracy: 0.9101 - val_loss: 0.2526 - val_accuracy: 0.8996\n",
      "Epoch 185/1000\n",
      "214/214 [==============================] - 1s 6ms/step - loss: 0.2289 - accuracy: 0.9106 - val_loss: 0.2417 - val_accuracy: 0.9058\n",
      "Epoch 186/1000\n",
      "214/214 [==============================] - 1s 6ms/step - loss: 0.2284 - accuracy: 0.9108 - val_loss: 0.2415 - val_accuracy: 0.9073\n",
      "Epoch 187/1000\n",
      "214/214 [==============================] - 1s 7ms/step - loss: 0.2283 - accuracy: 0.9108 - val_loss: 0.2410 - val_accuracy: 0.9070\n",
      "Epoch 188/1000\n",
      "214/214 [==============================] - 1s 6ms/step - loss: 0.2283 - accuracy: 0.9108 - val_loss: 0.2435 - val_accuracy: 0.9048\n",
      "Epoch 189/1000\n",
      "214/214 [==============================] - 1s 6ms/step - loss: 0.2283 - accuracy: 0.9107 - val_loss: 0.2407 - val_accuracy: 0.9070\n",
      "Epoch 190/1000\n",
      "214/214 [==============================] - 1s 6ms/step - loss: 0.2279 - accuracy: 0.9108 - val_loss: 0.2400 - val_accuracy: 0.9069\n",
      "Epoch 191/1000\n",
      "214/214 [==============================] - 1s 6ms/step - loss: 0.2274 - accuracy: 0.9111 - val_loss: 0.2403 - val_accuracy: 0.9076\n",
      "Epoch 192/1000\n",
      "214/214 [==============================] - 1s 6ms/step - loss: 0.2273 - accuracy: 0.9110 - val_loss: 0.2416 - val_accuracy: 0.9054\n",
      "Epoch 193/1000\n",
      "214/214 [==============================] - 1s 6ms/step - loss: 0.2271 - accuracy: 0.9112 - val_loss: 0.2399 - val_accuracy: 0.9072\n",
      "Epoch 194/1000\n",
      "214/214 [==============================] - 1s 6ms/step - loss: 0.2272 - accuracy: 0.9108 - val_loss: 0.2411 - val_accuracy: 0.9066\n",
      "Epoch 195/1000\n",
      "214/214 [==============================] - 1s 6ms/step - loss: 0.2274 - accuracy: 0.9108 - val_loss: 0.2398 - val_accuracy: 0.9065\n",
      "Epoch 196/1000\n",
      "214/214 [==============================] - 1s 6ms/step - loss: 0.2270 - accuracy: 0.9112 - val_loss: 0.2410 - val_accuracy: 0.9079\n",
      "Epoch 197/1000\n",
      "214/214 [==============================] - 1s 6ms/step - loss: 0.2266 - accuracy: 0.9114 - val_loss: 0.2381 - val_accuracy: 0.9082\n",
      "Epoch 198/1000\n",
      "214/214 [==============================] - 1s 6ms/step - loss: 0.2261 - accuracy: 0.9117 - val_loss: 0.2383 - val_accuracy: 0.9080\n",
      "Epoch 199/1000\n",
      "214/214 [==============================] - 1s 6ms/step - loss: 0.2267 - accuracy: 0.9109 - val_loss: 0.2412 - val_accuracy: 0.9059\n",
      "Epoch 200/1000\n",
      "214/214 [==============================] - 1s 6ms/step - loss: 0.2262 - accuracy: 0.9114 - val_loss: 0.2403 - val_accuracy: 0.9071\n",
      "Epoch 201/1000\n",
      "214/214 [==============================] - 1s 6ms/step - loss: 0.2263 - accuracy: 0.9115 - val_loss: 0.2385 - val_accuracy: 0.9078\n",
      "Epoch 202/1000\n",
      "214/214 [==============================] - 1s 6ms/step - loss: 0.2257 - accuracy: 0.9114 - val_loss: 0.2383 - val_accuracy: 0.9076\n",
      "Epoch 203/1000\n",
      "214/214 [==============================] - 1s 6ms/step - loss: 0.2253 - accuracy: 0.9119 - val_loss: 0.2397 - val_accuracy: 0.9073\n",
      "Epoch 204/1000\n",
      "214/214 [==============================] - 1s 6ms/step - loss: 0.2253 - accuracy: 0.9118 - val_loss: 0.2416 - val_accuracy: 0.9065\n",
      "Epoch 205/1000\n",
      "214/214 [==============================] - 1s 6ms/step - loss: 0.2253 - accuracy: 0.9116 - val_loss: 0.2372 - val_accuracy: 0.9072\n",
      "Epoch 206/1000\n",
      "214/214 [==============================] - 1s 6ms/step - loss: 0.2247 - accuracy: 0.9119 - val_loss: 0.2386 - val_accuracy: 0.9071\n",
      "Epoch 207/1000\n",
      "214/214 [==============================] - 1s 6ms/step - loss: 0.2259 - accuracy: 0.9117 - val_loss: 0.2390 - val_accuracy: 0.9068\n",
      "Epoch 208/1000\n",
      "214/214 [==============================] - 1s 6ms/step - loss: 0.2246 - accuracy: 0.9119 - val_loss: 0.2401 - val_accuracy: 0.9069\n",
      "Epoch 209/1000\n",
      "214/214 [==============================] - 1s 6ms/step - loss: 0.2247 - accuracy: 0.9119 - val_loss: 0.2384 - val_accuracy: 0.9070\n",
      "Epoch 210/1000\n",
      "214/214 [==============================] - 1s 6ms/step - loss: 0.2243 - accuracy: 0.9121 - val_loss: 0.2378 - val_accuracy: 0.9081\n",
      "Epoch 211/1000\n",
      "214/214 [==============================] - 1s 7ms/step - loss: 0.2241 - accuracy: 0.9123 - val_loss: 0.2381 - val_accuracy: 0.9072\n",
      "Epoch 212/1000\n",
      "214/214 [==============================] - 1s 6ms/step - loss: 0.2242 - accuracy: 0.9121 - val_loss: 0.2421 - val_accuracy: 0.9063\n",
      "Epoch 213/1000\n",
      "214/214 [==============================] - 1s 6ms/step - loss: 0.2248 - accuracy: 0.9118 - val_loss: 0.2393 - val_accuracy: 0.9056\n",
      "Epoch 214/1000\n",
      "214/214 [==============================] - 1s 6ms/step - loss: 0.2236 - accuracy: 0.9123 - val_loss: 0.2381 - val_accuracy: 0.9071\n",
      "Epoch 215/1000\n",
      "214/214 [==============================] - 1s 6ms/step - loss: 0.2235 - accuracy: 0.9124 - val_loss: 0.2373 - val_accuracy: 0.9073\n",
      "Epoch 216/1000\n",
      "214/214 [==============================] - 1s 6ms/step - loss: 0.2232 - accuracy: 0.9126 - val_loss: 0.2385 - val_accuracy: 0.9079\n",
      "Epoch 217/1000\n",
      "214/214 [==============================] - 1s 6ms/step - loss: 0.2234 - accuracy: 0.9126 - val_loss: 0.2393 - val_accuracy: 0.9062\n",
      "Epoch 218/1000\n",
      "214/214 [==============================] - 1s 6ms/step - loss: 0.2234 - accuracy: 0.9126 - val_loss: 0.2364 - val_accuracy: 0.9069\n",
      "Epoch 219/1000\n",
      "214/214 [==============================] - 1s 6ms/step - loss: 0.2231 - accuracy: 0.9127 - val_loss: 0.2396 - val_accuracy: 0.9072\n",
      "Epoch 220/1000\n",
      "214/214 [==============================] - 1s 7ms/step - loss: 0.2230 - accuracy: 0.9126 - val_loss: 0.2399 - val_accuracy: 0.9060\n",
      "Epoch 221/1000\n",
      "214/214 [==============================] - 1s 6ms/step - loss: 0.2227 - accuracy: 0.9128 - val_loss: 0.2377 - val_accuracy: 0.9066\n",
      "Epoch 222/1000\n",
      "214/214 [==============================] - 1s 6ms/step - loss: 0.2229 - accuracy: 0.9126 - val_loss: 0.2379 - val_accuracy: 0.9076\n",
      "Epoch 223/1000\n",
      "214/214 [==============================] - 1s 6ms/step - loss: 0.2230 - accuracy: 0.9128 - val_loss: 0.2383 - val_accuracy: 0.9070\n",
      "Epoch 224/1000\n",
      "214/214 [==============================] - 1s 6ms/step - loss: 0.2226 - accuracy: 0.9131 - val_loss: 0.2375 - val_accuracy: 0.9076\n",
      "Epoch 225/1000\n",
      "214/214 [==============================] - 1s 6ms/step - loss: 0.2223 - accuracy: 0.9127 - val_loss: 0.2390 - val_accuracy: 0.9073\n",
      "Epoch 226/1000\n",
      "214/214 [==============================] - 2s 8ms/step - loss: 0.2223 - accuracy: 0.9130 - val_loss: 0.2360 - val_accuracy: 0.9066\n",
      "Epoch 227/1000\n",
      "214/214 [==============================] - 1s 6ms/step - loss: 0.2218 - accuracy: 0.9133 - val_loss: 0.2389 - val_accuracy: 0.9061\n",
      "Epoch 228/1000\n",
      "214/214 [==============================] - 1s 6ms/step - loss: 0.2219 - accuracy: 0.9132 - val_loss: 0.2352 - val_accuracy: 0.9093\n",
      "Epoch 229/1000\n",
      "214/214 [==============================] - 1s 6ms/step - loss: 0.2218 - accuracy: 0.9132 - val_loss: 0.2378 - val_accuracy: 0.9078\n",
      "Epoch 230/1000\n",
      "214/214 [==============================] - 1s 6ms/step - loss: 0.2214 - accuracy: 0.9132 - val_loss: 0.2357 - val_accuracy: 0.9083\n",
      "Epoch 231/1000\n",
      "214/214 [==============================] - 1s 6ms/step - loss: 0.2217 - accuracy: 0.9133 - val_loss: 0.2361 - val_accuracy: 0.9077\n",
      "Epoch 232/1000\n",
      "214/214 [==============================] - 1s 6ms/step - loss: 0.2215 - accuracy: 0.9131 - val_loss: 0.2386 - val_accuracy: 0.9084\n",
      "Epoch 233/1000\n",
      "214/214 [==============================] - 1s 6ms/step - loss: 0.2213 - accuracy: 0.9133 - val_loss: 0.2382 - val_accuracy: 0.9082\n",
      "Epoch 234/1000\n",
      "214/214 [==============================] - 1s 6ms/step - loss: 0.2214 - accuracy: 0.9132 - val_loss: 0.2369 - val_accuracy: 0.9069\n",
      "Epoch 235/1000\n",
      "214/214 [==============================] - 1s 6ms/step - loss: 0.2211 - accuracy: 0.9132 - val_loss: 0.2371 - val_accuracy: 0.9074\n",
      "Epoch 236/1000\n",
      "214/214 [==============================] - 1s 6ms/step - loss: 0.2209 - accuracy: 0.9135 - val_loss: 0.2357 - val_accuracy: 0.9088\n",
      "Epoch 237/1000\n",
      "214/214 [==============================] - 1s 6ms/step - loss: 0.2208 - accuracy: 0.9136 - val_loss: 0.2363 - val_accuracy: 0.9074\n",
      "Epoch 238/1000\n",
      "214/214 [==============================] - 1s 6ms/step - loss: 0.2208 - accuracy: 0.9136 - val_loss: 0.2366 - val_accuracy: 0.9087\n",
      "Epoch 239/1000\n",
      "214/214 [==============================] - 1s 6ms/step - loss: 0.2206 - accuracy: 0.9137 - val_loss: 0.2385 - val_accuracy: 0.9071\n",
      "Epoch 240/1000\n",
      "214/214 [==============================] - 1s 6ms/step - loss: 0.2209 - accuracy: 0.9135 - val_loss: 0.2383 - val_accuracy: 0.9081\n",
      "Epoch 241/1000\n",
      "214/214 [==============================] - 1s 6ms/step - loss: 0.2201 - accuracy: 0.9139 - val_loss: 0.2376 - val_accuracy: 0.9070\n",
      "Epoch 242/1000\n",
      "214/214 [==============================] - 1s 6ms/step - loss: 0.2201 - accuracy: 0.9136 - val_loss: 0.2352 - val_accuracy: 0.9087\n",
      "Epoch 243/1000\n",
      "214/214 [==============================] - 1s 6ms/step - loss: 0.2202 - accuracy: 0.9139 - val_loss: 0.2384 - val_accuracy: 0.9076\n",
      "Epoch 244/1000\n",
      "214/214 [==============================] - 1s 6ms/step - loss: 0.2204 - accuracy: 0.9138 - val_loss: 0.2368 - val_accuracy: 0.9070\n",
      "Epoch 245/1000\n",
      "214/214 [==============================] - 1s 6ms/step - loss: 0.2199 - accuracy: 0.9138 - val_loss: 0.2354 - val_accuracy: 0.9074\n",
      "Epoch 246/1000\n",
      "214/214 [==============================] - 1s 6ms/step - loss: 0.2198 - accuracy: 0.9141 - val_loss: 0.2350 - val_accuracy: 0.9092\n",
      "Epoch 247/1000\n",
      "214/214 [==============================] - 1s 6ms/step - loss: 0.2193 - accuracy: 0.9142 - val_loss: 0.2360 - val_accuracy: 0.9081\n",
      "Epoch 248/1000\n",
      "214/214 [==============================] - 1s 6ms/step - loss: 0.2198 - accuracy: 0.9141 - val_loss: 0.2341 - val_accuracy: 0.9095\n",
      "Epoch 249/1000\n",
      "214/214 [==============================] - 1s 6ms/step - loss: 0.2201 - accuracy: 0.9138 - val_loss: 0.2353 - val_accuracy: 0.9076\n",
      "Epoch 250/1000\n"
     ]
    },
    {
     "name": "stdout",
     "output_type": "stream",
     "text": [
      "214/214 [==============================] - 1s 6ms/step - loss: 0.2195 - accuracy: 0.9142 - val_loss: 0.2351 - val_accuracy: 0.9080\n",
      "Epoch 251/1000\n",
      "214/214 [==============================] - 1s 6ms/step - loss: 0.2195 - accuracy: 0.9141 - val_loss: 0.2362 - val_accuracy: 0.9084\n",
      "Epoch 252/1000\n",
      "214/214 [==============================] - 1s 6ms/step - loss: 0.2200 - accuracy: 0.9138 - val_loss: 0.2381 - val_accuracy: 0.9064\n",
      "Epoch 253/1000\n",
      "214/214 [==============================] - 1s 6ms/step - loss: 0.2194 - accuracy: 0.9142 - val_loss: 0.2357 - val_accuracy: 0.9081\n",
      "Epoch 254/1000\n",
      "214/214 [==============================] - 1s 6ms/step - loss: 0.2192 - accuracy: 0.9145 - val_loss: 0.2341 - val_accuracy: 0.9085\n",
      "Epoch 255/1000\n",
      "214/214 [==============================] - 1s 6ms/step - loss: 0.2190 - accuracy: 0.9145 - val_loss: 0.2355 - val_accuracy: 0.9077\n",
      "Epoch 256/1000\n",
      "214/214 [==============================] - 1s 6ms/step - loss: 0.2192 - accuracy: 0.9142 - val_loss: 0.2354 - val_accuracy: 0.9084\n",
      "Epoch 257/1000\n",
      "214/214 [==============================] - 1s 6ms/step - loss: 0.2188 - accuracy: 0.9144 - val_loss: 0.2348 - val_accuracy: 0.9087\n",
      "Epoch 258/1000\n",
      "214/214 [==============================] - 1s 6ms/step - loss: 0.2186 - accuracy: 0.9144 - val_loss: 0.2345 - val_accuracy: 0.9085\n",
      "Epoch 259/1000\n",
      "214/214 [==============================] - 1s 6ms/step - loss: 0.2181 - accuracy: 0.9149 - val_loss: 0.2345 - val_accuracy: 0.9090\n",
      "Epoch 260/1000\n",
      "214/214 [==============================] - 1s 6ms/step - loss: 0.2182 - accuracy: 0.9146 - val_loss: 0.2354 - val_accuracy: 0.9077\n",
      "Epoch 261/1000\n",
      "214/214 [==============================] - 1s 6ms/step - loss: 0.2185 - accuracy: 0.9145 - val_loss: 0.2355 - val_accuracy: 0.9083\n",
      "Epoch 262/1000\n",
      "214/214 [==============================] - 1s 6ms/step - loss: 0.2181 - accuracy: 0.9146 - val_loss: 0.2350 - val_accuracy: 0.9086\n",
      "Epoch 263/1000\n",
      "214/214 [==============================] - 1s 6ms/step - loss: 0.2183 - accuracy: 0.9147 - val_loss: 0.2337 - val_accuracy: 0.9095\n",
      "Epoch 264/1000\n",
      "214/214 [==============================] - 1s 6ms/step - loss: 0.2184 - accuracy: 0.9146 - val_loss: 0.2355 - val_accuracy: 0.9082\n",
      "Epoch 265/1000\n",
      "214/214 [==============================] - 1s 6ms/step - loss: 0.2182 - accuracy: 0.9147 - val_loss: 0.2353 - val_accuracy: 0.9087\n",
      "Epoch 266/1000\n",
      "214/214 [==============================] - 1s 6ms/step - loss: 0.2180 - accuracy: 0.9150 - val_loss: 0.2393 - val_accuracy: 0.9057\n",
      "Epoch 267/1000\n",
      "214/214 [==============================] - 1s 6ms/step - loss: 0.2180 - accuracy: 0.9149 - val_loss: 0.2395 - val_accuracy: 0.9069\n",
      "Epoch 268/1000\n",
      "214/214 [==============================] - 1s 6ms/step - loss: 0.2180 - accuracy: 0.9147 - val_loss: 0.2340 - val_accuracy: 0.9097\n",
      "Epoch 269/1000\n",
      "214/214 [==============================] - 1s 6ms/step - loss: 0.2178 - accuracy: 0.9147 - val_loss: 0.2332 - val_accuracy: 0.9097\n",
      "Epoch 270/1000\n",
      "214/214 [==============================] - 1s 6ms/step - loss: 0.2179 - accuracy: 0.9148 - val_loss: 0.2333 - val_accuracy: 0.9094\n",
      "Epoch 271/1000\n",
      "214/214 [==============================] - 1s 6ms/step - loss: 0.2180 - accuracy: 0.9148 - val_loss: 0.2368 - val_accuracy: 0.9089\n",
      "Epoch 272/1000\n",
      "214/214 [==============================] - 1s 6ms/step - loss: 0.2178 - accuracy: 0.9148 - val_loss: 0.2342 - val_accuracy: 0.9090\n",
      "Epoch 273/1000\n",
      "214/214 [==============================] - 1s 6ms/step - loss: 0.2178 - accuracy: 0.9148 - val_loss: 0.2340 - val_accuracy: 0.9097\n",
      "Epoch 274/1000\n",
      "214/214 [==============================] - 1s 6ms/step - loss: 0.2180 - accuracy: 0.9150 - val_loss: 0.2345 - val_accuracy: 0.9094\n",
      "Epoch 275/1000\n",
      "214/214 [==============================] - 1s 6ms/step - loss: 0.2172 - accuracy: 0.9152 - val_loss: 0.2345 - val_accuracy: 0.9087\n",
      "Epoch 276/1000\n",
      "214/214 [==============================] - 1s 6ms/step - loss: 0.2173 - accuracy: 0.9148 - val_loss: 0.2387 - val_accuracy: 0.9068\n",
      "Epoch 277/1000\n",
      "214/214 [==============================] - 1s 6ms/step - loss: 0.2179 - accuracy: 0.9146 - val_loss: 0.2380 - val_accuracy: 0.9076\n",
      "Epoch 278/1000\n",
      "214/214 [==============================] - 1s 6ms/step - loss: 0.2173 - accuracy: 0.9151 - val_loss: 0.2352 - val_accuracy: 0.9084\n",
      "Epoch 279/1000\n",
      "214/214 [==============================] - 1s 6ms/step - loss: 0.2170 - accuracy: 0.9151 - val_loss: 0.2325 - val_accuracy: 0.9097\n",
      "Epoch 280/1000\n",
      "214/214 [==============================] - 1s 6ms/step - loss: 0.2171 - accuracy: 0.9150 - val_loss: 0.2332 - val_accuracy: 0.9093\n",
      "Epoch 281/1000\n",
      "214/214 [==============================] - 1s 6ms/step - loss: 0.2168 - accuracy: 0.9154 - val_loss: 0.2341 - val_accuracy: 0.9094\n",
      "Epoch 282/1000\n",
      "214/214 [==============================] - 1s 6ms/step - loss: 0.2168 - accuracy: 0.9154 - val_loss: 0.2340 - val_accuracy: 0.9092\n",
      "Epoch 283/1000\n",
      "214/214 [==============================] - 1s 6ms/step - loss: 0.2170 - accuracy: 0.9152 - val_loss: 0.2342 - val_accuracy: 0.9089\n",
      "Epoch 284/1000\n",
      "214/214 [==============================] - 1s 6ms/step - loss: 0.2169 - accuracy: 0.9153 - val_loss: 0.2338 - val_accuracy: 0.9092\n",
      "Epoch 285/1000\n",
      "214/214 [==============================] - 1s 6ms/step - loss: 0.2166 - accuracy: 0.9153 - val_loss: 0.2332 - val_accuracy: 0.9101\n",
      "Epoch 286/1000\n",
      "214/214 [==============================] - 1s 6ms/step - loss: 0.2170 - accuracy: 0.9154 - val_loss: 0.2346 - val_accuracy: 0.9090\n",
      "Epoch 287/1000\n",
      "214/214 [==============================] - 1s 6ms/step - loss: 0.2163 - accuracy: 0.9155 - val_loss: 0.2349 - val_accuracy: 0.9089\n",
      "Epoch 288/1000\n",
      "214/214 [==============================] - 1s 6ms/step - loss: 0.2163 - accuracy: 0.9154 - val_loss: 0.2327 - val_accuracy: 0.9103\n",
      "Epoch 289/1000\n",
      "214/214 [==============================] - 1s 6ms/step - loss: 0.2169 - accuracy: 0.9154 - val_loss: 0.2352 - val_accuracy: 0.9092\n",
      "Epoch 290/1000\n",
      "214/214 [==============================] - 1s 6ms/step - loss: 0.2164 - accuracy: 0.9153 - val_loss: 0.2328 - val_accuracy: 0.9098\n",
      "Epoch 291/1000\n",
      "214/214 [==============================] - 1s 6ms/step - loss: 0.2164 - accuracy: 0.9156 - val_loss: 0.2340 - val_accuracy: 0.9102\n",
      "Epoch 292/1000\n",
      "214/214 [==============================] - 1s 6ms/step - loss: 0.2160 - accuracy: 0.9155 - val_loss: 0.2333 - val_accuracy: 0.9097\n",
      "Epoch 293/1000\n",
      "214/214 [==============================] - 1s 6ms/step - loss: 0.2161 - accuracy: 0.9155 - val_loss: 0.2314 - val_accuracy: 0.9107\n",
      "Epoch 294/1000\n",
      "214/214 [==============================] - 1s 6ms/step - loss: 0.2160 - accuracy: 0.9154 - val_loss: 0.2340 - val_accuracy: 0.9100\n",
      "Epoch 295/1000\n",
      "214/214 [==============================] - 1s 6ms/step - loss: 0.2160 - accuracy: 0.9157 - val_loss: 0.2358 - val_accuracy: 0.9086\n",
      "Epoch 296/1000\n",
      "214/214 [==============================] - 1s 6ms/step - loss: 0.2156 - accuracy: 0.9156 - val_loss: 0.2356 - val_accuracy: 0.9091\n",
      "Epoch 297/1000\n",
      "214/214 [==============================] - 1s 6ms/step - loss: 0.2157 - accuracy: 0.9159 - val_loss: 0.2345 - val_accuracy: 0.9100\n",
      "Epoch 298/1000\n",
      "214/214 [==============================] - 3s 12ms/step - loss: 0.2158 - accuracy: 0.9159 - val_loss: 0.2326 - val_accuracy: 0.9104\n",
      "Epoch 299/1000\n",
      "214/214 [==============================] - 1s 6ms/step - loss: 0.2158 - accuracy: 0.9159 - val_loss: 0.2345 - val_accuracy: 0.9085\n",
      "Epoch 300/1000\n",
      "214/214 [==============================] - 1s 6ms/step - loss: 0.2156 - accuracy: 0.9157 - val_loss: 0.2350 - val_accuracy: 0.9088\n",
      "Epoch 301/1000\n",
      "214/214 [==============================] - 1s 6ms/step - loss: 0.2159 - accuracy: 0.9155 - val_loss: 0.2338 - val_accuracy: 0.9098\n",
      "Epoch 302/1000\n",
      "214/214 [==============================] - 1s 6ms/step - loss: 0.2153 - accuracy: 0.9159 - val_loss: 0.2325 - val_accuracy: 0.9108\n",
      "Epoch 303/1000\n",
      "214/214 [==============================] - 1s 6ms/step - loss: 0.2154 - accuracy: 0.9159 - val_loss: 0.2323 - val_accuracy: 0.9103\n",
      "Epoch 304/1000\n",
      "214/214 [==============================] - 1s 6ms/step - loss: 0.2154 - accuracy: 0.9159 - val_loss: 0.2323 - val_accuracy: 0.9099\n",
      "Epoch 305/1000\n",
      "214/214 [==============================] - 1s 6ms/step - loss: 0.2157 - accuracy: 0.9157 - val_loss: 0.2339 - val_accuracy: 0.9089\n",
      "Epoch 306/1000\n",
      "214/214 [==============================] - 1s 6ms/step - loss: 0.2150 - accuracy: 0.9158 - val_loss: 0.2325 - val_accuracy: 0.9100\n",
      "Epoch 307/1000\n",
      "214/214 [==============================] - 1s 6ms/step - loss: 0.2154 - accuracy: 0.9158 - val_loss: 0.2323 - val_accuracy: 0.9107\n",
      "Epoch 308/1000\n",
      "214/214 [==============================] - 1s 6ms/step - loss: 0.2151 - accuracy: 0.9159 - val_loss: 0.2323 - val_accuracy: 0.9106\n",
      "Epoch 309/1000\n",
      "214/214 [==============================] - 1s 6ms/step - loss: 0.2153 - accuracy: 0.9159 - val_loss: 0.2332 - val_accuracy: 0.9100\n",
      "Epoch 310/1000\n",
      "214/214 [==============================] - 1s 6ms/step - loss: 0.2150 - accuracy: 0.9160 - val_loss: 0.2320 - val_accuracy: 0.9107\n",
      "Epoch 311/1000\n",
      "214/214 [==============================] - 1s 6ms/step - loss: 0.2150 - accuracy: 0.9161 - val_loss: 0.2327 - val_accuracy: 0.9100\n",
      "Epoch 312/1000\n",
      "214/214 [==============================] - 1s 6ms/step - loss: 0.2145 - accuracy: 0.9164 - val_loss: 0.2338 - val_accuracy: 0.9097\n",
      "Epoch 313/1000\n",
      "214/214 [==============================] - 1s 6ms/step - loss: 0.2149 - accuracy: 0.9161 - val_loss: 0.2338 - val_accuracy: 0.9102\n",
      "Epoch 314/1000\n",
      "214/214 [==============================] - 1s 6ms/step - loss: 0.2151 - accuracy: 0.9159 - val_loss: 0.2320 - val_accuracy: 0.9096\n",
      "Epoch 315/1000\n",
      "214/214 [==============================] - 1s 6ms/step - loss: 0.2145 - accuracy: 0.9163 - val_loss: 0.2319 - val_accuracy: 0.9101\n",
      "Epoch 316/1000\n",
      "214/214 [==============================] - 1s 6ms/step - loss: 0.2146 - accuracy: 0.9161 - val_loss: 0.2339 - val_accuracy: 0.9093\n",
      "Epoch 317/1000\n",
      "214/214 [==============================] - 1s 6ms/step - loss: 0.2145 - accuracy: 0.9162 - val_loss: 0.2337 - val_accuracy: 0.9104\n",
      "Epoch 318/1000\n",
      "214/214 [==============================] - 1s 6ms/step - loss: 0.2145 - accuracy: 0.9160 - val_loss: 0.2328 - val_accuracy: 0.9108\n",
      "Epoch 319/1000\n",
      "214/214 [==============================] - 1s 6ms/step - loss: 0.2140 - accuracy: 0.9164 - val_loss: 0.2333 - val_accuracy: 0.9099\n",
      "Epoch 320/1000\n",
      "214/214 [==============================] - 1s 6ms/step - loss: 0.2148 - accuracy: 0.9163 - val_loss: 0.2326 - val_accuracy: 0.9117\n",
      "Epoch 321/1000\n",
      "214/214 [==============================] - 1s 6ms/step - loss: 0.2143 - accuracy: 0.9166 - val_loss: 0.2310 - val_accuracy: 0.9110\n",
      "Epoch 322/1000\n",
      "214/214 [==============================] - 1s 6ms/step - loss: 0.2148 - accuracy: 0.9160 - val_loss: 0.2327 - val_accuracy: 0.9110\n",
      "Epoch 323/1000\n",
      "214/214 [==============================] - 1s 6ms/step - loss: 0.2142 - accuracy: 0.9164 - val_loss: 0.2356 - val_accuracy: 0.9083\n",
      "Epoch 324/1000\n",
      "214/214 [==============================] - 1s 6ms/step - loss: 0.2146 - accuracy: 0.9163 - val_loss: 0.2309 - val_accuracy: 0.9111\n",
      "Epoch 325/1000\n",
      "214/214 [==============================] - 1s 6ms/step - loss: 0.2140 - accuracy: 0.9164 - val_loss: 0.2324 - val_accuracy: 0.9105\n",
      "Epoch 326/1000\n",
      "214/214 [==============================] - 1s 6ms/step - loss: 0.2141 - accuracy: 0.9163 - val_loss: 0.2321 - val_accuracy: 0.9118\n",
      "Epoch 327/1000\n",
      "214/214 [==============================] - 1s 6ms/step - loss: 0.2136 - accuracy: 0.9166 - val_loss: 0.2402 - val_accuracy: 0.9072\n",
      "Epoch 328/1000\n",
      "214/214 [==============================] - 1s 6ms/step - loss: 0.2140 - accuracy: 0.9165 - val_loss: 0.2342 - val_accuracy: 0.9090\n",
      "Epoch 329/1000\n",
      "214/214 [==============================] - 1s 6ms/step - loss: 0.2137 - accuracy: 0.9168 - val_loss: 0.2321 - val_accuracy: 0.9101\n",
      "Epoch 330/1000\n",
      "214/214 [==============================] - 1s 6ms/step - loss: 0.2137 - accuracy: 0.9165 - val_loss: 0.2324 - val_accuracy: 0.9106\n",
      "Epoch 331/1000\n",
      "214/214 [==============================] - 1s 6ms/step - loss: 0.2135 - accuracy: 0.9167 - val_loss: 0.2357 - val_accuracy: 0.9099\n",
      "Epoch 332/1000\n",
      "214/214 [==============================] - 1s 6ms/step - loss: 0.2140 - accuracy: 0.9164 - val_loss: 0.2343 - val_accuracy: 0.9099\n",
      "Epoch 333/1000\n",
      "214/214 [==============================] - 1s 6ms/step - loss: 0.2133 - accuracy: 0.9166 - val_loss: 0.2336 - val_accuracy: 0.9105\n",
      "Epoch 334/1000\n",
      "214/214 [==============================] - 1s 6ms/step - loss: 0.2130 - accuracy: 0.9169 - val_loss: 0.2331 - val_accuracy: 0.9101\n",
      "Epoch 335/1000\n",
      "214/214 [==============================] - 1s 6ms/step - loss: 0.2135 - accuracy: 0.9164 - val_loss: 0.2315 - val_accuracy: 0.9115\n",
      "Epoch 336/1000\n",
      "214/214 [==============================] - 1s 6ms/step - loss: 0.2133 - accuracy: 0.9168 - val_loss: 0.2348 - val_accuracy: 0.9106\n",
      "Epoch 337/1000\n",
      "214/214 [==============================] - 1s 6ms/step - loss: 0.2134 - accuracy: 0.9168 - val_loss: 0.2326 - val_accuracy: 0.9099\n",
      "Epoch 338/1000\n",
      "214/214 [==============================] - 1s 6ms/step - loss: 0.2136 - accuracy: 0.9166 - val_loss: 0.2317 - val_accuracy: 0.9113\n",
      "Epoch 339/1000\n",
      "214/214 [==============================] - 1s 6ms/step - loss: 0.2130 - accuracy: 0.9169 - val_loss: 0.2351 - val_accuracy: 0.9092\n",
      "Epoch 340/1000\n",
      "214/214 [==============================] - 1s 6ms/step - loss: 0.2129 - accuracy: 0.9169 - val_loss: 0.2318 - val_accuracy: 0.9106\n",
      "Epoch 341/1000\n",
      "214/214 [==============================] - 1s 6ms/step - loss: 0.2135 - accuracy: 0.9166 - val_loss: 0.2343 - val_accuracy: 0.9105\n",
      "Epoch 342/1000\n",
      "214/214 [==============================] - 1s 6ms/step - loss: 0.2138 - accuracy: 0.9166 - val_loss: 0.2352 - val_accuracy: 0.9106\n",
      "Epoch 343/1000\n",
      "214/214 [==============================] - 1s 6ms/step - loss: 0.2133 - accuracy: 0.9168 - val_loss: 0.2322 - val_accuracy: 0.9115\n",
      "Epoch 344/1000\n",
      "214/214 [==============================] - 1s 6ms/step - loss: 0.2132 - accuracy: 0.9170 - val_loss: 0.2327 - val_accuracy: 0.9112\n",
      "Epoch 345/1000\n",
      "214/214 [==============================] - 1s 6ms/step - loss: 0.2128 - accuracy: 0.9168 - val_loss: 0.2356 - val_accuracy: 0.9096\n",
      "Epoch 346/1000\n",
      "214/214 [==============================] - 1s 6ms/step - loss: 0.2128 - accuracy: 0.9169 - val_loss: 0.2323 - val_accuracy: 0.9112\n",
      "Epoch 347/1000\n",
      "214/214 [==============================] - 1s 6ms/step - loss: 0.2129 - accuracy: 0.9170 - val_loss: 0.2320 - val_accuracy: 0.9110\n",
      "Epoch 348/1000\n",
      "214/214 [==============================] - 1s 6ms/step - loss: 0.2125 - accuracy: 0.9173 - val_loss: 0.2312 - val_accuracy: 0.9111\n",
      "Epoch 349/1000\n",
      "214/214 [==============================] - 1s 6ms/step - loss: 0.2124 - accuracy: 0.9172 - val_loss: 0.2317 - val_accuracy: 0.9116\n",
      "Epoch 350/1000\n",
      "214/214 [==============================] - 1s 6ms/step - loss: 0.2127 - accuracy: 0.9171 - val_loss: 0.2341 - val_accuracy: 0.9101\n",
      "Epoch 351/1000\n",
      "214/214 [==============================] - 1s 6ms/step - loss: 0.2124 - accuracy: 0.9170 - val_loss: 0.2320 - val_accuracy: 0.9106\n",
      "Epoch 352/1000\n",
      "214/214 [==============================] - 1s 6ms/step - loss: 0.2125 - accuracy: 0.9172 - val_loss: 0.2338 - val_accuracy: 0.9107\n",
      "Epoch 353/1000\n",
      "214/214 [==============================] - 1s 6ms/step - loss: 0.2127 - accuracy: 0.9170 - val_loss: 0.2324 - val_accuracy: 0.9109\n",
      "Epoch 354/1000\n",
      "214/214 [==============================] - 1s 6ms/step - loss: 0.2125 - accuracy: 0.9173 - val_loss: 0.2303 - val_accuracy: 0.9123\n",
      "Epoch 355/1000\n",
      "214/214 [==============================] - 1s 6ms/step - loss: 0.2126 - accuracy: 0.9171 - val_loss: 0.2342 - val_accuracy: 0.9101\n",
      "Epoch 356/1000\n",
      "214/214 [==============================] - 1s 6ms/step - loss: 0.2123 - accuracy: 0.9171 - val_loss: 0.2321 - val_accuracy: 0.9115\n",
      "Epoch 357/1000\n",
      "214/214 [==============================] - 1s 6ms/step - loss: 0.2130 - accuracy: 0.9167 - val_loss: 0.2320 - val_accuracy: 0.9110\n",
      "Epoch 358/1000\n",
      "214/214 [==============================] - 1s 6ms/step - loss: 0.2121 - accuracy: 0.9172 - val_loss: 0.2350 - val_accuracy: 0.9097\n",
      "Epoch 359/1000\n",
      "214/214 [==============================] - 1s 6ms/step - loss: 0.2122 - accuracy: 0.9170 - val_loss: 0.2320 - val_accuracy: 0.9113\n",
      "Epoch 360/1000\n",
      "214/214 [==============================] - 1s 6ms/step - loss: 0.2126 - accuracy: 0.9172 - val_loss: 0.2328 - val_accuracy: 0.9102\n",
      "Epoch 361/1000\n",
      "214/214 [==============================] - 1s 6ms/step - loss: 0.2122 - accuracy: 0.9172 - val_loss: 0.2317 - val_accuracy: 0.9116\n",
      "Epoch 362/1000\n"
     ]
    },
    {
     "name": "stdout",
     "output_type": "stream",
     "text": [
      "214/214 [==============================] - 1s 6ms/step - loss: 0.2120 - accuracy: 0.9174 - val_loss: 0.2313 - val_accuracy: 0.9124\n",
      "Epoch 363/1000\n",
      "214/214 [==============================] - 1s 6ms/step - loss: 0.2124 - accuracy: 0.9170 - val_loss: 0.2335 - val_accuracy: 0.9112\n",
      "Epoch 364/1000\n",
      "214/214 [==============================] - 1s 6ms/step - loss: 0.2118 - accuracy: 0.9175 - val_loss: 0.2313 - val_accuracy: 0.9117\n",
      "Epoch 365/1000\n",
      "214/214 [==============================] - 1s 6ms/step - loss: 0.2114 - accuracy: 0.9173 - val_loss: 0.2322 - val_accuracy: 0.9107\n",
      "Epoch 366/1000\n",
      "214/214 [==============================] - 1s 6ms/step - loss: 0.2119 - accuracy: 0.9175 - val_loss: 0.2329 - val_accuracy: 0.9108\n",
      "Epoch 367/1000\n",
      "214/214 [==============================] - 1s 6ms/step - loss: 0.2122 - accuracy: 0.9171 - val_loss: 0.2355 - val_accuracy: 0.9102\n",
      "Epoch 368/1000\n",
      "214/214 [==============================] - 1s 6ms/step - loss: 0.2117 - accuracy: 0.9176 - val_loss: 0.2323 - val_accuracy: 0.9112\n",
      "Epoch 369/1000\n",
      "214/214 [==============================] - 1s 6ms/step - loss: 0.2114 - accuracy: 0.9177 - val_loss: 0.2310 - val_accuracy: 0.9113\n",
      "Epoch 370/1000\n",
      "214/214 [==============================] - 1s 6ms/step - loss: 0.2118 - accuracy: 0.9175 - val_loss: 0.2331 - val_accuracy: 0.9109\n",
      "Epoch 371/1000\n",
      "214/214 [==============================] - 1s 6ms/step - loss: 0.2117 - accuracy: 0.9175 - val_loss: 0.2304 - val_accuracy: 0.9117\n",
      "Epoch 372/1000\n",
      "214/214 [==============================] - 1s 6ms/step - loss: 0.2119 - accuracy: 0.9173 - val_loss: 0.2317 - val_accuracy: 0.9115\n",
      "Epoch 373/1000\n",
      "214/214 [==============================] - 1s 6ms/step - loss: 0.2114 - accuracy: 0.9175 - val_loss: 0.2302 - val_accuracy: 0.9118\n",
      "Epoch 374/1000\n",
      "214/214 [==============================] - 1s 6ms/step - loss: 0.2113 - accuracy: 0.9175 - val_loss: 0.2317 - val_accuracy: 0.9114\n",
      "Epoch 375/1000\n",
      "214/214 [==============================] - 1s 6ms/step - loss: 0.2123 - accuracy: 0.9170 - val_loss: 0.2319 - val_accuracy: 0.9109\n",
      "Epoch 376/1000\n",
      "214/214 [==============================] - 1s 6ms/step - loss: 0.2109 - accuracy: 0.9178 - val_loss: 0.2303 - val_accuracy: 0.9122\n",
      "Epoch 377/1000\n",
      "214/214 [==============================] - 1s 6ms/step - loss: 0.2114 - accuracy: 0.9178 - val_loss: 0.2323 - val_accuracy: 0.9106\n",
      "Epoch 378/1000\n",
      "214/214 [==============================] - 1s 6ms/step - loss: 0.2112 - accuracy: 0.9177 - val_loss: 0.2333 - val_accuracy: 0.9105\n",
      "Epoch 379/1000\n",
      "214/214 [==============================] - 1s 6ms/step - loss: 0.2112 - accuracy: 0.9177 - val_loss: 0.2348 - val_accuracy: 0.9109\n",
      "Epoch 380/1000\n",
      "214/214 [==============================] - 1s 6ms/step - loss: 0.2117 - accuracy: 0.9173 - val_loss: 0.2336 - val_accuracy: 0.9104\n",
      "Epoch 381/1000\n",
      "214/214 [==============================] - 1s 6ms/step - loss: 0.2111 - accuracy: 0.9179 - val_loss: 0.2320 - val_accuracy: 0.9113\n",
      "Epoch 382/1000\n",
      "214/214 [==============================] - 1s 6ms/step - loss: 0.2112 - accuracy: 0.9177 - val_loss: 0.2321 - val_accuracy: 0.9112\n",
      "Epoch 383/1000\n",
      "214/214 [==============================] - 1s 6ms/step - loss: 0.2111 - accuracy: 0.9176 - val_loss: 0.2324 - val_accuracy: 0.9111\n",
      "Epoch 384/1000\n",
      "214/214 [==============================] - 1s 6ms/step - loss: 0.2112 - accuracy: 0.9178 - val_loss: 0.2312 - val_accuracy: 0.9115\n",
      "Epoch 385/1000\n",
      "214/214 [==============================] - 1s 6ms/step - loss: 0.2111 - accuracy: 0.9178 - val_loss: 0.2319 - val_accuracy: 0.9110\n",
      "Epoch 386/1000\n",
      "214/214 [==============================] - 1s 6ms/step - loss: 0.2110 - accuracy: 0.9179 - val_loss: 0.2316 - val_accuracy: 0.9110\n",
      "Epoch 387/1000\n",
      "214/214 [==============================] - 1s 6ms/step - loss: 0.2113 - accuracy: 0.9177 - val_loss: 0.2316 - val_accuracy: 0.9116\n",
      "Epoch 388/1000\n",
      "214/214 [==============================] - 1s 6ms/step - loss: 0.2106 - accuracy: 0.9180 - val_loss: 0.2315 - val_accuracy: 0.9113\n",
      "Epoch 389/1000\n",
      "214/214 [==============================] - 1s 6ms/step - loss: 0.2111 - accuracy: 0.9176 - val_loss: 0.2328 - val_accuracy: 0.9101\n",
      "Epoch 390/1000\n",
      "214/214 [==============================] - 1s 6ms/step - loss: 0.2107 - accuracy: 0.9180 - val_loss: 0.2323 - val_accuracy: 0.9113\n",
      "Epoch 391/1000\n",
      "214/214 [==============================] - 1s 6ms/step - loss: 0.2109 - accuracy: 0.9177 - val_loss: 0.2306 - val_accuracy: 0.9121\n",
      "Epoch 392/1000\n",
      "214/214 [==============================] - 1s 6ms/step - loss: 0.2105 - accuracy: 0.9181 - val_loss: 0.2321 - val_accuracy: 0.9114\n",
      "Epoch 393/1000\n",
      "214/214 [==============================] - 1s 6ms/step - loss: 0.2109 - accuracy: 0.9179 - val_loss: 0.2322 - val_accuracy: 0.9112\n",
      "Epoch 394/1000\n",
      "214/214 [==============================] - 1s 6ms/step - loss: 0.2103 - accuracy: 0.9180 - val_loss: 0.2310 - val_accuracy: 0.9112\n",
      "Epoch 395/1000\n",
      "214/214 [==============================] - 1s 6ms/step - loss: 0.2106 - accuracy: 0.9180 - val_loss: 0.2345 - val_accuracy: 0.9097\n",
      "Epoch 396/1000\n",
      "214/214 [==============================] - 1s 6ms/step - loss: 0.2107 - accuracy: 0.9177 - val_loss: 0.2313 - val_accuracy: 0.9120\n",
      "Epoch 397/1000\n",
      "214/214 [==============================] - 1s 6ms/step - loss: 0.2110 - accuracy: 0.9177 - val_loss: 0.2316 - val_accuracy: 0.9116\n",
      "Epoch 398/1000\n",
      "214/214 [==============================] - 1s 6ms/step - loss: 0.2107 - accuracy: 0.9178 - val_loss: 0.2319 - val_accuracy: 0.9113\n",
      "Epoch 399/1000\n",
      "214/214 [==============================] - 1s 6ms/step - loss: 0.2109 - accuracy: 0.9178 - val_loss: 0.2305 - val_accuracy: 0.9115\n",
      "Epoch 400/1000\n",
      "214/214 [==============================] - 1s 6ms/step - loss: 0.2103 - accuracy: 0.9181 - val_loss: 0.2318 - val_accuracy: 0.9117\n",
      "Epoch 401/1000\n",
      "214/214 [==============================] - 1s 6ms/step - loss: 0.2101 - accuracy: 0.9182 - val_loss: 0.2321 - val_accuracy: 0.9113\n",
      "Epoch 402/1000\n",
      "214/214 [==============================] - 1s 6ms/step - loss: 0.2105 - accuracy: 0.9180 - val_loss: 0.2315 - val_accuracy: 0.9119\n",
      "Epoch 403/1000\n",
      "214/214 [==============================] - 1s 6ms/step - loss: 0.2104 - accuracy: 0.9181 - val_loss: 0.2312 - val_accuracy: 0.9113\n",
      "Epoch 403: early stopping\n"
     ]
    }
   ],
   "source": [
    "#flat_df = flat_df.dropna()\n",
    "\n",
    "#flat_df = flat_df.sample(frac = 1)\n",
    "\n",
    "import keras.backend as K\n",
    "from keras.layers import Input, Dense\n",
    "from keras.models import Model\n",
    "from keras.losses import mse, binary_crossentropy, CategoricalCrossentropy, categorical_crossentropy\n",
    "import numpy as np\n",
    "\n",
    "K.clear_session()\n",
    "\n",
    "# Some random training data\n",
    "#features = np.asarray(flat_df[variablesTrain[:-3]]).astype(np.float32)\n",
    "features = flat_df[variablesTrain[:-1]]\n",
    "\n",
    "# Architecture:\n",
    "input_layer = Input((flat_df[variablesTrain[:-1]].shape[1],))\n",
    "dense_1 = Dense(64, activation='relu')(input_layer)\n",
    "dense_2 = Dense(64, activation='relu')(dense_1)\n",
    "dense_3 = Dense(32, activation='relu')(dense_2)\n",
    "dense_4 = Dense(16, activation='relu')(dense_3)\n",
    "dense_5 = Dense(8, activation='relu')(dense_4)\n",
    "classifier_1 = Dense(1, activation='sigmoid')(dense_5)\n",
    "\n",
    "# Two additional 'inputs' for the labels\n",
    "label_layer_1 = Input((1,))\n",
    "label_layer_2 = Input((groups.shape[1],))\n",
    "\n",
    "# Instantiate model, pass label layers as inputs\n",
    "model_2 = Model(inputs=[input_layer, label_layer_1, label_layer_2], outputs=[classifier_1])\n",
    "\n",
    "# Construct custom loss\n",
    "loss_2 = (binary_crossentropy(label_layer_1, classifier_1))\n",
    "\n",
    "# Add loss to model\n",
    "model_2.add_loss(loss_2)\n",
    "\n",
    "# Compile without specifying a loss\n",
    "model_2.compile(optimizer=tf.optimizers.Adam(0.0005), metrics=['accuracy'])\n",
    "\n",
    "model_2.summary()\n",
    "history_2 = model_2.fit([features, flat_df['y'], flat_df['Cluster_Size']], flat_df['y'], sample_weight=flat_df['weight'], shuffle=True, validation_split=0.1, epochs=1000, batch_size=2000, verbose=1, callbacks=[callbacks.EarlyStopping(monitor='val_loss',patience=30,verbose=1)])\n",
    "\n",
    "\n"
   ]
  },
  {
   "cell_type": "code",
   "execution_count": 20,
   "metadata": {},
   "outputs": [
    {
     "data": {
      "image/png": "[encoded data removed]",
      "text/plain": [
       "<Figure size 432x288 with 1 Axes>"
      ]
     },
     "metadata": {
      "needs_background": "light"
     },
     "output_type": "display_data"
    }
   ],
   "source": [
    "import matplotlib.pyplot as plt\n",
    "\n",
    "# summarize history for loss\n",
    "plt.plot(history_2.history['loss'])\n",
    "plt.plot(history_2.history['val_loss'])\n",
    "plt.title('model loss')\n",
    "plt.ylabel('Custom loss')\n",
    "plt.xlabel('epoch')\n",
    "plt.legend(['train', 'validation'], loc='upper right')\n",
    "plt.savefig('Plots_presentation_PlusbeamHalo/model_loss_noAdversarial.png')\n",
    "\n",
    "plt.show()"
   ]
  },
  {
   "cell_type": "code",
   "execution_count": 19,
   "metadata": {},
   "outputs": [
    {
     "data": {
      "text/plain": [
       "Index(['Cluster_XSpread', 'Cluster_YSpread', 'Cluster_ZSpread',\n",
       "       'Cluster_XYSpread', 'Cluster_RSpread', 'Cluster_SkewX', 'Cluster_SkewY',\n",
       "       'frac_s1', 'frac_s2', 'frac_s3', 'frac_s4', 'frac_rw1', 'frac_rw2',\n",
       "       'frac_rw3'],\n",
       "      dtype='object')"
      ]
     },
     "execution_count": 19,
     "metadata": {},
     "output_type": "execute_result"
    }
   ],
   "source": [
    "features.columns"
   ]
  },
  {
   "cell_type": "code",
   "execution_count": 20,
   "metadata": {},
   "outputs": [
    {
     "data": {
      "text/plain": [
       "14"
      ]
     },
     "execution_count": 20,
     "metadata": {},
     "output_type": "execute_result"
    }
   ],
   "source": [
    "flat_df[variablesTrain[:-1]].shape[1]"
   ]
  },
  {
   "cell_type": "code",
   "execution_count": 21,
   "metadata": {},
   "outputs": [
    {
     "data": {
      "text/plain": [
       "<function matplotlib.pyplot.show(close=None, block=None)>"
      ]
     },
     "execution_count": 21,
     "metadata": {},
     "output_type": "execute_result"
    },
    {
     "data": {
      "image/png": "[encoded data removed]",
      "text/plain": [
       "<Figure size 432x288 with 1 Axes>"
      ]
     },
     "metadata": {
      "needs_background": "light"
     },
     "output_type": "display_data"
    }
   ],
   "source": [
    "plt.hist(flat_df['weight'], bins=50)\n",
    "plt.xlim([0, 0.01])\n",
    "plt.show"
   ]
  },
  {
   "cell_type": "code",
   "execution_count": 22,
   "metadata": {},
   "outputs": [
    {
     "data": {
      "text/plain": [
       "(array([16578.67, 14697.77, 13370.95, 12753.27, 12402.91, 11879.76,\n",
       "        11993.19, 11912.01, 12176.4 , 12495.26, 12329.22, 12530.55,\n",
       "        13107.6 , 13121.89, 13298.68, 13720.22, 13840.08, 14128.87,\n",
       "        14480.01, 14433.51, 14883.65, 15378.76, 15023.98, 15494.02,\n",
       "        15642.92, 15650.47, 15923.72, 16290.5 , 16513.2 , 16440.55,\n",
       "        16734.59, 17059.49, 17015.47, 16872.78, 16870.36, 17184.88,\n",
       "        17069.63, 17547.94, 17782.46, 17337.4 , 17472.52, 17789.68,\n",
       "        17877.42, 18035.22, 18269.16, 17627.3 , 17728.32, 17701.87,\n",
       "        17769.24, 20639.  ]),\n",
       " array([ 50.,  57.,  64.,  71.,  78.,  85.,  92.,  99., 106., 113., 120.,\n",
       "        127., 134., 141., 148., 155., 162., 169., 176., 183., 190., 197.,\n",
       "        204., 211., 218., 225., 232., 239., 246., 253., 260., 267., 274.,\n",
       "        281., 288., 295., 302., 309., 316., 323., 330., 337., 344., 351.,\n",
       "        358., 365., 372., 379., 386., 393., 400.]),\n",
       " <BarContainer object of 50 artists>)"
      ]
     },
     "execution_count": 22,
     "metadata": {},
     "output_type": "execute_result"
    },
    {
     "data": {
      "image/png": "[encoded data removed]",
      "text/plain": [
       "<Figure size 432x288 with 1 Axes>"
      ]
     },
     "metadata": {
      "needs_background": "light"
     },
     "output_type": "display_data"
    }
   ],
   "source": [
    "plt.hist(flat_df[\"Cluster_Size\"], bins=50, weights = 0.01*flat_df[\"Cluster_Size\"])\n"
   ]
  },
  {
   "cell_type": "code",
   "execution_count": 23,
   "metadata": {},
   "outputs": [
    {
     "data": {
      "text/plain": [
       "(array([31367., 24561., 19981., 17261., 15326., 13507., 12635., 11681.,\n",
       "        11174., 10777., 10023.,  9643.,  9570.,  9115.,  8809.,  8686.,\n",
       "         8387.,  8215.,  8090.,  7762.,  7711.,  7689.,  7259.,  7241.,\n",
       "         7079.,  6866.,  6776.,  6732.,  6632.,  6423.,  6363.,  6318.,\n",
       "         6143.,  5941.,  5799.,  5767.,  5596.,  5624.,  5575.,  5318.,\n",
       "         5248.,  5232.,  5152.,  5095.,  5061.,  4790.,  4728.,  4634.,\n",
       "         4568.,  5205.]),\n",
       " array([ 50.,  57.,  64.,  71.,  78.,  85.,  92.,  99., 106., 113., 120.,\n",
       "        127., 134., 141., 148., 155., 162., 169., 176., 183., 190., 197.,\n",
       "        204., 211., 218., 225., 232., 239., 246., 253., 260., 267., 274.,\n",
       "        281., 288., 295., 302., 309., 316., 323., 330., 337., 344., 351.,\n",
       "        358., 365., 372., 379., 386., 393., 400.]),\n",
       " <BarContainer object of 50 artists>)"
      ]
     },
     "execution_count": 23,
     "metadata": {},
     "output_type": "execute_result"
    },
    {
     "data": {
      "image/png": "[encoded data removed]",
      "text/plain": [
       "<Figure size 432x288 with 1 Axes>"
      ]
     },
     "metadata": {
      "needs_background": "light"
     },
     "output_type": "display_data"
    }
   ],
   "source": [
    "plt.hist(flat_df[\"Cluster_Size\"], bins=50)\n"
   ]
  },
  {
   "cell_type": "code",
   "execution_count": 24,
   "metadata": {},
   "outputs": [
    {
     "data": {
      "text/plain": [
       "194005    0.001834\n",
       "87720     0.002200\n",
       "4752      0.003346\n",
       "89283     0.002181\n",
       "255178    0.002715\n",
       "            ...   \n",
       "5898      0.025596\n",
       "332867    0.004638\n",
       "36932     0.003250\n",
       "1837      0.002050\n",
       "37006     0.004635\n",
       "Name: weight, Length: 435135, dtype: float64"
      ]
     },
     "execution_count": 24,
     "metadata": {},
     "output_type": "execute_result"
    }
   ],
   "source": [
    "flat_df['weight']"
   ]
  },
  {
   "cell_type": "code",
   "execution_count": 21,
   "metadata": {},
   "outputs": [],
   "source": [
    "import keras.backend as K\n",
    "from keras.layers import Input, Dense\n",
    "from keras.models import Model\n",
    "from keras.losses import mse, binary_crossentropy, CategoricalCrossentropy, categorical_crossentropy\n",
    "import numpy as np\n",
    "\n",
    "\n",
    "# for testing: only provide features\n",
    "\n",
    "model_2 = Model(inputs=model_2.input[0],\n",
    "                  outputs=model_2.get_layer(\"dense_5\").output)\n",
    "\n",
    "\n",
    "\n",
    "flat_df['DNN'] = model_2.predict(flat_df[variablesTrain[:-1]])"
   ]
  },
  {
   "cell_type": "code",
   "execution_count": 22,
   "metadata": {},
   "outputs": [
    {
     "name": "stdout",
     "output_type": "stream",
     "text": [
      "WARNING:tensorflow:Compiled the loaded model, but the compiled metrics have yet to be built. `model.compile_metrics` will be empty until you train or evaluate the model.\n"
     ]
    }
   ],
   "source": [
    "model_2.save('training_CA0p6_NoMerging_WeightedClusterSize_bkgMC_CSCOnly_PlusBeamHalo_240510.h5')"
   ]
  },
  {
   "cell_type": "code",
   "execution_count": 23,
   "metadata": {},
   "outputs": [],
   "source": [
    "model.save('training_CA0p6_NoMerging_WeightedClusterSize_bkgMC_CSCOnly_adversarial_PlusBeamHalo_240510.h5')"
   ]
  },
  {
   "cell_type": "code",
   "execution_count": 24,
   "metadata": {},
   "outputs": [],
   "source": [
    "\n",
    "import keras.backend as K\n",
    "from keras.layers import Input, Dense\n",
    "from keras.models import Model\n",
    "from keras.losses import mse, binary_crossentropy, CategoricalCrossentropy, categorical_crossentropy\n",
    "import numpy as np\n",
    "\n",
    "#variablesTrain = ['Cluster_isCSC', 'Cluster_XSpread', 'Cluster_YSpread', 'Cluster_ZSpread', 'Cluster_XYSpread', 'Cluster_RSpread','frac_s1', 'frac_s2', 'frac_s3', 'frac_s4', 'frac_rw1', 'frac_rw2', 'frac_rw3', 'Cluster_Size', 'Cluster_nXY', 'Cluster_nZ']\n",
    "#variablesTrain = ['Cluster_isCSC', 'Cluster_XSpread', 'Cluster_YSpread', 'Cluster_ZSpread', 'Cluster_XYSpread', 'Cluster_RSpread', 'Cluster_SkewX', 'Cluster_SkewY', 'Cluster_KurtX', 'Cluster_KurtY', 'frac_s1', 'frac_s2', 'frac_s3', 'frac_s4', 'frac_rw1', 'frac_rw2', 'frac_rw3', 'Cluster_Size', 'Cluster_nXY', 'Cluster_nZ']\n",
    "\n",
    "#variablesTrain = ['Cluster_isCSC', 'Cluster_XSpread', 'Cluster_YSpread', 'Cluster_XYSpread', 'Cluster_RSpread', 'Cluster_SkewX', 'Cluster_SkewY', 'Cluster_KurtX', 'Cluster_KurtY', 'Cluster_Size', 'Cluster_nXY', 'Cluster_nZ']\n",
    "\n",
    "\n",
    "model = Model(inputs=model.input[0],\n",
    "                  outputs=model.get_layer(\"dense_5\").output)\n",
    "\n",
    "flat_df['DNN_adversarial'] = model.predict(flat_df[variablesTrain[:-1]])\n"
   ]
  },
  {
   "cell_type": "code",
   "execution_count": 25,
   "metadata": {},
   "outputs": [
    {
     "data": {
      "text/plain": [
       "Index(['Unnamed: 0', 'Cluster_XSpread', 'Cluster_YSpread', 'Cluster_ZSpread',\n",
       "       'Cluster_XYSpread', 'Cluster_RSpread', 'Cluster_SkewX', 'Cluster_SkewY',\n",
       "       'Cluster_SkewZ', 'Cluster_KurtX', 'Cluster_KurtY', 'Cluster_KurtZ',\n",
       "       'frac_s1', 'frac_s2', 'frac_s3', 'frac_s4', 'frac_rw1', 'frac_rw2',\n",
       "       'frac_rw3', 'Cluster_Size', 'y', 'weight', 'DNN', 'DNN_adversarial'],\n",
       "      dtype='object')"
      ]
     },
     "execution_count": 25,
     "metadata": {},
     "output_type": "execute_result"
    }
   ],
   "source": [
    "flat_df.columns"
   ]
  },
  {
   "cell_type": "code",
   "execution_count": 26,
   "metadata": {},
   "outputs": [
    {
     "name": "stdout",
     "output_type": "stream",
     "text": [
      "default (10000000, 41)\n",
      "test OOT showers:  (1430368, 41)\n",
      "test veto ME11/ME12:  (355973, 41)\n",
      "test muon veto:  (346729, 41)\n",
      "test jet veto:  (321752, 41)\n",
      "test no beam halo:  (274077, 41)\n",
      "test cluster size:  (91688, 41)\n"
     ]
    }
   ],
   "source": [
    "columns = ['Cluster_isCSC', 'Cluster_Size', 'Cluster_match_gLLP', 'Cluster_Time', 'Cluster_eta', 'Cluster_phi', 'Cluster_NRechitChamberPlus11', 'Cluster_NRechitChamberMinus11', 'Cluster_NRechitChamberPlus12', \\\n",
    "           'Cluster_NRechitChamberMinus12', 'Cluster_TimeSpread', 'Cluster_MuonVetoPt', 'Cluster_MuonVetoGlobal', 'Cluster_JetVetoLooseId', 'Cluster_JetVetoTightId', \\\n",
    "           'Cluster_JetVetoPt', 'Cluster_nXY', 'Cluster_nZ', \\\n",
    "           'Cluster_XSpread', 'Cluster_YSpread', 'Cluster_ZSpread', 'Cluster_XYSpread', 'Cluster_RSpread', 'Cluster_MajorAxis', 'Cluster_MinorAxis', \\\n",
    "           'Cluster_SkewX', 'Cluster_SkewY', 'Cluster_SkewZ', 'Cluster_KurtX', 'Cluster_KurtY', 'Cluster_KurtZ', 'Cluster_match_RPCBx_dPhi0p5', 'frac_s1', \\\n",
    "           'frac_s2', 'frac_s3', 'frac_s4', 'frac_rw1', 'frac_rw2', 'frac_rw3']\n",
    "\n",
    "test = pd.read_csv('/eos/cms/store/group/phys_muon/fernanpe/displacedJetMuonAnalyzer_CA0p6_noMerging_240304_CSC/txtFiles_hadd/xaa', header = None, names=columns, sep='\\t', index_col=False, na_values='NaN')\n",
    "\n",
    "test[\"Cluster_match_gLLP\"] = test[\"Cluster_match_gLLP\"].astype(int)\n",
    "test[\"Cluster_MuonVetoGlobal\"] = test[\"Cluster_MuonVetoGlobal\"].astype(int)\n",
    "test[\"Cluster_JetVetoLooseId\"] = test[\"Cluster_JetVetoLooseId\"].astype(int)\n",
    "test[\"Cluster_JetVetoTightId\"] = test[\"Cluster_JetVetoTightId\"].astype(int)\n",
    "test['y'] = 0\n",
    "test['weight'] = 1.0\n",
    "\n",
    "\n",
    "# default\n",
    "print('default', test.shape)\n",
    "\n",
    "#OOT time\n",
    "test = test[np.logical_or(test.Cluster_Time < -5.0, test.Cluster_Time > 12.5)]\n",
    "print('test OOT showers: ', test.shape)\n",
    "\n",
    "#ME11/12 veto\n",
    "test = test[(test.Cluster_NRechitChamberPlus11 == 0) & (test.Cluster_NRechitChamberMinus11 == 0) & (test.Cluster_NRechitChamberPlus12 == 0) & (test.Cluster_NRechitChamberMinus12 == 0)]\n",
    "print('test veto ME11/ME12: ', test.shape)\n",
    "\n",
    "#Muon veto\n",
    "test = test[(test.Cluster_MuonVetoGlobal == 0)]\n",
    "print('test muon veto: ', test.shape)\n",
    "\n",
    "#jet veto\n",
    "test = test[(test.Cluster_JetVetoLooseId == 0)]\n",
    "print('test jet veto: ', test.shape)\n",
    "\n",
    "# no beamhalo\n",
    "test = test[np.logical_or(test.Cluster_phi < -0.3, test.Cluster_phi > 0.3)]\n",
    "print('test no beam halo: ', test.shape)\n",
    "\n",
    "#clusterSize\n",
    "test = test[(test.Cluster_Size > 200)]\n",
    "print('test cluster size: ', test.shape)\n",
    "\n",
    "columns = ['Cluster_XSpread', 'Cluster_YSpread', 'Cluster_ZSpread', 'Cluster_XYSpread', 'Cluster_RSpread', 'Cluster_SkewX', \\\n",
    "                  'Cluster_SkewY', 'Cluster_SkewZ', 'Cluster_KurtX', 'Cluster_KurtY', 'Cluster_KurtZ', 'frac_s1', 'frac_s2', 'frac_s3', 'frac_s4', \\\n",
    "                  'frac_rw1', 'frac_rw2', 'frac_rw3', 'Cluster_Size', 'y', 'weight']\n",
    "test = test[columns]"
   ]
  },
  {
   "cell_type": "code",
   "execution_count": 31,
   "metadata": {},
   "outputs": [
    {
     "data": {
      "text/plain": [
       "58          0\n",
       "250         0\n",
       "257         0\n",
       "284         0\n",
       "501         0\n",
       "           ..\n",
       "14398746    0\n",
       "14398779    0\n",
       "14398844    0\n",
       "14399098    0\n",
       "14399161    0\n",
       "Name: y, Length: 151861, dtype: int64"
      ]
     },
     "execution_count": 31,
     "metadata": {},
     "output_type": "execute_result"
    }
   ],
   "source": [
    "test.y"
   ]
  },
  {
   "cell_type": "code",
   "execution_count": 27,
   "metadata": {},
   "outputs": [],
   "source": [
    "signal = pd.read_csv('signal_CSCOnly_240510.csv')\n",
    "signal = signal[(signal.Cluster_Size > 200)]\n",
    "test = pd.concat([signal, test], axis=0)\n",
    "del signal"
   ]
  },
  {
   "cell_type": "code",
   "execution_count": 28,
   "metadata": {},
   "outputs": [
    {
     "data": {
      "text/plain": [
       "1          1\n",
       "2          1\n",
       "3          1\n",
       "5          1\n",
       "6          1\n",
       "          ..\n",
       "9999396    0\n",
       "9999501    0\n",
       "9999512    0\n",
       "9999618    0\n",
       "9999719    0\n",
       "Name: y, Length: 255690, dtype: int64"
      ]
     },
     "execution_count": 28,
     "metadata": {},
     "output_type": "execute_result"
    }
   ],
   "source": [
    "test.y"
   ]
  },
  {
   "cell_type": "code",
   "execution_count": 29,
   "metadata": {},
   "outputs": [],
   "source": [
    "#model = Model(inputs=model.input[0],\n",
    "#                  outputs=model.get_layer(\"dense_5\").output)\n",
    "\n",
    "test['DNN_adversarial'] = model.predict(test[variablesTrain[:-1]])\n",
    "\n",
    "\n"
   ]
  },
  {
   "cell_type": "code",
   "execution_count": 30,
   "metadata": {},
   "outputs": [],
   "source": [
    "#model_2 = Model(inputs=model_2.input[0],\n",
    "#                  outputs=model_2.get_layer(\"dense_5\").output)\n",
    "\n",
    "test['DNN'] = model_2.predict(test[variablesTrain[:-1]])"
   ]
  },
  {
   "cell_type": "code",
   "execution_count": 31,
   "metadata": {},
   "outputs": [
    {
     "data": {
      "text/plain": [
       "<function matplotlib.pyplot.show(close=None, block=None)>"
      ]
     },
     "execution_count": 31,
     "metadata": {},
     "output_type": "execute_result"
    },
    {
     "data": {
      "image/png": "[encoded data removed]",
      "text/plain": [
       "<Figure size 432x288 with 1 Axes>"
      ]
     },
     "metadata": {
      "needs_background": "light"
     },
     "output_type": "display_data"
    }
   ],
   "source": [
    "plt.hist(test['y'], bins=50)\n",
    "plt.xlim([-1, 2])\n",
    "plt.show"
   ]
  },
  {
   "cell_type": "code",
   "execution_count": 32,
   "metadata": {},
   "outputs": [
    {
     "name": "stdout",
     "output_type": "stream",
     "text": [
      "The optimal cut value is: 0.9242461\n"
     ]
    },
    {
     "data": {
      "text/plain": [
       "<Figure size 432x288 with 0 Axes>"
      ]
     },
     "metadata": {},
     "output_type": "display_data"
    },
    {
     "data": {
      "image/png": "[encoded data removed]",
      "text/plain": [
       "<Figure size 432x432 with 1 Axes>"
      ]
     },
     "metadata": {
      "needs_background": "light"
     },
     "output_type": "display_data"
    }
   ],
   "source": [
    "import os\n",
    "from matplotlib import pyplot as plt\n",
    "from sklearn import metrics\n",
    "\n",
    "fpr, tpr, thresholds = metrics.roc_curve(test['y'], test['DNN'])\n",
    "auc = metrics.auc(fpr, tpr)\n",
    "\n",
    "plt.clf()\n",
    "plt.figure(num=None, figsize=(6, 6))\n",
    "plt.subplot(111)\n",
    "plt.plot(fpr, tpr, color = 'r', label = \"ROC curve\")\n",
    "plt.plot([0, 1], [0, 1], color='navy', lw=2, linestyle='--', label = \"Random guess\")\n",
    "plt.legend(loc = \"lower right\")\n",
    "plt.xlabel('False Positive rate', fontsize = 12)\n",
    "plt.ylabel('True Positive rate', fontsize = 12)\n",
    "plt.text(0.68, 0.1, 'AUC: %.3f' % auc)\n",
    "#plt.savefig('Results_CA0p5_perCluster/ROC_NN.png', dpi =  600)\n",
    "\n",
    "\n",
    "#### Optative and not explained (Youden index, cut value):\n",
    "Youden_index = tpr - fpr\n",
    "i_max = np.argmax(Youden_index)\n",
    "cut_value = thresholds[i_max]\n",
    "\n",
    "print(\"The optimal cut value is: \" + str(cut_value))\n",
    "plt.savefig('Plots_presentation_PlusbeamHalo/ROC_NN.png', dpi = 600)\n"
   ]
  },
  {
   "cell_type": "code",
   "execution_count": 33,
   "metadata": {},
   "outputs": [
    {
     "name": "stdout",
     "output_type": "stream",
     "text": [
      "The optimal cut value is: 0.96137905\n"
     ]
    },
    {
     "data": {
      "text/plain": [
       "<Figure size 432x288 with 0 Axes>"
      ]
     },
     "metadata": {},
     "output_type": "display_data"
    },
    {
     "data": {
      "image/png": "[encoded data removed]",
      "text/plain": [
       "<Figure size 432x432 with 1 Axes>"
      ]
     },
     "metadata": {
      "needs_background": "light"
     },
     "output_type": "display_data"
    }
   ],
   "source": [
    "import os\n",
    "from matplotlib import pyplot as plt\n",
    "from sklearn import metrics\n",
    "\n",
    "fpr, tpr, thresholds = metrics.roc_curve(test['y'], test['DNN_adversarial'])\n",
    "auc = metrics.auc(fpr, tpr)\n",
    "\n",
    "plt.clf()\n",
    "plt.figure(num=None, figsize=(6, 6))\n",
    "plt.subplot(111)\n",
    "plt.plot(fpr, tpr, color = 'r', label = \"ROC curve\")\n",
    "plt.plot([0, 1], [0, 1], color='navy', lw=2, linestyle='--', label = \"Random guess\")\n",
    "plt.legend(loc = \"lower right\")\n",
    "plt.xlabel('False Positive rate', fontsize = 12)\n",
    "plt.ylabel('True Positive rate', fontsize = 12)\n",
    "plt.text(0.68, 0.1, 'AUC: %.3f' % auc)\n",
    "#plt.savefig('Results_CA0p5_perCluster/ROC_NN.png', dpi =  600)\n",
    "\n",
    "\n",
    "#### Optative and not explained (Youden index, cut value):\n",
    "Youden_index = tpr - fpr\n",
    "i_max = np.argmax(Youden_index)\n",
    "cut_value = thresholds[i_max]\n",
    "\n",
    "print(\"The optimal cut value is: \" + str(cut_value))\n",
    "plt.savefig('Plots_presentation_PlusbeamHalo/ROC_NNadversarial.png', dpi = 600)\n"
   ]
  },
  {
   "cell_type": "code",
   "execution_count": 34,
   "metadata": {},
   "outputs": [
    {
     "name": "stdout",
     "output_type": "stream",
     "text": [
      "[9.5624363e-01 4.1792719e-05 4.8195058e-01 ... 9.8441339e-01 8.9799774e-01\n",
      " 2.8276145e-03]\n",
      "[0.8437958  0.9917512  0.5821323  ... 0.99990445 0.9954008  0.9994068 ]\n"
     ]
    },
    {
     "data": {
      "text/plain": [
       "<Figure size 432x288 with 0 Axes>"
      ]
     },
     "metadata": {},
     "output_type": "display_data"
    },
    {
     "data": {
      "image/png": "[encoded data removed]",
      "text/plain": [
       "<Figure size 432x432 with 1 Axes>"
      ]
     },
     "metadata": {
      "needs_background": "light"
     },
     "output_type": "display_data"
    }
   ],
   "source": [
    "import os\n",
    "from matplotlib import pyplot as plt\n",
    "\n",
    "# Convert the y_pred and y_test numpy matrixes to 1-dimensional numpy arrays:\n",
    "discriminant = np.squeeze(np.asarray(test['DNN']))\n",
    "true_labels = np.squeeze(np.asarray(test['y']))\n",
    "\n",
    "# Get the discriminant values for each class (0: background, 1: signal):\n",
    "discriminant0 = discriminant[list(true_labels == 0)]\n",
    "print(discriminant0)\n",
    "discriminant1 = discriminant[list(true_labels == 1)]\n",
    "print(discriminant1)\n",
    "\n",
    "# Define the binning:\n",
    "binning = np.linspace(0, 1, 50)\n",
    "\n",
    "\n",
    "# Plot the discriminant distributions:\n",
    "plt.clf()\n",
    "plt.figure(num=None, figsize=(6, 6))\n",
    "plt.subplot(111)\n",
    "pdf0, bins0, patches0 = plt.hist(discriminant0, bins = binning, color = 'r', alpha = 0.3, histtype = 'stepfilled', linewidth = 1, edgecolor='r', label = 'Background', density=True)\n",
    "pdf1, bins1, patches1 = plt.hist(discriminant1, bins = binning, color = 'b', alpha = 0.3, histtype = 'stepfilled', linewidth = 1, edgecolor='b', label = 'Signal', density=True)\n",
    "plt.legend(loc = 'upper center')\n",
    "plt.ylabel('a.u.', fontsize = 12)\n",
    "plt.xlabel('DNN discriminant', fontsize = 12)\n",
    "#if not os.path.exists('Results_CA0p5_perCluster/'): os.makedirs('Results/')\n",
    "#plt.savefig('Results_CA0p5_perCluster/DiscriminantNN_distribution.png', dpi = 600)\n",
    "plt.savefig('Plots_presentation_PlusbeamHalo/DiscriminantNN_distribution.png', dpi = 600)"
   ]
  },
  {
   "cell_type": "code",
   "execution_count": 35,
   "metadata": {},
   "outputs": [
    {
     "name": "stdout",
     "output_type": "stream",
     "text": [
      "[0.97952974 0.00715974 0.8501693  ... 0.85162234 0.9948498  0.8744901 ]\n",
      "[0.92456865 0.9943839  0.97238815 ... 0.99995804 0.99343145 0.9990995 ]\n"
     ]
    },
    {
     "data": {
      "text/plain": [
       "<Figure size 432x288 with 0 Axes>"
      ]
     },
     "metadata": {},
     "output_type": "display_data"
    },
    {
     "data": {
      "image/png": "[encoded data removed]",
      "text/plain": [
       "<Figure size 432x432 with 1 Axes>"
      ]
     },
     "metadata": {
      "needs_background": "light"
     },
     "output_type": "display_data"
    }
   ],
   "source": [
    "import os\n",
    "from matplotlib import pyplot as plt\n",
    "\n",
    "# Convert the y_pred and y_test numpy matrixes to 1-dimensional numpy arrays:\n",
    "discriminant = np.squeeze(np.asarray(test['DNN_adversarial']))\n",
    "true_labels = np.squeeze(np.asarray(test['y']))\n",
    "\n",
    "# Get the discriminant values for each class (0: background, 1: signal):\n",
    "discriminant0 = discriminant[list(true_labels == 0)]\n",
    "print(discriminant0)\n",
    "discriminant1 = discriminant[list(true_labels == 1)]\n",
    "print(discriminant1)\n",
    "\n",
    "# Define the binning:\n",
    "binning = np.linspace(0.75, 1, 50)\n",
    "\n",
    "\n",
    "# Plot the discriminant distributions:\n",
    "plt.clf()\n",
    "plt.figure(num=None, figsize=(6, 6))\n",
    "plt.subplot(111)\n",
    "pdf0, bins0, patches0 = plt.hist(discriminant0, bins = binning, color = 'r', alpha = 0.3, histtype = 'stepfilled', linewidth = 1, edgecolor='r', label = 'Background', density=True)\n",
    "pdf1, bins1, patches1 = plt.hist(discriminant1, bins = binning, color = 'b', alpha = 0.3, histtype = 'stepfilled', linewidth = 1, edgecolor='b', label = 'Signal', density=True)\n",
    "plt.legend(loc = 'upper center')\n",
    "plt.ylabel('a.u.', fontsize = 12)\n",
    "plt.xlabel('DNN discriminant', fontsize = 12)\n",
    "plt.savefig('Plots_presentation_PlusbeamHalo/DiscriminantNNadversarial_distribution.png', dpi = 600)"
   ]
  },
  {
   "cell_type": "code",
   "execution_count": 36,
   "metadata": {},
   "outputs": [],
   "source": [
    "\n",
    "bkg_test = test[(test.y == 0)]\n",
    "signal_test = test[(test.y == 1)]\n",
    "\n",
    "bkg_train = flat_df[(flat_df.y == 0) & (flat_df.Cluster_Size > 200.)]\n",
    "signal_train = flat_df[(flat_df.y == 1)]"
   ]
  },
  {
   "cell_type": "code",
   "execution_count": 37,
   "metadata": {},
   "outputs": [
    {
     "data": {
      "text/html": [
       "<div>\n",
       "<style scoped>\n",
       "    .dataframe tbody tr th:only-of-type {\n",
       "        vertical-align: middle;\n",
       "    }\n",
       "\n",
       "    .dataframe tbody tr th {\n",
       "        vertical-align: top;\n",
       "    }\n",
       "\n",
       "    .dataframe thead th {\n",
       "        text-align: right;\n",
       "    }\n",
       "</style>\n",
       "<table border=\"1\" class=\"dataframe\">\n",
       "  <thead>\n",
       "    <tr style=\"text-align: right;\">\n",
       "      <th></th>\n",
       "      <th>Cluster_Size</th>\n",
       "      <th>DNN_adversarial</th>\n",
       "      <th>DNN</th>\n",
       "    </tr>\n",
       "  </thead>\n",
       "  <tbody>\n",
       "    <tr>\n",
       "      <th>Cluster_Size</th>\n",
       "      <td>1.000000</td>\n",
       "      <td>-0.000932</td>\n",
       "      <td>0.177712</td>\n",
       "    </tr>\n",
       "    <tr>\n",
       "      <th>DNN_adversarial</th>\n",
       "      <td>-0.000932</td>\n",
       "      <td>1.000000</td>\n",
       "      <td>0.494699</td>\n",
       "    </tr>\n",
       "    <tr>\n",
       "      <th>DNN</th>\n",
       "      <td>0.177712</td>\n",
       "      <td>0.494699</td>\n",
       "      <td>1.000000</td>\n",
       "    </tr>\n",
       "  </tbody>\n",
       "</table>\n",
       "</div>"
      ],
      "text/plain": [
       "                 Cluster_Size  DNN_adversarial       DNN\n",
       "Cluster_Size         1.000000        -0.000932  0.177712\n",
       "DNN_adversarial     -0.000932         1.000000  0.494699\n",
       "DNN                  0.177712         0.494699  1.000000"
      ]
     },
     "execution_count": 37,
     "metadata": {},
     "output_type": "execute_result"
    }
   ],
   "source": [
    "bkg_test[['Cluster_Size', 'DNN_adversarial', 'DNN']].corr()"
   ]
  },
  {
   "cell_type": "code",
   "execution_count": 38,
   "metadata": {},
   "outputs": [
    {
     "data": {
      "text/html": [
       "<div>\n",
       "<style scoped>\n",
       "    .dataframe tbody tr th:only-of-type {\n",
       "        vertical-align: middle;\n",
       "    }\n",
       "\n",
       "    .dataframe tbody tr th {\n",
       "        vertical-align: top;\n",
       "    }\n",
       "\n",
       "    .dataframe thead th {\n",
       "        text-align: right;\n",
       "    }\n",
       "</style>\n",
       "<table border=\"1\" class=\"dataframe\">\n",
       "  <thead>\n",
       "    <tr style=\"text-align: right;\">\n",
       "      <th></th>\n",
       "      <th>Cluster_Size</th>\n",
       "      <th>DNN_adversarial</th>\n",
       "      <th>DNN</th>\n",
       "    </tr>\n",
       "  </thead>\n",
       "  <tbody>\n",
       "    <tr>\n",
       "      <th>Cluster_Size</th>\n",
       "      <td>1.000000</td>\n",
       "      <td>0.034260</td>\n",
       "      <td>0.056991</td>\n",
       "    </tr>\n",
       "    <tr>\n",
       "      <th>DNN_adversarial</th>\n",
       "      <td>0.034260</td>\n",
       "      <td>1.000000</td>\n",
       "      <td>0.476921</td>\n",
       "    </tr>\n",
       "    <tr>\n",
       "      <th>DNN</th>\n",
       "      <td>0.056991</td>\n",
       "      <td>0.476921</td>\n",
       "      <td>1.000000</td>\n",
       "    </tr>\n",
       "  </tbody>\n",
       "</table>\n",
       "</div>"
      ],
      "text/plain": [
       "                 Cluster_Size  DNN_adversarial       DNN\n",
       "Cluster_Size         1.000000         0.034260  0.056991\n",
       "DNN_adversarial      0.034260         1.000000  0.476921\n",
       "DNN                  0.056991         0.476921  1.000000"
      ]
     },
     "execution_count": 38,
     "metadata": {},
     "output_type": "execute_result"
    }
   ],
   "source": [
    "signal_test[['Cluster_Size', 'DNN_adversarial', 'DNN']].corr()"
   ]
  },
  {
   "cell_type": "code",
   "execution_count": 39,
   "metadata": {},
   "outputs": [
    {
     "data": {
      "text/html": [
       "<div>\n",
       "<style scoped>\n",
       "    .dataframe tbody tr th:only-of-type {\n",
       "        vertical-align: middle;\n",
       "    }\n",
       "\n",
       "    .dataframe tbody tr th {\n",
       "        vertical-align: top;\n",
       "    }\n",
       "\n",
       "    .dataframe thead th {\n",
       "        text-align: right;\n",
       "    }\n",
       "</style>\n",
       "<table border=\"1\" class=\"dataframe\">\n",
       "  <thead>\n",
       "    <tr style=\"text-align: right;\">\n",
       "      <th></th>\n",
       "      <th>Cluster_Size</th>\n",
       "      <th>DNN_adversarial</th>\n",
       "      <th>DNN</th>\n",
       "    </tr>\n",
       "  </thead>\n",
       "  <tbody>\n",
       "    <tr>\n",
       "      <th>Cluster_Size</th>\n",
       "      <td>1.000000</td>\n",
       "      <td>0.135047</td>\n",
       "      <td>0.187538</td>\n",
       "    </tr>\n",
       "    <tr>\n",
       "      <th>DNN_adversarial</th>\n",
       "      <td>0.135047</td>\n",
       "      <td>1.000000</td>\n",
       "      <td>0.766672</td>\n",
       "    </tr>\n",
       "    <tr>\n",
       "      <th>DNN</th>\n",
       "      <td>0.187538</td>\n",
       "      <td>0.766672</td>\n",
       "      <td>1.000000</td>\n",
       "    </tr>\n",
       "  </tbody>\n",
       "</table>\n",
       "</div>"
      ],
      "text/plain": [
       "                 Cluster_Size  DNN_adversarial       DNN\n",
       "Cluster_Size         1.000000         0.135047  0.187538\n",
       "DNN_adversarial      0.135047         1.000000  0.766672\n",
       "DNN                  0.187538         0.766672  1.000000"
      ]
     },
     "execution_count": 39,
     "metadata": {},
     "output_type": "execute_result"
    }
   ],
   "source": [
    "bkg_train[['Cluster_Size', 'DNN_adversarial', 'DNN']].corr()"
   ]
  },
  {
   "cell_type": "code",
   "execution_count": 40,
   "metadata": {},
   "outputs": [
    {
     "data": {
      "text/html": [
       "<div>\n",
       "<style scoped>\n",
       "    .dataframe tbody tr th:only-of-type {\n",
       "        vertical-align: middle;\n",
       "    }\n",
       "\n",
       "    .dataframe tbody tr th {\n",
       "        vertical-align: top;\n",
       "    }\n",
       "\n",
       "    .dataframe thead th {\n",
       "        text-align: right;\n",
       "    }\n",
       "</style>\n",
       "<table border=\"1\" class=\"dataframe\">\n",
       "  <thead>\n",
       "    <tr style=\"text-align: right;\">\n",
       "      <th></th>\n",
       "      <th>Cluster_Size</th>\n",
       "      <th>DNN_adversarial</th>\n",
       "      <th>DNN</th>\n",
       "    </tr>\n",
       "  </thead>\n",
       "  <tbody>\n",
       "    <tr>\n",
       "      <th>Cluster_Size</th>\n",
       "      <td>1.000000</td>\n",
       "      <td>0.100595</td>\n",
       "      <td>0.189286</td>\n",
       "    </tr>\n",
       "    <tr>\n",
       "      <th>DNN_adversarial</th>\n",
       "      <td>0.100595</td>\n",
       "      <td>1.000000</td>\n",
       "      <td>0.514732</td>\n",
       "    </tr>\n",
       "    <tr>\n",
       "      <th>DNN</th>\n",
       "      <td>0.189286</td>\n",
       "      <td>0.514732</td>\n",
       "      <td>1.000000</td>\n",
       "    </tr>\n",
       "  </tbody>\n",
       "</table>\n",
       "</div>"
      ],
      "text/plain": [
       "                 Cluster_Size  DNN_adversarial       DNN\n",
       "Cluster_Size         1.000000         0.100595  0.189286\n",
       "DNN_adversarial      0.100595         1.000000  0.514732\n",
       "DNN                  0.189286         0.514732  1.000000"
      ]
     },
     "execution_count": 40,
     "metadata": {},
     "output_type": "execute_result"
    }
   ],
   "source": [
    "signal_train[['Cluster_Size', 'DNN_adversarial', 'DNN']].corr()"
   ]
  },
  {
   "cell_type": "code",
   "execution_count": 41,
   "metadata": {},
   "outputs": [],
   "source": [
    "selected = test[(test.DNN_adversarial > 0.96137905)]\n",
    "\n",
    "signal_sel_test = selected[(selected.y == 1)]\n",
    "bkg_sel_test = selected[(selected.y == 0)]\n",
    "\n",
    "\n"
   ]
  },
  {
   "cell_type": "code",
   "execution_count": 42,
   "metadata": {},
   "outputs": [
    {
     "name": "stdout",
     "output_type": "stream",
     "text": [
      "test bkg: (91688, 24)\n",
      "test sig: (164002, 24)\n",
      "selected bkg: (34967, 24)\n",
      "selected sig: (144130, 24)\n"
     ]
    }
   ],
   "source": [
    "print('test bkg:', bkg_test.shape)\n",
    "print('test sig:', signal_test.shape)\n",
    "\n",
    "print('selected bkg:', bkg_sel_test.shape)\n",
    "print('selected sig:', signal_sel_test.shape)"
   ]
  },
  {
   "cell_type": "code",
   "execution_count": 67,
   "metadata": {},
   "outputs": [
    {
     "name": "stdout",
     "output_type": "stream",
     "text": [
      "0.8317398568310143\n",
      "0.47945818873838575\n"
     ]
    }
   ],
   "source": [
    "print(136407/164002)\n",
    "print(72811/151861)\n"
   ]
  },
  {
   "cell_type": "code",
   "execution_count": 43,
   "metadata": {},
   "outputs": [
    {
     "name": "stdout",
     "output_type": "stream",
     "text": [
      ">>> Plotting Cluster_XSpread histogram...\n",
      "5.64967727661 174.1083801264\n"
     ]
    },
    {
     "data": {
      "text/plain": [
       "<Figure size 432x288 with 0 Axes>"
      ]
     },
     "metadata": {},
     "output_type": "display_data"
    },
    {
     "data": {
      "image/png": "[encoded data removed]",
      "text/plain": [
       "<Figure size 432x432 with 1 Axes>"
      ]
     },
     "metadata": {
      "needs_background": "light"
     },
     "output_type": "display_data"
    },
    {
     "name": "stdout",
     "output_type": "stream",
     "text": [
      "    Done\n",
      ">>> Plotting Cluster_YSpread histogram...\n",
      "7.73292589188 190.7102050776\n"
     ]
    },
    {
     "data": {
      "text/plain": [
       "<Figure size 432x288 with 0 Axes>"
      ]
     },
     "metadata": {},
     "output_type": "display_data"
    },
    {
     "data": {
      "image/png": "[encoded data removed]",
      "text/plain": [
       "<Figure size 432x432 with 1 Axes>"
      ]
     },
     "metadata": {
      "needs_background": "light"
     },
     "output_type": "display_data"
    },
    {
     "name": "stdout",
     "output_type": "stream",
     "text": [
      "    Done\n",
      ">>> Plotting Cluster_ZSpread histogram...\n",
      "0.0011673681438 147.5645965572\n"
     ]
    },
    {
     "data": {
      "text/plain": [
       "<Figure size 432x288 with 0 Axes>"
      ]
     },
     "metadata": {},
     "output_type": "display_data"
    },
    {
     "data": {
      "image/png": "[encoded data removed]",
      "text/plain": [
       "<Figure size 432x432 with 1 Axes>"
      ]
     },
     "metadata": {
      "needs_background": "light"
     },
     "output_type": "display_data"
    },
    {
     "name": "stdout",
     "output_type": "stream",
     "text": [
      "    Done\n",
      ">>> Plotting Cluster_XYSpread histogram...\n",
      "0.0827243030071 118.04919433595998\n"
     ]
    },
    {
     "data": {
      "text/plain": [
       "<Figure size 432x288 with 0 Axes>"
      ]
     },
     "metadata": {},
     "output_type": "display_data"
    },
    {
     "data": {
      "image/png": "[encoded data removed]",
      "text/plain": [
       "<Figure size 432x432 with 1 Axes>"
      ]
     },
     "metadata": {
      "needs_background": "light"
     },
     "output_type": "display_data"
    },
    {
     "name": "stdout",
     "output_type": "stream",
     "text": [
      "    Done\n",
      ">>> Plotting Cluster_RSpread histogram...\n",
      "8.3968038559 192.33213501\n"
     ]
    },
    {
     "data": {
      "text/plain": [
       "<Figure size 432x288 with 0 Axes>"
      ]
     },
     "metadata": {},
     "output_type": "display_data"
    },
    {
     "data": {
      "image/png": "[encoded data removed]",
      "text/plain": [
       "<Figure size 432x432 with 1 Axes>"
      ]
     },
     "metadata": {
      "needs_background": "light"
     },
     "output_type": "display_data"
    },
    {
     "name": "stdout",
     "output_type": "stream",
     "text": [
      "    Done\n",
      ">>> Plotting Cluster_SkewX histogram...\n",
      "-323.451568604 348.8370483396\n"
     ]
    },
    {
     "data": {
      "text/plain": [
       "<Figure size 432x288 with 0 Axes>"
      ]
     },
     "metadata": {},
     "output_type": "display_data"
    },
    {
     "data": {
      "image/png": "[encoded data removed]",
      "text/plain": [
       "<Figure size 432x432 with 1 Axes>"
      ]
     },
     "metadata": {
      "needs_background": "light"
     },
     "output_type": "display_data"
    },
    {
     "name": "stdout",
     "output_type": "stream",
     "text": [
      "    Done\n",
      ">>> Plotting Cluster_SkewY histogram...\n",
      "-268.685211182 356.9580688476\n"
     ]
    },
    {
     "data": {
      "text/plain": [
       "<Figure size 432x288 with 0 Axes>"
      ]
     },
     "metadata": {},
     "output_type": "display_data"
    },
    {
     "data": {
      "image/png": "[encoded data removed]",
      "text/plain": [
       "<Figure size 432x432 with 1 Axes>"
      ]
     },
     "metadata": {
      "needs_background": "light"
     },
     "output_type": "display_data"
    },
    {
     "name": "stdout",
     "output_type": "stream",
     "text": [
      "    Done\n",
      ">>> Plotting frac_s1 histogram...\n",
      "0.0 1.2\n"
     ]
    },
    {
     "data": {
      "text/plain": [
       "<Figure size 432x288 with 0 Axes>"
      ]
     },
     "metadata": {},
     "output_type": "display_data"
    },
    {
     "data": {
      "image/png": "[encoded data removed]",
      "text/plain": [
       "<Figure size 432x432 with 1 Axes>"
      ]
     },
     "metadata": {
      "needs_background": "light"
     },
     "output_type": "display_data"
    },
    {
     "name": "stdout",
     "output_type": "stream",
     "text": [
      "    Done\n",
      ">>> Plotting frac_s2 histogram...\n",
      "0.0 1.2\n"
     ]
    },
    {
     "data": {
      "text/plain": [
       "<Figure size 432x288 with 0 Axes>"
      ]
     },
     "metadata": {},
     "output_type": "display_data"
    },
    {
     "data": {
      "image/png": "[encoded data removed]",
      "text/plain": [
       "<Figure size 432x432 with 1 Axes>"
      ]
     },
     "metadata": {
      "needs_background": "light"
     },
     "output_type": "display_data"
    },
    {
     "name": "stdout",
     "output_type": "stream",
     "text": [
      "    Done\n",
      ">>> Plotting frac_s3 histogram...\n",
      "0.0 1.2\n"
     ]
    },
    {
     "data": {
      "text/plain": [
       "<Figure size 432x288 with 0 Axes>"
      ]
     },
     "metadata": {},
     "output_type": "display_data"
    },
    {
     "data": {
      "image/png": "[encoded data removed]",
      "text/plain": [
       "<Figure size 432x432 with 1 Axes>"
      ]
     },
     "metadata": {
      "needs_background": "light"
     },
     "output_type": "display_data"
    },
    {
     "name": "stdout",
     "output_type": "stream",
     "text": [
      "    Done\n",
      ">>> Plotting frac_s4 histogram...\n",
      "0.0 1.2\n"
     ]
    },
    {
     "data": {
      "text/plain": [
       "<Figure size 432x288 with 0 Axes>"
      ]
     },
     "metadata": {},
     "output_type": "display_data"
    },
    {
     "data": {
      "image/png": "[encoded data removed]",
      "text/plain": [
       "<Figure size 432x432 with 1 Axes>"
      ]
     },
     "metadata": {
      "needs_background": "light"
     },
     "output_type": "display_data"
    },
    {
     "name": "stdout",
     "output_type": "stream",
     "text": [
      "    Done\n",
      ">>> Plotting frac_rw1 histogram...\n",
      "0.0 1.2\n"
     ]
    },
    {
     "data": {
      "text/plain": [
       "<Figure size 432x288 with 0 Axes>"
      ]
     },
     "metadata": {},
     "output_type": "display_data"
    },
    {
     "data": {
      "image/png": "[encoded data removed]",
      "text/plain": [
       "<Figure size 432x432 with 1 Axes>"
      ]
     },
     "metadata": {
      "needs_background": "light"
     },
     "output_type": "display_data"
    },
    {
     "name": "stdout",
     "output_type": "stream",
     "text": [
      "    Done\n",
      ">>> Plotting frac_rw2 histogram...\n",
      "0.0 1.2\n"
     ]
    },
    {
     "data": {
      "text/plain": [
       "<Figure size 432x288 with 0 Axes>"
      ]
     },
     "metadata": {},
     "output_type": "display_data"
    },
    {
     "data": {
      "image/png": "[encoded data removed]",
      "text/plain": [
       "<Figure size 432x432 with 1 Axes>"
      ]
     },
     "metadata": {
      "needs_background": "light"
     },
     "output_type": "display_data"
    },
    {
     "name": "stdout",
     "output_type": "stream",
     "text": [
      "    Done\n",
      ">>> Plotting frac_rw3 histogram...\n",
      "0.0 1.2\n"
     ]
    },
    {
     "data": {
      "text/plain": [
       "<Figure size 432x288 with 0 Axes>"
      ]
     },
     "metadata": {},
     "output_type": "display_data"
    },
    {
     "data": {
      "image/png": "[encoded data removed]",
      "text/plain": [
       "<Figure size 432x432 with 1 Axes>"
      ]
     },
     "metadata": {
      "needs_background": "light"
     },
     "output_type": "display_data"
    },
    {
     "name": "stdout",
     "output_type": "stream",
     "text": [
      "    Done\n",
      ">>> Plotting Cluster_Size histogram...\n",
      "201 480.0\n"
     ]
    },
    {
     "data": {
      "text/plain": [
       "<Figure size 432x288 with 0 Axes>"
      ]
     },
     "metadata": {},
     "output_type": "display_data"
    },
    {
     "data": {
      "image/png": "[encoded data removed]",
      "text/plain": [
       "<Figure size 432x432 with 1 Axes>"
      ]
     },
     "metadata": {
      "needs_background": "light"
     },
     "output_type": "display_data"
    },
    {
     "name": "stdout",
     "output_type": "stream",
     "text": [
      "    Done\n"
     ]
    }
   ],
   "source": [
    "### Loop over the features\n",
    "for feature in variablesTrain:\n",
    "    \n",
    "    print(\">>> Plotting \" + feature + \" histogram...\")\n",
    "\n",
    "    # Define the histogram binning\n",
    "\n",
    "    xmin = bkg_sel_test[feature].dropna().values.min()\n",
    "    xmax = 1.2*signal_sel_test[feature].dropna().values.max()\n",
    "    binning = np.linspace(xmin, xmax, 50) \n",
    "    print(xmin,xmax)\n",
    "    \n",
    "    # Plot and save the histogram\n",
    "    plt.clf()\n",
    "    fig = plt.figure(figsize =(6,6))\n",
    "    ax = fig.add_subplot(111)\n",
    "    ax.margins(x = 0)\n",
    "    \n",
    "    ax.hist(bkg_sel_test[feature].values, bins = binning, color = 'k', alpha = 0.4, histtype = 'stepfilled', \n",
    "             linewidth = 1, edgecolor = 'k', label = 'Background', density = True)\n",
    "    ax.hist(signal_sel_test[feature].values, bins = binning, color = 'r', alpha = 0.3, histtype = 'stepfilled', \n",
    "             linewidth = 1, edgecolor = 'r', label = 'Signal', density = True)\n",
    "    ax.legend(loc = 'best', fontsize = 10)\n",
    "    ax.set_xlabel(feature, fontsize = 14)\n",
    "    ax.set_ylabel('Event density', fontsize = 14)\n",
    "    ax.tick_params(axis='both', which='both', direction='in', \n",
    "                   bottom=True, top=True, left=True, right=True, labelsize=12)\n",
    "    ax.ticklabel_format(style='sci', axis='y', scilimits=(0,0), useMathText = True)\n",
    "    plt.yscale('log')\n",
    "    fig.savefig('Plots_presentation_PlusbeamHalo/CSC_Cut_'+feature+'.png', dpi = 600)\n",
    "    plt.show()\n",
    "          \n",
    "    print(\"    Done\")"
   ]
  },
  {
   "cell_type": "code",
   "execution_count": 49,
   "metadata": {},
   "outputs": [],
   "source": [
    "# Vetos importance"
   ]
  },
  {
   "cell_type": "code",
   "execution_count": 44,
   "metadata": {},
   "outputs": [],
   "source": [
    "from tensorflow.keras import optimizers\n",
    "\n",
    "def mymodel():\n",
    "    model = models.Sequential()\n",
    "\n",
    "    model.add(layers.Dense(64, activation='relu',input_dim=len(variablesTrain[:-1]))) \n",
    "    model.add(layers.Dense(64, activation='relu'))\n",
    "    model.add(layers.Dense(32, activation='relu'))\n",
    "    model.add(layers.Dense(16, activation='relu'))\n",
    "    model.add(layers.Dense(8, activation='relu'))\n",
    "    model.add(layers.Dense(1, activation='sigmoid'))\n",
    "    model.summary()\n",
    "\n",
    "    model.compile(loss=\"binary_crossentropy\", optimizer=optimizers.Adam(0.0005), metrics=['accuracy',])\n",
    "    return model"
   ]
  },
  {
   "cell_type": "code",
   "execution_count": 45,
   "metadata": {},
   "outputs": [
    {
     "name": "stdout",
     "output_type": "stream",
     "text": [
      "Model: \"sequential\"\n",
      "_________________________________________________________________\n",
      " Layer (type)                Output Shape              Param #   \n",
      "=================================================================\n",
      " dense_6 (Dense)             (None, 64)                960       \n",
      "                                                                 \n",
      " dense_7 (Dense)             (None, 64)                4160      \n",
      "                                                                 \n",
      " dense_8 (Dense)             (None, 32)                2080      \n",
      "                                                                 \n",
      " dense_9 (Dense)             (None, 16)                528       \n",
      "                                                                 \n",
      " dense_10 (Dense)            (None, 8)                 136       \n",
      "                                                                 \n",
      " dense_11 (Dense)            (None, 1)                 9         \n",
      "                                                                 \n",
      "=================================================================\n",
      "Total params: 7,873\n",
      "Trainable params: 7,873\n",
      "Non-trainable params: 0\n",
      "_________________________________________________________________\n"
     ]
    },
    {
     "name": "stderr",
     "output_type": "stream",
     "text": [
      "/tmp/ipykernel_1115/4212110919.py:5: DeprecationWarning: KerasClassifier is deprecated, use Sci-Keras (https://github.com/adriangb/scikeras) instead. See https://www.adriangb.com/scikeras/stable/migration.html for help migrating.\n",
      "  estimator = KerasClassifier(build_fn=mymodel, epochs=1000, batch_size=2000, validation_split=0.1, verbose=1, shuffle=True)\n"
     ]
    },
    {
     "name": "stdout",
     "output_type": "stream",
     "text": [
      "Epoch 1/1000\n",
      "214/214 [==============================] - 2s 7ms/step - loss: 0.4122 - accuracy: 0.8349 - val_loss: 0.3661 - val_accuracy: 0.8555\n",
      "Epoch 2/1000\n",
      "214/214 [==============================] - 1s 6ms/step - loss: 0.3522 - accuracy: 0.8591 - val_loss: 0.3445 - val_accuracy: 0.8615\n",
      "Epoch 3/1000\n",
      "214/214 [==============================] - 1s 6ms/step - loss: 0.3375 - accuracy: 0.8637 - val_loss: 0.3359 - val_accuracy: 0.8632\n",
      "Epoch 4/1000\n",
      "214/214 [==============================] - 1s 6ms/step - loss: 0.3317 - accuracy: 0.8649 - val_loss: 0.3338 - val_accuracy: 0.8633\n",
      "Epoch 5/1000\n",
      "214/214 [==============================] - 1s 6ms/step - loss: 0.3273 - accuracy: 0.8665 - val_loss: 0.3298 - val_accuracy: 0.8651\n",
      "Epoch 6/1000\n",
      "214/214 [==============================] - 1s 6ms/step - loss: 0.3238 - accuracy: 0.8676 - val_loss: 0.3282 - val_accuracy: 0.8668\n",
      "Epoch 7/1000\n",
      "214/214 [==============================] - 1s 6ms/step - loss: 0.3203 - accuracy: 0.8689 - val_loss: 0.3226 - val_accuracy: 0.8680\n",
      "Epoch 8/1000\n",
      "214/214 [==============================] - 1s 6ms/step - loss: 0.3178 - accuracy: 0.8699 - val_loss: 0.3182 - val_accuracy: 0.8703\n",
      "Epoch 9/1000\n",
      "214/214 [==============================] - 1s 6ms/step - loss: 0.3125 - accuracy: 0.8722 - val_loss: 0.3159 - val_accuracy: 0.8709\n",
      "Epoch 10/1000\n",
      "214/214 [==============================] - 1s 6ms/step - loss: 0.3077 - accuracy: 0.8738 - val_loss: 0.3101 - val_accuracy: 0.8736\n",
      "Epoch 11/1000\n",
      "214/214 [==============================] - 1s 6ms/step - loss: 0.3034 - accuracy: 0.8753 - val_loss: 0.3117 - val_accuracy: 0.8726\n",
      "Epoch 12/1000\n",
      "214/214 [==============================] - 1s 6ms/step - loss: 0.3007 - accuracy: 0.8759 - val_loss: 0.3039 - val_accuracy: 0.8753\n",
      "Epoch 13/1000\n",
      "214/214 [==============================] - 1s 6ms/step - loss: 0.2973 - accuracy: 0.8769 - val_loss: 0.3009 - val_accuracy: 0.8747\n",
      "Epoch 14/1000\n",
      "214/214 [==============================] - 1s 6ms/step - loss: 0.2947 - accuracy: 0.8780 - val_loss: 0.2967 - val_accuracy: 0.8780\n",
      "Epoch 15/1000\n",
      "214/214 [==============================] - 1s 6ms/step - loss: 0.2927 - accuracy: 0.8786 - val_loss: 0.3004 - val_accuracy: 0.8754\n",
      "Epoch 16/1000\n",
      "214/214 [==============================] - 1s 6ms/step - loss: 0.2922 - accuracy: 0.8790 - val_loss: 0.2959 - val_accuracy: 0.8784\n",
      "Epoch 17/1000\n",
      "214/214 [==============================] - 1s 6ms/step - loss: 0.2907 - accuracy: 0.8795 - val_loss: 0.2947 - val_accuracy: 0.8785\n",
      "Epoch 18/1000\n",
      "214/214 [==============================] - 1s 6ms/step - loss: 0.2900 - accuracy: 0.8798 - val_loss: 0.2964 - val_accuracy: 0.8766\n",
      "Epoch 19/1000\n",
      "214/214 [==============================] - 1s 6ms/step - loss: 0.2889 - accuracy: 0.8802 - val_loss: 0.2942 - val_accuracy: 0.8777\n",
      "Epoch 20/1000\n",
      "214/214 [==============================] - 1s 6ms/step - loss: 0.2881 - accuracy: 0.8806 - val_loss: 0.2913 - val_accuracy: 0.8792\n",
      "Epoch 21/1000\n",
      "214/214 [==============================] - 1s 6ms/step - loss: 0.2876 - accuracy: 0.8810 - val_loss: 0.2914 - val_accuracy: 0.8792\n",
      "Epoch 22/1000\n",
      "214/214 [==============================] - 1s 6ms/step - loss: 0.2864 - accuracy: 0.8812 - val_loss: 0.2911 - val_accuracy: 0.8786\n",
      "Epoch 23/1000\n",
      "214/214 [==============================] - 1s 6ms/step - loss: 0.2860 - accuracy: 0.8814 - val_loss: 0.2890 - val_accuracy: 0.8800\n",
      "Epoch 24/1000\n",
      "214/214 [==============================] - 1s 6ms/step - loss: 0.2857 - accuracy: 0.8816 - val_loss: 0.2940 - val_accuracy: 0.8774\n",
      "Epoch 25/1000\n",
      "214/214 [==============================] - 1s 6ms/step - loss: 0.2853 - accuracy: 0.8817 - val_loss: 0.2899 - val_accuracy: 0.8800\n",
      "Epoch 26/1000\n",
      "214/214 [==============================] - 1s 6ms/step - loss: 0.2841 - accuracy: 0.8823 - val_loss: 0.2929 - val_accuracy: 0.8795\n",
      "Epoch 27/1000\n",
      "214/214 [==============================] - 1s 6ms/step - loss: 0.2840 - accuracy: 0.8823 - val_loss: 0.2890 - val_accuracy: 0.8799\n",
      "Epoch 28/1000\n",
      "214/214 [==============================] - 1s 6ms/step - loss: 0.2831 - accuracy: 0.8829 - val_loss: 0.2876 - val_accuracy: 0.8808\n",
      "Epoch 29/1000\n",
      "214/214 [==============================] - 1s 6ms/step - loss: 0.2832 - accuracy: 0.8829 - val_loss: 0.2867 - val_accuracy: 0.8800\n",
      "Epoch 30/1000\n",
      "214/214 [==============================] - 1s 6ms/step - loss: 0.2827 - accuracy: 0.8830 - val_loss: 0.2880 - val_accuracy: 0.8809\n",
      "Epoch 31/1000\n",
      "214/214 [==============================] - 1s 6ms/step - loss: 0.2822 - accuracy: 0.8830 - val_loss: 0.2865 - val_accuracy: 0.8809\n",
      "Epoch 32/1000\n",
      "214/214 [==============================] - 1s 6ms/step - loss: 0.2816 - accuracy: 0.8836 - val_loss: 0.2870 - val_accuracy: 0.8813\n",
      "Epoch 33/1000\n",
      "214/214 [==============================] - 1s 6ms/step - loss: 0.2817 - accuracy: 0.8835 - val_loss: 0.2889 - val_accuracy: 0.8801\n",
      "Epoch 34/1000\n",
      "214/214 [==============================] - 1s 6ms/step - loss: 0.2812 - accuracy: 0.8838 - val_loss: 0.2873 - val_accuracy: 0.8808\n",
      "Epoch 35/1000\n",
      "214/214 [==============================] - 1s 6ms/step - loss: 0.2803 - accuracy: 0.8841 - val_loss: 0.2855 - val_accuracy: 0.8816\n",
      "Epoch 36/1000\n",
      "214/214 [==============================] - 1s 6ms/step - loss: 0.2802 - accuracy: 0.8842 - val_loss: 0.2896 - val_accuracy: 0.8808\n",
      "Epoch 37/1000\n",
      "214/214 [==============================] - 1s 6ms/step - loss: 0.2796 - accuracy: 0.8843 - val_loss: 0.2845 - val_accuracy: 0.8819\n",
      "Epoch 38/1000\n",
      "214/214 [==============================] - 1s 6ms/step - loss: 0.2791 - accuracy: 0.8846 - val_loss: 0.2843 - val_accuracy: 0.8814\n",
      "Epoch 39/1000\n",
      "214/214 [==============================] - 1s 6ms/step - loss: 0.2790 - accuracy: 0.8844 - val_loss: 0.2848 - val_accuracy: 0.8815\n",
      "Epoch 40/1000\n",
      "214/214 [==============================] - 1s 6ms/step - loss: 0.2788 - accuracy: 0.8848 - val_loss: 0.2840 - val_accuracy: 0.8827\n",
      "Epoch 41/1000\n",
      "214/214 [==============================] - 1s 6ms/step - loss: 0.2785 - accuracy: 0.8850 - val_loss: 0.2854 - val_accuracy: 0.8825\n",
      "Epoch 42/1000\n",
      "214/214 [==============================] - 1s 6ms/step - loss: 0.2780 - accuracy: 0.8850 - val_loss: 0.2836 - val_accuracy: 0.8832\n",
      "Epoch 43/1000\n",
      "214/214 [==============================] - 1s 6ms/step - loss: 0.2777 - accuracy: 0.8851 - val_loss: 0.2838 - val_accuracy: 0.8820\n",
      "Epoch 44/1000\n",
      "214/214 [==============================] - 1s 6ms/step - loss: 0.2777 - accuracy: 0.8853 - val_loss: 0.2826 - val_accuracy: 0.8828\n",
      "Epoch 45/1000\n",
      "214/214 [==============================] - 1s 6ms/step - loss: 0.2773 - accuracy: 0.8854 - val_loss: 0.2828 - val_accuracy: 0.8824\n",
      "Epoch 46/1000\n",
      "214/214 [==============================] - 1s 6ms/step - loss: 0.2769 - accuracy: 0.8855 - val_loss: 0.2816 - val_accuracy: 0.8828\n",
      "Epoch 47/1000\n",
      "214/214 [==============================] - 1s 6ms/step - loss: 0.2771 - accuracy: 0.8855 - val_loss: 0.2820 - val_accuracy: 0.8835\n",
      "Epoch 48/1000\n",
      "214/214 [==============================] - 1s 6ms/step - loss: 0.2765 - accuracy: 0.8860 - val_loss: 0.2829 - val_accuracy: 0.8820\n",
      "Epoch 49/1000\n",
      "214/214 [==============================] - 1s 6ms/step - loss: 0.2765 - accuracy: 0.8857 - val_loss: 0.2835 - val_accuracy: 0.8827\n",
      "Epoch 50/1000\n",
      "214/214 [==============================] - 1s 6ms/step - loss: 0.2768 - accuracy: 0.8855 - val_loss: 0.2831 - val_accuracy: 0.8832\n",
      "Epoch 51/1000\n",
      "214/214 [==============================] - 1s 6ms/step - loss: 0.2760 - accuracy: 0.8861 - val_loss: 0.2845 - val_accuracy: 0.8811\n",
      "Epoch 52/1000\n",
      "214/214 [==============================] - 1s 6ms/step - loss: 0.2759 - accuracy: 0.8861 - val_loss: 0.2824 - val_accuracy: 0.8837\n",
      "Epoch 53/1000\n",
      "214/214 [==============================] - 1s 6ms/step - loss: 0.2754 - accuracy: 0.8864 - val_loss: 0.2808 - val_accuracy: 0.8841\n",
      "Epoch 54/1000\n",
      "214/214 [==============================] - 1s 6ms/step - loss: 0.2753 - accuracy: 0.8860 - val_loss: 0.2814 - val_accuracy: 0.8828\n",
      "Epoch 55/1000\n",
      "214/214 [==============================] - 1s 6ms/step - loss: 0.2753 - accuracy: 0.8863 - val_loss: 0.2801 - val_accuracy: 0.8843\n",
      "Epoch 56/1000\n",
      "214/214 [==============================] - 1s 6ms/step - loss: 0.2748 - accuracy: 0.8865 - val_loss: 0.2829 - val_accuracy: 0.8828\n",
      "Epoch 57/1000\n",
      "214/214 [==============================] - 1s 6ms/step - loss: 0.2748 - accuracy: 0.8863 - val_loss: 0.2830 - val_accuracy: 0.8826\n",
      "Epoch 58/1000\n",
      "214/214 [==============================] - 1s 6ms/step - loss: 0.2747 - accuracy: 0.8868 - val_loss: 0.2807 - val_accuracy: 0.8838\n",
      "Epoch 59/1000\n",
      "214/214 [==============================] - 1s 6ms/step - loss: 0.2738 - accuracy: 0.8872 - val_loss: 0.2834 - val_accuracy: 0.8824\n",
      "Epoch 60/1000\n",
      "214/214 [==============================] - 1s 6ms/step - loss: 0.2742 - accuracy: 0.8867 - val_loss: 0.2814 - val_accuracy: 0.8831\n",
      "Epoch 61/1000\n",
      "214/214 [==============================] - 1s 6ms/step - loss: 0.2739 - accuracy: 0.8870 - val_loss: 0.2806 - val_accuracy: 0.8841\n",
      "Epoch 62/1000\n",
      "214/214 [==============================] - 1s 6ms/step - loss: 0.2731 - accuracy: 0.8869 - val_loss: 0.2811 - val_accuracy: 0.8839\n",
      "Epoch 63/1000\n",
      "214/214 [==============================] - 1s 6ms/step - loss: 0.2733 - accuracy: 0.8874 - val_loss: 0.2798 - val_accuracy: 0.8842\n",
      "Epoch 64/1000\n",
      "214/214 [==============================] - 1s 6ms/step - loss: 0.2734 - accuracy: 0.8872 - val_loss: 0.2794 - val_accuracy: 0.8842\n",
      "Epoch 65/1000\n",
      "214/214 [==============================] - 1s 6ms/step - loss: 0.2730 - accuracy: 0.8872 - val_loss: 0.2819 - val_accuracy: 0.8826\n",
      "Epoch 66/1000\n",
      "214/214 [==============================] - 1s 6ms/step - loss: 0.2731 - accuracy: 0.8874 - val_loss: 0.2814 - val_accuracy: 0.8829\n",
      "Epoch 67/1000\n",
      "214/214 [==============================] - 1s 6ms/step - loss: 0.2728 - accuracy: 0.8874 - val_loss: 0.2798 - val_accuracy: 0.8829\n",
      "Epoch 68/1000\n",
      "214/214 [==============================] - 1s 6ms/step - loss: 0.2725 - accuracy: 0.8874 - val_loss: 0.2793 - val_accuracy: 0.8846\n",
      "Epoch 69/1000\n",
      "214/214 [==============================] - 1s 6ms/step - loss: 0.2720 - accuracy: 0.8878 - val_loss: 0.2797 - val_accuracy: 0.8861\n",
      "Epoch 70/1000\n",
      "214/214 [==============================] - 1s 6ms/step - loss: 0.2720 - accuracy: 0.8877 - val_loss: 0.2797 - val_accuracy: 0.8843\n",
      "Epoch 71/1000\n",
      "214/214 [==============================] - 1s 6ms/step - loss: 0.2721 - accuracy: 0.8875 - val_loss: 0.2796 - val_accuracy: 0.8840\n",
      "Epoch 72/1000\n",
      "214/214 [==============================] - 1s 6ms/step - loss: 0.2720 - accuracy: 0.8876 - val_loss: 0.2840 - val_accuracy: 0.8825\n",
      "Epoch 73/1000\n",
      "214/214 [==============================] - 1s 6ms/step - loss: 0.2718 - accuracy: 0.8877 - val_loss: 0.2783 - val_accuracy: 0.8858\n",
      "Epoch 74/1000\n",
      "214/214 [==============================] - 1s 6ms/step - loss: 0.2716 - accuracy: 0.8878 - val_loss: 0.2791 - val_accuracy: 0.8846\n",
      "Epoch 75/1000\n",
      "214/214 [==============================] - 1s 6ms/step - loss: 0.2715 - accuracy: 0.8878 - val_loss: 0.2773 - val_accuracy: 0.8860\n",
      "Epoch 76/1000\n",
      "214/214 [==============================] - 1s 6ms/step - loss: 0.2710 - accuracy: 0.8879 - val_loss: 0.2794 - val_accuracy: 0.8841\n",
      "Epoch 77/1000\n",
      "214/214 [==============================] - 1s 6ms/step - loss: 0.2712 - accuracy: 0.8881 - val_loss: 0.2774 - val_accuracy: 0.8862\n",
      "Epoch 78/1000\n",
      "214/214 [==============================] - 1s 6ms/step - loss: 0.2707 - accuracy: 0.8882 - val_loss: 0.2793 - val_accuracy: 0.8849\n",
      "Epoch 79/1000\n",
      "214/214 [==============================] - 1s 6ms/step - loss: 0.2704 - accuracy: 0.8885 - val_loss: 0.2782 - val_accuracy: 0.8857\n",
      "Epoch 80/1000\n",
      "214/214 [==============================] - 1s 6ms/step - loss: 0.2702 - accuracy: 0.8884 - val_loss: 0.2790 - val_accuracy: 0.8854\n",
      "Epoch 81/1000\n",
      "214/214 [==============================] - 1s 6ms/step - loss: 0.2703 - accuracy: 0.8880 - val_loss: 0.2794 - val_accuracy: 0.8843\n",
      "Epoch 82/1000\n",
      "214/214 [==============================] - 1s 6ms/step - loss: 0.2699 - accuracy: 0.8887 - val_loss: 0.2770 - val_accuracy: 0.8860\n",
      "Epoch 83/1000\n",
      "214/214 [==============================] - 1s 6ms/step - loss: 0.2701 - accuracy: 0.8881 - val_loss: 0.2784 - val_accuracy: 0.8854\n",
      "Epoch 84/1000\n",
      "214/214 [==============================] - 1s 6ms/step - loss: 0.2701 - accuracy: 0.8887 - val_loss: 0.2771 - val_accuracy: 0.8862\n",
      "Epoch 85/1000\n",
      "214/214 [==============================] - 1s 6ms/step - loss: 0.2697 - accuracy: 0.8887 - val_loss: 0.2761 - val_accuracy: 0.8855\n",
      "Epoch 86/1000\n",
      "214/214 [==============================] - 1s 6ms/step - loss: 0.2689 - accuracy: 0.8890 - val_loss: 0.2782 - val_accuracy: 0.8846\n",
      "Epoch 87/1000\n",
      "214/214 [==============================] - 1s 6ms/step - loss: 0.2691 - accuracy: 0.8887 - val_loss: 0.2769 - val_accuracy: 0.8866\n",
      "Epoch 88/1000\n",
      "214/214 [==============================] - 1s 6ms/step - loss: 0.2690 - accuracy: 0.8890 - val_loss: 0.2768 - val_accuracy: 0.8866\n",
      "Epoch 89/1000\n",
      "214/214 [==============================] - 1s 6ms/step - loss: 0.2688 - accuracy: 0.8890 - val_loss: 0.2767 - val_accuracy: 0.8858\n",
      "Epoch 90/1000\n",
      "214/214 [==============================] - 1s 6ms/step - loss: 0.2689 - accuracy: 0.8891 - val_loss: 0.2776 - val_accuracy: 0.8857\n",
      "Epoch 91/1000\n",
      "214/214 [==============================] - 1s 6ms/step - loss: 0.2686 - accuracy: 0.8890 - val_loss: 0.2766 - val_accuracy: 0.8856\n",
      "Epoch 92/1000\n",
      "214/214 [==============================] - 1s 6ms/step - loss: 0.2685 - accuracy: 0.8891 - val_loss: 0.2766 - val_accuracy: 0.8861\n",
      "Epoch 93/1000\n",
      "214/214 [==============================] - 1s 6ms/step - loss: 0.2684 - accuracy: 0.8891 - val_loss: 0.2778 - val_accuracy: 0.8856\n",
      "Epoch 94/1000\n",
      "214/214 [==============================] - 1s 6ms/step - loss: 0.2683 - accuracy: 0.8890 - val_loss: 0.2776 - val_accuracy: 0.8849\n",
      "Epoch 95/1000\n",
      "214/214 [==============================] - 1s 6ms/step - loss: 0.2679 - accuracy: 0.8894 - val_loss: 0.2770 - val_accuracy: 0.8854\n",
      "Epoch 96/1000\n",
      "214/214 [==============================] - 1s 6ms/step - loss: 0.2678 - accuracy: 0.8894 - val_loss: 0.2774 - val_accuracy: 0.8864\n",
      "Epoch 97/1000\n",
      "214/214 [==============================] - 1s 6ms/step - loss: 0.2675 - accuracy: 0.8897 - val_loss: 0.2759 - val_accuracy: 0.8857\n",
      "Epoch 98/1000\n",
      "214/214 [==============================] - 1s 6ms/step - loss: 0.2674 - accuracy: 0.8896 - val_loss: 0.2772 - val_accuracy: 0.8856\n",
      "Epoch 99/1000\n",
      "214/214 [==============================] - 1s 6ms/step - loss: 0.2672 - accuracy: 0.8895 - val_loss: 0.2784 - val_accuracy: 0.8843\n",
      "Epoch 100/1000\n",
      "214/214 [==============================] - 1s 6ms/step - loss: 0.2671 - accuracy: 0.8899 - val_loss: 0.2754 - val_accuracy: 0.8861\n",
      "Epoch 101/1000\n",
      "214/214 [==============================] - 1s 6ms/step - loss: 0.2667 - accuracy: 0.8899 - val_loss: 0.2819 - val_accuracy: 0.8845\n",
      "Epoch 102/1000\n",
      "214/214 [==============================] - 1s 6ms/step - loss: 0.2669 - accuracy: 0.8897 - val_loss: 0.2772 - val_accuracy: 0.8848\n",
      "Epoch 103/1000\n",
      "214/214 [==============================] - 1s 6ms/step - loss: 0.2666 - accuracy: 0.8900 - val_loss: 0.2758 - val_accuracy: 0.8865\n",
      "Epoch 104/1000\n",
      "214/214 [==============================] - 1s 6ms/step - loss: 0.2663 - accuracy: 0.8901 - val_loss: 0.2757 - val_accuracy: 0.8860\n",
      "Epoch 105/1000\n",
      "214/214 [==============================] - 1s 6ms/step - loss: 0.2665 - accuracy: 0.8899 - val_loss: 0.2765 - val_accuracy: 0.8857\n",
      "Epoch 106/1000\n",
      "214/214 [==============================] - 1s 6ms/step - loss: 0.2659 - accuracy: 0.8902 - val_loss: 0.2761 - val_accuracy: 0.8859\n",
      "Epoch 107/1000\n",
      "214/214 [==============================] - 1s 6ms/step - loss: 0.2661 - accuracy: 0.8899 - val_loss: 0.2752 - val_accuracy: 0.8868\n",
      "Epoch 108/1000\n",
      "214/214 [==============================] - 1s 6ms/step - loss: 0.2657 - accuracy: 0.8902 - val_loss: 0.2743 - val_accuracy: 0.8873\n",
      "Epoch 109/1000\n",
      "214/214 [==============================] - 1s 6ms/step - loss: 0.2655 - accuracy: 0.8904 - val_loss: 0.2775 - val_accuracy: 0.8852\n",
      "Epoch 110/1000\n",
      "214/214 [==============================] - 1s 6ms/step - loss: 0.2654 - accuracy: 0.8904 - val_loss: 0.2756 - val_accuracy: 0.8872\n",
      "Epoch 111/1000\n",
      "214/214 [==============================] - 1s 6ms/step - loss: 0.2654 - accuracy: 0.8905 - val_loss: 0.2750 - val_accuracy: 0.8861\n",
      "Epoch 112/1000\n",
      "214/214 [==============================] - 1s 6ms/step - loss: 0.2652 - accuracy: 0.8906 - val_loss: 0.2745 - val_accuracy: 0.8871\n",
      "Epoch 113/1000\n"
     ]
    },
    {
     "name": "stdout",
     "output_type": "stream",
     "text": [
      "214/214 [==============================] - 1s 6ms/step - loss: 0.2648 - accuracy: 0.8909 - val_loss: 0.2738 - val_accuracy: 0.8869\n",
      "Epoch 114/1000\n",
      "214/214 [==============================] - 1s 6ms/step - loss: 0.2653 - accuracy: 0.8903 - val_loss: 0.2748 - val_accuracy: 0.8879\n",
      "Epoch 115/1000\n",
      "214/214 [==============================] - 1s 6ms/step - loss: 0.2648 - accuracy: 0.8906 - val_loss: 0.2770 - val_accuracy: 0.8852\n",
      "Epoch 116/1000\n",
      "214/214 [==============================] - 1s 6ms/step - loss: 0.2643 - accuracy: 0.8907 - val_loss: 0.2731 - val_accuracy: 0.8880\n",
      "Epoch 117/1000\n",
      "214/214 [==============================] - 1s 6ms/step - loss: 0.2646 - accuracy: 0.8905 - val_loss: 0.2747 - val_accuracy: 0.8867\n",
      "Epoch 118/1000\n",
      "214/214 [==============================] - 1s 6ms/step - loss: 0.2644 - accuracy: 0.8910 - val_loss: 0.2735 - val_accuracy: 0.8868\n",
      "Epoch 119/1000\n",
      "214/214 [==============================] - 1s 6ms/step - loss: 0.2641 - accuracy: 0.8911 - val_loss: 0.2743 - val_accuracy: 0.8864\n",
      "Epoch 120/1000\n",
      "214/214 [==============================] - 1s 6ms/step - loss: 0.2638 - accuracy: 0.8910 - val_loss: 0.2760 - val_accuracy: 0.8863\n",
      "Epoch 121/1000\n",
      "214/214 [==============================] - 1s 6ms/step - loss: 0.2638 - accuracy: 0.8911 - val_loss: 0.2737 - val_accuracy: 0.8875\n",
      "Epoch 122/1000\n",
      "214/214 [==============================] - 1s 6ms/step - loss: 0.2640 - accuracy: 0.8907 - val_loss: 0.2731 - val_accuracy: 0.8882\n",
      "Epoch 123/1000\n",
      "214/214 [==============================] - 1s 6ms/step - loss: 0.2635 - accuracy: 0.8912 - val_loss: 0.2729 - val_accuracy: 0.8875\n",
      "Epoch 124/1000\n",
      "214/214 [==============================] - 1s 6ms/step - loss: 0.2635 - accuracy: 0.8913 - val_loss: 0.2731 - val_accuracy: 0.8869\n",
      "Epoch 125/1000\n",
      "214/214 [==============================] - 1s 6ms/step - loss: 0.2633 - accuracy: 0.8913 - val_loss: 0.2729 - val_accuracy: 0.8878\n",
      "Epoch 126/1000\n",
      "214/214 [==============================] - 1s 6ms/step - loss: 0.2631 - accuracy: 0.8914 - val_loss: 0.2735 - val_accuracy: 0.8865\n",
      "Epoch 127/1000\n",
      "214/214 [==============================] - 1s 6ms/step - loss: 0.2633 - accuracy: 0.8914 - val_loss: 0.2730 - val_accuracy: 0.8872\n",
      "Epoch 128/1000\n",
      "214/214 [==============================] - 1s 6ms/step - loss: 0.2625 - accuracy: 0.8919 - val_loss: 0.2726 - val_accuracy: 0.8869\n",
      "Epoch 129/1000\n",
      "214/214 [==============================] - 1s 6ms/step - loss: 0.2625 - accuracy: 0.8917 - val_loss: 0.2744 - val_accuracy: 0.8869\n",
      "Epoch 130/1000\n",
      "214/214 [==============================] - 1s 6ms/step - loss: 0.2626 - accuracy: 0.8915 - val_loss: 0.2733 - val_accuracy: 0.8873\n",
      "Epoch 131/1000\n",
      "214/214 [==============================] - 1s 6ms/step - loss: 0.2625 - accuracy: 0.8916 - val_loss: 0.2718 - val_accuracy: 0.8878\n",
      "Epoch 132/1000\n",
      "214/214 [==============================] - 1s 6ms/step - loss: 0.2626 - accuracy: 0.8917 - val_loss: 0.2727 - val_accuracy: 0.8869\n",
      "Epoch 133/1000\n",
      "214/214 [==============================] - 1s 6ms/step - loss: 0.2623 - accuracy: 0.8918 - val_loss: 0.2719 - val_accuracy: 0.8879\n",
      "Epoch 134/1000\n",
      "214/214 [==============================] - 1s 6ms/step - loss: 0.2622 - accuracy: 0.8920 - val_loss: 0.2735 - val_accuracy: 0.8875\n",
      "Epoch 135/1000\n",
      "214/214 [==============================] - 1s 6ms/step - loss: 0.2621 - accuracy: 0.8917 - val_loss: 0.2729 - val_accuracy: 0.8872\n",
      "Epoch 136/1000\n",
      "214/214 [==============================] - 1s 6ms/step - loss: 0.2615 - accuracy: 0.8917 - val_loss: 0.2718 - val_accuracy: 0.8875\n",
      "Epoch 137/1000\n",
      "214/214 [==============================] - 1s 6ms/step - loss: 0.2621 - accuracy: 0.8917 - val_loss: 0.2769 - val_accuracy: 0.8852\n",
      "Epoch 138/1000\n",
      "214/214 [==============================] - 1s 6ms/step - loss: 0.2617 - accuracy: 0.8921 - val_loss: 0.2725 - val_accuracy: 0.8875\n",
      "Epoch 139/1000\n",
      "214/214 [==============================] - 1s 6ms/step - loss: 0.2614 - accuracy: 0.8920 - val_loss: 0.2720 - val_accuracy: 0.8886\n",
      "Epoch 140/1000\n",
      "214/214 [==============================] - 1s 6ms/step - loss: 0.2611 - accuracy: 0.8924 - val_loss: 0.2714 - val_accuracy: 0.8885\n",
      "Epoch 141/1000\n",
      "214/214 [==============================] - 1s 6ms/step - loss: 0.2610 - accuracy: 0.8923 - val_loss: 0.2735 - val_accuracy: 0.8870\n",
      "Epoch 142/1000\n",
      "214/214 [==============================] - 1s 6ms/step - loss: 0.2612 - accuracy: 0.8923 - val_loss: 0.2740 - val_accuracy: 0.8870\n",
      "Epoch 143/1000\n",
      "214/214 [==============================] - 1s 6ms/step - loss: 0.2607 - accuracy: 0.8926 - val_loss: 0.2743 - val_accuracy: 0.8871\n",
      "Epoch 144/1000\n",
      "214/214 [==============================] - 1s 6ms/step - loss: 0.2610 - accuracy: 0.8923 - val_loss: 0.2716 - val_accuracy: 0.8882\n",
      "Epoch 145/1000\n",
      "214/214 [==============================] - 1s 6ms/step - loss: 0.2609 - accuracy: 0.8925 - val_loss: 0.2718 - val_accuracy: 0.8875\n",
      "Epoch 146/1000\n",
      "214/214 [==============================] - 1s 6ms/step - loss: 0.2606 - accuracy: 0.8920 - val_loss: 0.2713 - val_accuracy: 0.8882\n",
      "Epoch 147/1000\n",
      "214/214 [==============================] - 1s 6ms/step - loss: 0.2606 - accuracy: 0.8924 - val_loss: 0.2713 - val_accuracy: 0.8887\n",
      "Epoch 148/1000\n",
      "214/214 [==============================] - 1s 6ms/step - loss: 0.2606 - accuracy: 0.8924 - val_loss: 0.2736 - val_accuracy: 0.8869\n",
      "Epoch 149/1000\n",
      "214/214 [==============================] - 1s 6ms/step - loss: 0.2603 - accuracy: 0.8925 - val_loss: 0.2717 - val_accuracy: 0.8869\n",
      "Epoch 150/1000\n",
      "214/214 [==============================] - 1s 6ms/step - loss: 0.2600 - accuracy: 0.8924 - val_loss: 0.2716 - val_accuracy: 0.8875\n",
      "Epoch 151/1000\n",
      "214/214 [==============================] - 1s 6ms/step - loss: 0.2599 - accuracy: 0.8929 - val_loss: 0.2709 - val_accuracy: 0.8880\n",
      "Epoch 152/1000\n",
      "214/214 [==============================] - 1s 6ms/step - loss: 0.2602 - accuracy: 0.8924 - val_loss: 0.2769 - val_accuracy: 0.8853\n",
      "Epoch 153/1000\n",
      "214/214 [==============================] - 1s 7ms/step - loss: 0.2601 - accuracy: 0.8927 - val_loss: 0.2726 - val_accuracy: 0.8874\n",
      "Epoch 154/1000\n",
      "214/214 [==============================] - 1s 6ms/step - loss: 0.2598 - accuracy: 0.8928 - val_loss: 0.2705 - val_accuracy: 0.8883\n",
      "Epoch 155/1000\n",
      "214/214 [==============================] - 1s 6ms/step - loss: 0.2598 - accuracy: 0.8930 - val_loss: 0.2749 - val_accuracy: 0.8859\n",
      "Epoch 156/1000\n",
      "214/214 [==============================] - 1s 6ms/step - loss: 0.2597 - accuracy: 0.8927 - val_loss: 0.2712 - val_accuracy: 0.8879\n",
      "Epoch 157/1000\n",
      "214/214 [==============================] - 1s 6ms/step - loss: 0.2595 - accuracy: 0.8928 - val_loss: 0.2719 - val_accuracy: 0.8886\n",
      "Epoch 158/1000\n",
      "214/214 [==============================] - 1s 6ms/step - loss: 0.2593 - accuracy: 0.8928 - val_loss: 0.2703 - val_accuracy: 0.8878\n",
      "Epoch 159/1000\n",
      "214/214 [==============================] - 1s 6ms/step - loss: 0.2595 - accuracy: 0.8930 - val_loss: 0.2701 - val_accuracy: 0.8884\n",
      "Epoch 160/1000\n",
      "214/214 [==============================] - 1s 6ms/step - loss: 0.2592 - accuracy: 0.8933 - val_loss: 0.2695 - val_accuracy: 0.8887\n",
      "Epoch 161/1000\n",
      "214/214 [==============================] - 1s 6ms/step - loss: 0.2592 - accuracy: 0.8931 - val_loss: 0.2706 - val_accuracy: 0.8888\n",
      "Epoch 162/1000\n",
      "214/214 [==============================] - 1s 6ms/step - loss: 0.2597 - accuracy: 0.8931 - val_loss: 0.2690 - val_accuracy: 0.8891\n",
      "Epoch 163/1000\n",
      "214/214 [==============================] - 1s 6ms/step - loss: 0.2586 - accuracy: 0.8933 - val_loss: 0.2700 - val_accuracy: 0.8888\n",
      "Epoch 164/1000\n",
      "214/214 [==============================] - 1s 6ms/step - loss: 0.2585 - accuracy: 0.8933 - val_loss: 0.2690 - val_accuracy: 0.8892\n",
      "Epoch 165/1000\n",
      "214/214 [==============================] - 1s 6ms/step - loss: 0.2586 - accuracy: 0.8931 - val_loss: 0.2700 - val_accuracy: 0.8887\n",
      "Epoch 166/1000\n",
      "214/214 [==============================] - 1s 6ms/step - loss: 0.2584 - accuracy: 0.8933 - val_loss: 0.2700 - val_accuracy: 0.8891\n",
      "Epoch 167/1000\n",
      "214/214 [==============================] - 1s 6ms/step - loss: 0.2586 - accuracy: 0.8934 - val_loss: 0.2693 - val_accuracy: 0.8893\n",
      "Epoch 168/1000\n",
      "214/214 [==============================] - 1s 6ms/step - loss: 0.2584 - accuracy: 0.8933 - val_loss: 0.2692 - val_accuracy: 0.8886\n",
      "Epoch 169/1000\n",
      "214/214 [==============================] - 1s 6ms/step - loss: 0.2586 - accuracy: 0.8932 - val_loss: 0.2751 - val_accuracy: 0.8870\n",
      "Epoch 170/1000\n",
      "214/214 [==============================] - 1s 6ms/step - loss: 0.2584 - accuracy: 0.8936 - val_loss: 0.2685 - val_accuracy: 0.8894\n",
      "Epoch 171/1000\n",
      "214/214 [==============================] - 1s 6ms/step - loss: 0.2577 - accuracy: 0.8937 - val_loss: 0.2706 - val_accuracy: 0.8883\n",
      "Epoch 172/1000\n",
      "214/214 [==============================] - 1s 6ms/step - loss: 0.2579 - accuracy: 0.8938 - val_loss: 0.2687 - val_accuracy: 0.8887\n",
      "Epoch 173/1000\n",
      "214/214 [==============================] - 1s 6ms/step - loss: 0.2577 - accuracy: 0.8938 - val_loss: 0.2695 - val_accuracy: 0.8879\n",
      "Epoch 174/1000\n",
      "214/214 [==============================] - 1s 6ms/step - loss: 0.2578 - accuracy: 0.8934 - val_loss: 0.2708 - val_accuracy: 0.8881\n",
      "Epoch 175/1000\n",
      "214/214 [==============================] - 1s 6ms/step - loss: 0.2576 - accuracy: 0.8938 - val_loss: 0.2700 - val_accuracy: 0.8881\n",
      "Epoch 176/1000\n",
      "214/214 [==============================] - 1s 6ms/step - loss: 0.2579 - accuracy: 0.8936 - val_loss: 0.2695 - val_accuracy: 0.8887\n",
      "Epoch 177/1000\n",
      "214/214 [==============================] - 1s 6ms/step - loss: 0.2580 - accuracy: 0.8935 - val_loss: 0.2684 - val_accuracy: 0.8891\n",
      "Epoch 178/1000\n",
      "214/214 [==============================] - 1s 6ms/step - loss: 0.2580 - accuracy: 0.8936 - val_loss: 0.2733 - val_accuracy: 0.8870\n",
      "Epoch 179/1000\n",
      "214/214 [==============================] - 1s 6ms/step - loss: 0.2577 - accuracy: 0.8938 - val_loss: 0.2710 - val_accuracy: 0.8872\n",
      "Epoch 180/1000\n",
      "214/214 [==============================] - 1s 6ms/step - loss: 0.2578 - accuracy: 0.8937 - val_loss: 0.2717 - val_accuracy: 0.8873\n",
      "Epoch 181/1000\n",
      "214/214 [==============================] - 1s 6ms/step - loss: 0.2577 - accuracy: 0.8934 - val_loss: 0.2703 - val_accuracy: 0.8887\n",
      "Epoch 182/1000\n",
      "214/214 [==============================] - 1s 6ms/step - loss: 0.2570 - accuracy: 0.8938 - val_loss: 0.2698 - val_accuracy: 0.8886\n",
      "Epoch 183/1000\n",
      "214/214 [==============================] - 1s 6ms/step - loss: 0.2576 - accuracy: 0.8938 - val_loss: 0.2680 - val_accuracy: 0.8888\n",
      "Epoch 184/1000\n",
      "214/214 [==============================] - 1s 6ms/step - loss: 0.2567 - accuracy: 0.8941 - val_loss: 0.2690 - val_accuracy: 0.8894\n",
      "Epoch 185/1000\n",
      "214/214 [==============================] - 1s 6ms/step - loss: 0.2571 - accuracy: 0.8938 - val_loss: 0.2681 - val_accuracy: 0.8894\n",
      "Epoch 186/1000\n",
      "214/214 [==============================] - 1s 6ms/step - loss: 0.2568 - accuracy: 0.8942 - val_loss: 0.2683 - val_accuracy: 0.8886\n",
      "Epoch 187/1000\n",
      "214/214 [==============================] - 1s 6ms/step - loss: 0.2569 - accuracy: 0.8941 - val_loss: 0.2690 - val_accuracy: 0.8901\n",
      "Epoch 188/1000\n",
      "214/214 [==============================] - 1s 6ms/step - loss: 0.2569 - accuracy: 0.8940 - val_loss: 0.2725 - val_accuracy: 0.8873\n",
      "Epoch 189/1000\n",
      "214/214 [==============================] - 1s 6ms/step - loss: 0.2568 - accuracy: 0.8938 - val_loss: 0.2693 - val_accuracy: 0.8886\n",
      "Epoch 190/1000\n",
      "214/214 [==============================] - 1s 6ms/step - loss: 0.2572 - accuracy: 0.8937 - val_loss: 0.2681 - val_accuracy: 0.8898\n",
      "Epoch 191/1000\n",
      "214/214 [==============================] - 1s 6ms/step - loss: 0.2564 - accuracy: 0.8944 - val_loss: 0.2679 - val_accuracy: 0.8901\n",
      "Epoch 192/1000\n",
      "214/214 [==============================] - 1s 6ms/step - loss: 0.2572 - accuracy: 0.8937 - val_loss: 0.2694 - val_accuracy: 0.8887\n",
      "Epoch 193/1000\n",
      "214/214 [==============================] - 1s 6ms/step - loss: 0.2563 - accuracy: 0.8940 - val_loss: 0.2694 - val_accuracy: 0.8889\n",
      "Epoch 194/1000\n",
      "214/214 [==============================] - 1s 6ms/step - loss: 0.2565 - accuracy: 0.8942 - val_loss: 0.2683 - val_accuracy: 0.8894\n",
      "Epoch 195/1000\n",
      "214/214 [==============================] - 1s 6ms/step - loss: 0.2565 - accuracy: 0.8938 - val_loss: 0.2681 - val_accuracy: 0.8893\n",
      "Epoch 196/1000\n",
      "214/214 [==============================] - 1s 6ms/step - loss: 0.2562 - accuracy: 0.8943 - val_loss: 0.2678 - val_accuracy: 0.8900\n",
      "Epoch 197/1000\n",
      "214/214 [==============================] - 1s 6ms/step - loss: 0.2562 - accuracy: 0.8939 - val_loss: 0.2677 - val_accuracy: 0.8901\n",
      "Epoch 198/1000\n",
      "214/214 [==============================] - 1s 6ms/step - loss: 0.2562 - accuracy: 0.8945 - val_loss: 0.2681 - val_accuracy: 0.8892\n",
      "Epoch 199/1000\n",
      "214/214 [==============================] - 1s 6ms/step - loss: 0.2561 - accuracy: 0.8944 - val_loss: 0.2707 - val_accuracy: 0.8887\n",
      "Epoch 200/1000\n",
      "214/214 [==============================] - 1s 6ms/step - loss: 0.2560 - accuracy: 0.8946 - val_loss: 0.2683 - val_accuracy: 0.8899\n",
      "Epoch 201/1000\n",
      "214/214 [==============================] - 1s 6ms/step - loss: 0.2558 - accuracy: 0.8943 - val_loss: 0.2700 - val_accuracy: 0.8885\n",
      "Epoch 202/1000\n",
      "214/214 [==============================] - 1s 6ms/step - loss: 0.2559 - accuracy: 0.8944 - val_loss: 0.2685 - val_accuracy: 0.8905\n",
      "Epoch 203/1000\n",
      "214/214 [==============================] - 1s 6ms/step - loss: 0.2555 - accuracy: 0.8946 - val_loss: 0.2671 - val_accuracy: 0.8893\n",
      "Epoch 204/1000\n",
      "214/214 [==============================] - 1s 6ms/step - loss: 0.2560 - accuracy: 0.8945 - val_loss: 0.2697 - val_accuracy: 0.8884\n",
      "Epoch 205/1000\n",
      "214/214 [==============================] - 1s 6ms/step - loss: 0.2551 - accuracy: 0.8945 - val_loss: 0.2674 - val_accuracy: 0.8900\n",
      "Epoch 206/1000\n",
      "214/214 [==============================] - 1s 6ms/step - loss: 0.2556 - accuracy: 0.8946 - val_loss: 0.2678 - val_accuracy: 0.8892\n",
      "Epoch 207/1000\n",
      "214/214 [==============================] - 1s 6ms/step - loss: 0.2557 - accuracy: 0.8946 - val_loss: 0.2676 - val_accuracy: 0.8897\n",
      "Epoch 208/1000\n",
      "214/214 [==============================] - 1s 6ms/step - loss: 0.2553 - accuracy: 0.8944 - val_loss: 0.2676 - val_accuracy: 0.8898\n",
      "Epoch 209/1000\n",
      "214/214 [==============================] - 1s 6ms/step - loss: 0.2552 - accuracy: 0.8946 - val_loss: 0.2674 - val_accuracy: 0.8900\n",
      "Epoch 210/1000\n",
      "214/214 [==============================] - 1s 6ms/step - loss: 0.2552 - accuracy: 0.8948 - val_loss: 0.2674 - val_accuracy: 0.8889\n",
      "Epoch 211/1000\n",
      "214/214 [==============================] - 1s 6ms/step - loss: 0.2553 - accuracy: 0.8947 - val_loss: 0.2681 - val_accuracy: 0.8899\n",
      "Epoch 212/1000\n",
      "214/214 [==============================] - 1s 6ms/step - loss: 0.2553 - accuracy: 0.8943 - val_loss: 0.2676 - val_accuracy: 0.8901\n",
      "Epoch 213/1000\n",
      "214/214 [==============================] - 1s 6ms/step - loss: 0.2552 - accuracy: 0.8948 - val_loss: 0.2683 - val_accuracy: 0.8894\n",
      "Epoch 214/1000\n",
      "214/214 [==============================] - 1s 6ms/step - loss: 0.2551 - accuracy: 0.8947 - val_loss: 0.2674 - val_accuracy: 0.8896\n",
      "Epoch 215/1000\n",
      "214/214 [==============================] - 1s 6ms/step - loss: 0.2546 - accuracy: 0.8950 - val_loss: 0.2677 - val_accuracy: 0.8897\n",
      "Epoch 216/1000\n",
      "214/214 [==============================] - 1s 6ms/step - loss: 0.2547 - accuracy: 0.8951 - val_loss: 0.2673 - val_accuracy: 0.8895\n",
      "Epoch 217/1000\n",
      "214/214 [==============================] - 1s 6ms/step - loss: 0.2552 - accuracy: 0.8950 - val_loss: 0.2672 - val_accuracy: 0.8903\n",
      "Epoch 218/1000\n",
      "214/214 [==============================] - 1s 6ms/step - loss: 0.2548 - accuracy: 0.8949 - val_loss: 0.2674 - val_accuracy: 0.8892\n",
      "Epoch 219/1000\n",
      "214/214 [==============================] - 1s 6ms/step - loss: 0.2545 - accuracy: 0.8950 - val_loss: 0.2669 - val_accuracy: 0.8899\n",
      "Epoch 220/1000\n",
      "214/214 [==============================] - 1s 6ms/step - loss: 0.2548 - accuracy: 0.8949 - val_loss: 0.2674 - val_accuracy: 0.8897\n",
      "Epoch 221/1000\n",
      "214/214 [==============================] - 1s 6ms/step - loss: 0.2543 - accuracy: 0.8949 - val_loss: 0.2695 - val_accuracy: 0.8889\n",
      "Epoch 222/1000\n",
      "214/214 [==============================] - 1s 6ms/step - loss: 0.2546 - accuracy: 0.8947 - val_loss: 0.2669 - val_accuracy: 0.8906\n",
      "Epoch 223/1000\n",
      "214/214 [==============================] - 1s 6ms/step - loss: 0.2549 - accuracy: 0.8948 - val_loss: 0.2671 - val_accuracy: 0.8899\n",
      "Epoch 224/1000\n",
      "214/214 [==============================] - 1s 6ms/step - loss: 0.2546 - accuracy: 0.8950 - val_loss: 0.2683 - val_accuracy: 0.8892\n",
      "Epoch 225/1000\n"
     ]
    },
    {
     "name": "stdout",
     "output_type": "stream",
     "text": [
      "214/214 [==============================] - 1s 6ms/step - loss: 0.2541 - accuracy: 0.8952 - val_loss: 0.2673 - val_accuracy: 0.8900\n",
      "Epoch 226/1000\n",
      "214/214 [==============================] - 1s 6ms/step - loss: 0.2544 - accuracy: 0.8949 - val_loss: 0.2668 - val_accuracy: 0.8901\n",
      "Epoch 227/1000\n",
      "214/214 [==============================] - 1s 6ms/step - loss: 0.2540 - accuracy: 0.8952 - val_loss: 0.2673 - val_accuracy: 0.8893\n",
      "Epoch 228/1000\n",
      "214/214 [==============================] - 1s 6ms/step - loss: 0.2539 - accuracy: 0.8954 - val_loss: 0.2689 - val_accuracy: 0.8890\n",
      "Epoch 229/1000\n",
      "214/214 [==============================] - 1s 6ms/step - loss: 0.2539 - accuracy: 0.8951 - val_loss: 0.2657 - val_accuracy: 0.8907\n",
      "Epoch 230/1000\n",
      "214/214 [==============================] - 1s 6ms/step - loss: 0.2544 - accuracy: 0.8951 - val_loss: 0.2682 - val_accuracy: 0.8903\n",
      "Epoch 231/1000\n",
      "214/214 [==============================] - 1s 6ms/step - loss: 0.2541 - accuracy: 0.8953 - val_loss: 0.2667 - val_accuracy: 0.8905\n",
      "Epoch 232/1000\n",
      "214/214 [==============================] - 1s 6ms/step - loss: 0.2542 - accuracy: 0.8948 - val_loss: 0.2669 - val_accuracy: 0.8898\n",
      "Epoch 233/1000\n",
      "214/214 [==============================] - 1s 6ms/step - loss: 0.2541 - accuracy: 0.8950 - val_loss: 0.2686 - val_accuracy: 0.8900\n",
      "Epoch 234/1000\n",
      "214/214 [==============================] - 1s 6ms/step - loss: 0.2538 - accuracy: 0.8952 - val_loss: 0.2668 - val_accuracy: 0.8895\n",
      "Epoch 235/1000\n",
      "214/214 [==============================] - 1s 6ms/step - loss: 0.2538 - accuracy: 0.8951 - val_loss: 0.2696 - val_accuracy: 0.8881\n",
      "Epoch 236/1000\n",
      "214/214 [==============================] - 1s 6ms/step - loss: 0.2545 - accuracy: 0.8950 - val_loss: 0.2669 - val_accuracy: 0.8900\n",
      "Epoch 237/1000\n",
      "214/214 [==============================] - 1s 6ms/step - loss: 0.2534 - accuracy: 0.8954 - val_loss: 0.2677 - val_accuracy: 0.8898\n",
      "Epoch 238/1000\n",
      "214/214 [==============================] - 1s 6ms/step - loss: 0.2536 - accuracy: 0.8951 - val_loss: 0.2686 - val_accuracy: 0.8894\n",
      "Epoch 239/1000\n",
      "214/214 [==============================] - 1s 6ms/step - loss: 0.2537 - accuracy: 0.8952 - val_loss: 0.2667 - val_accuracy: 0.8902\n",
      "Epoch 240/1000\n",
      "214/214 [==============================] - 1s 6ms/step - loss: 0.2534 - accuracy: 0.8951 - val_loss: 0.2668 - val_accuracy: 0.8906\n",
      "Epoch 241/1000\n",
      "214/214 [==============================] - 1s 6ms/step - loss: 0.2538 - accuracy: 0.8953 - val_loss: 0.2666 - val_accuracy: 0.8908\n",
      "Epoch 242/1000\n",
      "214/214 [==============================] - 1s 6ms/step - loss: 0.2538 - accuracy: 0.8949 - val_loss: 0.2663 - val_accuracy: 0.8895\n",
      "Epoch 243/1000\n",
      "214/214 [==============================] - 1s 6ms/step - loss: 0.2531 - accuracy: 0.8956 - val_loss: 0.2666 - val_accuracy: 0.8901\n",
      "Epoch 244/1000\n",
      "214/214 [==============================] - 1s 6ms/step - loss: 0.2536 - accuracy: 0.8955 - val_loss: 0.2668 - val_accuracy: 0.8906\n",
      "Epoch 245/1000\n",
      "214/214 [==============================] - 1s 6ms/step - loss: 0.2530 - accuracy: 0.8956 - val_loss: 0.2676 - val_accuracy: 0.8889\n",
      "Epoch 246/1000\n",
      "214/214 [==============================] - 1s 6ms/step - loss: 0.2527 - accuracy: 0.8956 - val_loss: 0.2661 - val_accuracy: 0.8907\n",
      "Epoch 247/1000\n",
      "214/214 [==============================] - 1s 6ms/step - loss: 0.2535 - accuracy: 0.8954 - val_loss: 0.2668 - val_accuracy: 0.8901\n",
      "Epoch 248/1000\n",
      "214/214 [==============================] - 1s 6ms/step - loss: 0.2533 - accuracy: 0.8954 - val_loss: 0.2654 - val_accuracy: 0.8911\n",
      "Epoch 249/1000\n",
      "214/214 [==============================] - 1s 6ms/step - loss: 0.2528 - accuracy: 0.8957 - val_loss: 0.2665 - val_accuracy: 0.8901\n",
      "Epoch 250/1000\n",
      "214/214 [==============================] - 1s 6ms/step - loss: 0.2528 - accuracy: 0.8955 - val_loss: 0.2661 - val_accuracy: 0.8907\n",
      "Epoch 251/1000\n",
      "214/214 [==============================] - 1s 6ms/step - loss: 0.2530 - accuracy: 0.8955 - val_loss: 0.2673 - val_accuracy: 0.8896\n",
      "Epoch 252/1000\n",
      "214/214 [==============================] - 1s 6ms/step - loss: 0.2526 - accuracy: 0.8958 - val_loss: 0.2673 - val_accuracy: 0.8897\n",
      "Epoch 253/1000\n",
      "214/214 [==============================] - 1s 6ms/step - loss: 0.2531 - accuracy: 0.8953 - val_loss: 0.2668 - val_accuracy: 0.8902\n",
      "Epoch 254/1000\n",
      "214/214 [==============================] - 1s 6ms/step - loss: 0.2527 - accuracy: 0.8958 - val_loss: 0.2680 - val_accuracy: 0.8899\n",
      "Epoch 255/1000\n",
      "214/214 [==============================] - 1s 6ms/step - loss: 0.2529 - accuracy: 0.8958 - val_loss: 0.2664 - val_accuracy: 0.8913\n",
      "Epoch 256/1000\n",
      "214/214 [==============================] - 1s 6ms/step - loss: 0.2526 - accuracy: 0.8955 - val_loss: 0.2670 - val_accuracy: 0.8893\n",
      "Epoch 257/1000\n",
      "214/214 [==============================] - 1s 6ms/step - loss: 0.2523 - accuracy: 0.8960 - val_loss: 0.2667 - val_accuracy: 0.8907\n",
      "Epoch 258/1000\n",
      "214/214 [==============================] - 1s 6ms/step - loss: 0.2529 - accuracy: 0.8957 - val_loss: 0.2673 - val_accuracy: 0.8900\n",
      "Epoch 259/1000\n",
      "214/214 [==============================] - 1s 6ms/step - loss: 0.2527 - accuracy: 0.8957 - val_loss: 0.2661 - val_accuracy: 0.8907\n",
      "Epoch 260/1000\n",
      "214/214 [==============================] - 1s 6ms/step - loss: 0.2524 - accuracy: 0.8959 - val_loss: 0.2669 - val_accuracy: 0.8905\n",
      "Epoch 261/1000\n",
      "214/214 [==============================] - 1s 6ms/step - loss: 0.2527 - accuracy: 0.8959 - val_loss: 0.2654 - val_accuracy: 0.8906\n",
      "Epoch 262/1000\n",
      "214/214 [==============================] - 1s 6ms/step - loss: 0.2526 - accuracy: 0.8958 - val_loss: 0.2675 - val_accuracy: 0.8898\n",
      "Epoch 263/1000\n",
      "214/214 [==============================] - 1s 6ms/step - loss: 0.2522 - accuracy: 0.8960 - val_loss: 0.2679 - val_accuracy: 0.8894\n",
      "Epoch 264/1000\n",
      "214/214 [==============================] - 1s 6ms/step - loss: 0.2524 - accuracy: 0.8960 - val_loss: 0.2684 - val_accuracy: 0.8898\n",
      "Epoch 265/1000\n",
      "214/214 [==============================] - 1s 6ms/step - loss: 0.2525 - accuracy: 0.8958 - val_loss: 0.2664 - val_accuracy: 0.8912\n",
      "Epoch 266/1000\n",
      "214/214 [==============================] - 1s 6ms/step - loss: 0.2520 - accuracy: 0.8960 - val_loss: 0.2663 - val_accuracy: 0.8908\n",
      "Epoch 267/1000\n",
      "214/214 [==============================] - 1s 6ms/step - loss: 0.2519 - accuracy: 0.8960 - val_loss: 0.2678 - val_accuracy: 0.8902\n",
      "Epoch 268/1000\n",
      "214/214 [==============================] - 1s 6ms/step - loss: 0.2521 - accuracy: 0.8961 - val_loss: 0.2658 - val_accuracy: 0.8904\n",
      "Epoch 269/1000\n",
      "214/214 [==============================] - 1s 6ms/step - loss: 0.2518 - accuracy: 0.8961 - val_loss: 0.2650 - val_accuracy: 0.8908\n",
      "Epoch 270/1000\n",
      "214/214 [==============================] - 1s 6ms/step - loss: 0.2522 - accuracy: 0.8958 - val_loss: 0.2665 - val_accuracy: 0.8903\n",
      "Epoch 271/1000\n",
      "214/214 [==============================] - 1s 6ms/step - loss: 0.2522 - accuracy: 0.8958 - val_loss: 0.2668 - val_accuracy: 0.8904\n",
      "Epoch 272/1000\n",
      "214/214 [==============================] - 1s 6ms/step - loss: 0.2517 - accuracy: 0.8962 - val_loss: 0.2679 - val_accuracy: 0.8902\n",
      "Epoch 273/1000\n",
      "214/214 [==============================] - 1s 6ms/step - loss: 0.2520 - accuracy: 0.8962 - val_loss: 0.2667 - val_accuracy: 0.8907\n",
      "Epoch 274/1000\n",
      "214/214 [==============================] - 1s 6ms/step - loss: 0.2521 - accuracy: 0.8960 - val_loss: 0.2660 - val_accuracy: 0.8895\n",
      "Epoch 275/1000\n",
      "214/214 [==============================] - 1s 6ms/step - loss: 0.2516 - accuracy: 0.8964 - val_loss: 0.2662 - val_accuracy: 0.8918\n",
      "Epoch 276/1000\n",
      "214/214 [==============================] - 1s 6ms/step - loss: 0.2521 - accuracy: 0.8959 - val_loss: 0.2662 - val_accuracy: 0.8905\n",
      "Epoch 277/1000\n",
      "214/214 [==============================] - 1s 6ms/step - loss: 0.2520 - accuracy: 0.8959 - val_loss: 0.2660 - val_accuracy: 0.8904\n",
      "Epoch 278/1000\n",
      "214/214 [==============================] - 1s 6ms/step - loss: 0.2516 - accuracy: 0.8961 - val_loss: 0.2654 - val_accuracy: 0.8908\n",
      "Epoch 279/1000\n",
      "214/214 [==============================] - 1s 6ms/step - loss: 0.2513 - accuracy: 0.8964 - val_loss: 0.2670 - val_accuracy: 0.8908\n",
      "Epoch 280/1000\n",
      "214/214 [==============================] - 1s 6ms/step - loss: 0.2514 - accuracy: 0.8964 - val_loss: 0.2671 - val_accuracy: 0.8905\n",
      "Epoch 281/1000\n",
      "214/214 [==============================] - 1s 6ms/step - loss: 0.2513 - accuracy: 0.8963 - val_loss: 0.2669 - val_accuracy: 0.8905\n",
      "Epoch 282/1000\n",
      "214/214 [==============================] - 1s 6ms/step - loss: 0.2517 - accuracy: 0.8963 - val_loss: 0.2673 - val_accuracy: 0.8900\n",
      "Epoch 283/1000\n",
      "214/214 [==============================] - 1s 6ms/step - loss: 0.2513 - accuracy: 0.8963 - val_loss: 0.2662 - val_accuracy: 0.8907\n",
      "Epoch 284/1000\n",
      "214/214 [==============================] - 1s 6ms/step - loss: 0.2512 - accuracy: 0.8964 - val_loss: 0.2655 - val_accuracy: 0.8906\n",
      "Epoch 285/1000\n",
      "214/214 [==============================] - 1s 6ms/step - loss: 0.2514 - accuracy: 0.8964 - val_loss: 0.2663 - val_accuracy: 0.8905\n",
      "Epoch 286/1000\n",
      "214/214 [==============================] - 1s 6ms/step - loss: 0.2511 - accuracy: 0.8966 - val_loss: 0.2666 - val_accuracy: 0.8910\n",
      "Epoch 287/1000\n",
      "214/214 [==============================] - 1s 6ms/step - loss: 0.2515 - accuracy: 0.8961 - val_loss: 0.2663 - val_accuracy: 0.8908\n",
      "Epoch 288/1000\n",
      "214/214 [==============================] - 1s 6ms/step - loss: 0.2512 - accuracy: 0.8963 - val_loss: 0.2673 - val_accuracy: 0.8896\n",
      "Epoch 289/1000\n",
      "214/214 [==============================] - 1s 6ms/step - loss: 0.2510 - accuracy: 0.8964 - val_loss: 0.2663 - val_accuracy: 0.8910\n",
      "Epoch 290/1000\n",
      "214/214 [==============================] - 1s 6ms/step - loss: 0.2511 - accuracy: 0.8963 - val_loss: 0.2658 - val_accuracy: 0.8907\n",
      "Epoch 291/1000\n",
      "214/214 [==============================] - 1s 6ms/step - loss: 0.2507 - accuracy: 0.8967 - val_loss: 0.2665 - val_accuracy: 0.8903\n",
      "Epoch 292/1000\n",
      "214/214 [==============================] - 1s 6ms/step - loss: 0.2514 - accuracy: 0.8963 - val_loss: 0.2660 - val_accuracy: 0.8908\n",
      "Epoch 293/1000\n",
      "214/214 [==============================] - 1s 6ms/step - loss: 0.2514 - accuracy: 0.8964 - val_loss: 0.2656 - val_accuracy: 0.8908\n",
      "Epoch 294/1000\n",
      "214/214 [==============================] - 1s 6ms/step - loss: 0.2507 - accuracy: 0.8967 - val_loss: 0.2693 - val_accuracy: 0.8902\n",
      "Epoch 295/1000\n",
      "214/214 [==============================] - 1s 6ms/step - loss: 0.2506 - accuracy: 0.8964 - val_loss: 0.2652 - val_accuracy: 0.8911\n",
      "Epoch 296/1000\n",
      "214/214 [==============================] - 1s 6ms/step - loss: 0.2508 - accuracy: 0.8965 - val_loss: 0.2655 - val_accuracy: 0.8911\n",
      "Epoch 297/1000\n",
      "214/214 [==============================] - 1s 6ms/step - loss: 0.2514 - accuracy: 0.8964 - val_loss: 0.2661 - val_accuracy: 0.8909\n",
      "Epoch 298/1000\n",
      "214/214 [==============================] - 1s 6ms/step - loss: 0.2509 - accuracy: 0.8963 - val_loss: 0.2659 - val_accuracy: 0.8911\n",
      "Epoch 299/1000\n",
      "214/214 [==============================] - 1s 6ms/step - loss: 0.2508 - accuracy: 0.8966 - val_loss: 0.2656 - val_accuracy: 0.8907\n",
      "Epoch 299: early stopping\n"
     ]
    }
   ],
   "source": [
    "import eli5\n",
    "from eli5.sklearn import PermutationImportance\n",
    "from keras.wrappers.scikit_learn import KerasClassifier, KerasRegressor\n",
    "\n",
    "estimator = KerasClassifier(build_fn=mymodel, epochs=1000, batch_size=2000, validation_split=0.1, verbose=1, shuffle=True)\n",
    "#estimator = KerasRegressor(build_fn=mymodel, epochs=normal_epochs, batch_size=normal_batch_size, validation_split=0.1, verbose=1)\n",
    "history = estimator.fit(flat_df[variablesTrain[:-1]],flat_df['y'], callbacks=[callbacks.EarlyStopping(monitor='val_loss',patience=30,verbose=1)])\n",
    "\n"
   ]
  },
  {
   "cell_type": "code",
   "execution_count": 46,
   "metadata": {},
   "outputs": [
    {
     "name": "stdout",
     "output_type": "stream",
     "text": [
      "238/238 [==============================] - 1s 3ms/step - loss: 0.2510 - accuracy: 0.8962\n",
      "238/238 [==============================] - 1s 3ms/step - loss: 0.8960 - accuracy: 0.7609\n",
      "238/238 [==============================] - 1s 3ms/step - loss: 0.9888 - accuracy: 0.7190\n",
      "238/238 [==============================] - 1s 3ms/step - loss: 0.5055 - accuracy: 0.7982\n",
      "238/238 [==============================] - 1s 3ms/step - loss: 0.4625 - accuracy: 0.8354\n",
      "238/238 [==============================] - 1s 3ms/step - loss: 0.8151 - accuracy: 0.7621\n",
      "238/238 [==============================] - 1s 3ms/step - loss: 0.2986 - accuracy: 0.8806\n",
      "238/238 [==============================] - 1s 3ms/step - loss: 0.2935 - accuracy: 0.8809\n",
      "238/238 [==============================] - 1s 3ms/step - loss: 0.2773 - accuracy: 0.8899\n",
      "238/238 [==============================] - 1s 3ms/step - loss: 0.2951 - accuracy: 0.8784\n",
      "238/238 [==============================] - 1s 3ms/step - loss: 0.2841 - accuracy: 0.8833\n",
      "238/238 [==============================] - 1s 3ms/step - loss: 0.3137 - accuracy: 0.8763\n",
      "238/238 [==============================] - 1s 3ms/step - loss: 0.3205 - accuracy: 0.8729\n",
      "238/238 [==============================] - 1s 3ms/step - loss: 0.3289 - accuracy: 0.8756\n",
      "238/238 [==============================] - 1s 3ms/step - loss: 0.2773 - accuracy: 0.8899\n",
      "238/238 [==============================] - 1s 3ms/step - loss: 0.9006 - accuracy: 0.7609\n",
      "238/238 [==============================] - 1s 3ms/step - loss: 0.9893 - accuracy: 0.7188\n",
      "238/238 [==============================] - 1s 3ms/step - loss: 0.5080 - accuracy: 0.7974\n",
      "238/238 [==============================] - 1s 3ms/step - loss: 0.4603 - accuracy: 0.8362\n",
      "238/238 [==============================] - 1s 3ms/step - loss: 0.8149 - accuracy: 0.7625\n",
      "238/238 [==============================] - 1s 3ms/step - loss: 0.2986 - accuracy: 0.8810\n",
      "238/238 [==============================] - 1s 3ms/step - loss: 0.2930 - accuracy: 0.8807\n",
      "238/238 [==============================] - 1s 3ms/step - loss: 0.2776 - accuracy: 0.8899\n",
      "238/238 [==============================] - 1s 3ms/step - loss: 0.2956 - accuracy: 0.8783\n",
      "238/238 [==============================] - 1s 3ms/step - loss: 0.2838 - accuracy: 0.8831\n",
      "238/238 [==============================] - 1s 3ms/step - loss: 0.3145 - accuracy: 0.8762\n",
      "238/238 [==============================] - 1s 3ms/step - loss: 0.3196 - accuracy: 0.8733\n",
      "238/238 [==============================] - 1s 3ms/step - loss: 0.3290 - accuracy: 0.8757\n",
      "238/238 [==============================] - 1s 3ms/step - loss: 0.2774 - accuracy: 0.8899\n",
      "238/238 [==============================] - 1s 3ms/step - loss: 0.9006 - accuracy: 0.7604\n",
      "238/238 [==============================] - 1s 3ms/step - loss: 0.9936 - accuracy: 0.7180\n",
      "238/238 [==============================] - 1s 3ms/step - loss: 0.5061 - accuracy: 0.7980\n",
      "238/238 [==============================] - 1s 3ms/step - loss: 0.4609 - accuracy: 0.8356\n",
      "238/238 [==============================] - 1s 3ms/step - loss: 0.8130 - accuracy: 0.7624\n",
      "238/238 [==============================] - 1s 3ms/step - loss: 0.2991 - accuracy: 0.8807\n",
      "238/238 [==============================] - 1s 3ms/step - loss: 0.2929 - accuracy: 0.8806\n",
      "238/238 [==============================] - 1s 3ms/step - loss: 0.2782 - accuracy: 0.8897\n",
      "238/238 [==============================] - 1s 3ms/step - loss: 0.2952 - accuracy: 0.8784\n",
      "238/238 [==============================] - 1s 3ms/step - loss: 0.2839 - accuracy: 0.8829\n",
      "238/238 [==============================] - 1s 3ms/step - loss: 0.3139 - accuracy: 0.8762\n",
      "238/238 [==============================] - 1s 3ms/step - loss: 0.3205 - accuracy: 0.8731\n",
      "238/238 [==============================] - 1s 3ms/step - loss: 0.3296 - accuracy: 0.8754\n",
      "238/238 [==============================] - 1s 3ms/step - loss: 0.2770 - accuracy: 0.8898\n",
      "238/238 [==============================] - 1s 3ms/step - loss: 0.8999 - accuracy: 0.7601\n",
      "238/238 [==============================] - 1s 3ms/step - loss: 0.9940 - accuracy: 0.7180\n",
      "238/238 [==============================] - 1s 3ms/step - loss: 0.5057 - accuracy: 0.7980\n",
      "238/238 [==============================] - 1s 3ms/step - loss: 0.4635 - accuracy: 0.8353\n",
      "238/238 [==============================] - 1s 3ms/step - loss: 0.8113 - accuracy: 0.7625\n",
      "238/238 [==============================] - 1s 3ms/step - loss: 0.2990 - accuracy: 0.8807\n",
      "238/238 [==============================] - 1s 3ms/step - loss: 0.2928 - accuracy: 0.8808\n",
      "238/238 [==============================] - 1s 3ms/step - loss: 0.2779 - accuracy: 0.8899\n",
      "238/238 [==============================] - 1s 3ms/step - loss: 0.2957 - accuracy: 0.8781\n",
      "238/238 [==============================] - 1s 3ms/step - loss: 0.2835 - accuracy: 0.8830\n",
      "238/238 [==============================] - 1s 3ms/step - loss: 0.3143 - accuracy: 0.8763\n",
      "238/238 [==============================] - 1s 3ms/step - loss: 0.3201 - accuracy: 0.8732\n",
      "238/238 [==============================] - 1s 3ms/step - loss: 0.3286 - accuracy: 0.8759\n",
      "238/238 [==============================] - 1s 3ms/step - loss: 0.2769 - accuracy: 0.8900\n",
      "238/238 [==============================] - 1s 3ms/step - loss: 0.8961 - accuracy: 0.7612\n",
      "238/238 [==============================] - 1s 3ms/step - loss: 0.9918 - accuracy: 0.7180\n",
      "238/238 [==============================] - 1s 3ms/step - loss: 0.5063 - accuracy: 0.7978\n",
      "238/238 [==============================] - 1s 3ms/step - loss: 0.4621 - accuracy: 0.8352\n",
      "238/238 [==============================] - 1s 3ms/step - loss: 0.8120 - accuracy: 0.7633\n",
      "238/238 [==============================] - 1s 3ms/step - loss: 0.2990 - accuracy: 0.8811\n",
      "238/238 [==============================] - 1s 3ms/step - loss: 0.2933 - accuracy: 0.8803\n",
      "238/238 [==============================] - 1s 3ms/step - loss: 0.2778 - accuracy: 0.8899\n",
      "238/238 [==============================] - 1s 3ms/step - loss: 0.2955 - accuracy: 0.8782\n",
      "238/238 [==============================] - 1s 3ms/step - loss: 0.2834 - accuracy: 0.8833\n",
      "238/238 [==============================] - 1s 3ms/step - loss: 0.3136 - accuracy: 0.8764\n",
      "238/238 [==============================] - 1s 3ms/step - loss: 0.3207 - accuracy: 0.8730\n",
      "238/238 [==============================] - 1s 3ms/step - loss: 0.3293 - accuracy: 0.8757\n",
      "238/238 [==============================] - 1s 3ms/step - loss: 0.2771 - accuracy: 0.8898\n"
     ]
    }
   ],
   "source": [
    "perm = PermutationImportance(estimator, random_state=1).fit(flat_df[variablesTrain[:-1]], flat_df['y'])"
   ]
  },
  {
   "cell_type": "code",
   "execution_count": 47,
   "metadata": {},
   "outputs": [
    {
     "data": {
      "image/png": "[encoded data removed]",
      "text/plain": [
       "<Figure size 432x288 with 1 Axes>"
      ]
     },
     "metadata": {
      "needs_background": "light"
     },
     "output_type": "display_data"
    }
   ],
   "source": [
    "forest_importances = pd.Series(perm.feature_importances_, index=variablesTrain[:-1])\n",
    "\n",
    "fig, ax = plt.subplots()\n",
    "forest_importances.plot.bar(yerr=perm.feature_importances_std_, ax=ax)\n",
    "ax.set_title(\"Feature importances using permutation on full model\")\n",
    "ax.set_ylabel(\"Mean accuracy decrease\")\n",
    "fig.tight_layout()\n",
    "plt.savefig('Plots_presentation_PlusbeamHalo/importance_NN.png', dpi = 600)\n",
    "plt.show()\n"
   ]
  },
  {
   "cell_type": "code",
   "execution_count": null,
   "metadata": {},
   "outputs": [],
   "source": []
  }
 ],
 "metadata": {
  "@webio": {
   "lastCommId": null,
   "lastKernelId": null
  },
  "kernelspec": {
   "display_name": "Python 3",
   "language": "python",
   "name": "python3"
  },
  "language_info": {
   "codemirror_mode": {
    "name": "ipython",
    "version": 3
   },
   "file_extension": ".py",
   "mimetype": "text/x-python",
   "name": "python",
   "nbconvert_exporter": "python",
   "pygments_lexer": "ipython3",
   "version": "3.11.9"
  }
 },
 "nbformat": 4,
 "nbformat_minor": 2
}
