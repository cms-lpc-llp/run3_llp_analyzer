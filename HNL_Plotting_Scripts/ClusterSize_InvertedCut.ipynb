{
 "cells": [
  {
   "cell_type": "code",
   "execution_count": 1,
   "id": "2946bd38",
   "metadata": {},
   "outputs": [
    {
     "name": "stdout",
     "output_type": "stream",
     "text": [
      "Welcome to JupyROOT 6.30/07\n"
     ]
    },
    {
     "name": "stderr",
     "output_type": "stream",
     "text": [
      "/cvmfs/cms.cern.ch/el9_amd64_gcc12/lcg/root/6.30.07-024df6516c17fd2edef848a927a788f1/lib/ROOT/_facade.py:154: FutureWarning: In version 2025.1.0 (target date: 2024-12-31 11:59:59-06:00), this will be an error.\n",
      "To raise these warnings as errors (and get stack traces to find out where they're called), run\n",
      "    import warnings\n",
      "    warnings.filterwarnings(\"error\", module=\"coffea.*\")\n",
      "after the first `import coffea` or use `@pytest.mark.filterwarnings(\"error:::coffea.*\")` in pytest.\n",
      "Issue: coffea.nanoevents.methods.vector will be removed and replaced with scikit-hep vector. Nanoevents schemas internal to coffea will be migrated. Otherwise please consider using that package!.\n",
      "  return _orig_ihook(name, *args, **kwds)\n",
      "/cvmfs/cms.cern.ch/el8_amd64_gcc12/external/py3-numpy/1.24.3-0831476b9e4ddf0b4b9eb1f4c971c0d1/lib/python3.9/site-packages/numpy/core/getlimits.py:518: UserWarning: The value of the smallest subnormal for <class 'numpy.float32'> type is zero.\n",
      "  setattr(self, word, getattr(machar, word).flat[0])\n",
      "/cvmfs/cms.cern.ch/el8_amd64_gcc12/external/py3-numpy/1.24.3-0831476b9e4ddf0b4b9eb1f4c971c0d1/lib/python3.9/site-packages/numpy/core/getlimits.py:89: UserWarning: The value of the smallest subnormal for <class 'numpy.float32'> type is zero.\n",
      "  return self._float_to_str(self.smallest_subnormal)\n",
      "/cvmfs/cms.cern.ch/el8_amd64_gcc12/external/py3-numpy/1.24.3-0831476b9e4ddf0b4b9eb1f4c971c0d1/lib/python3.9/site-packages/numpy/core/getlimits.py:518: UserWarning: The value of the smallest subnormal for <class 'numpy.float64'> type is zero.\n",
      "  setattr(self, word, getattr(machar, word).flat[0])\n",
      "/cvmfs/cms.cern.ch/el8_amd64_gcc12/external/py3-numpy/1.24.3-0831476b9e4ddf0b4b9eb1f4c971c0d1/lib/python3.9/site-packages/numpy/core/getlimits.py:89: UserWarning: The value of the smallest subnormal for <class 'numpy.float64'> type is zero.\n",
      "  return self._float_to_str(self.smallest_subnormal)\n"
     ]
    }
   ],
   "source": [
    "import sys\n",
    "import importlib\n",
    "import numpy as np\n",
    "import pandas as pd\n",
    "import uproot\n",
    "import matplotlib.pyplot as plt\n",
    "import sys\n",
    "sys.path.insert(0,\"../\")\n",
    "import mplhep as hep\n",
    "import pickle\n",
    "import glob\n",
    "import ROOT\n",
    "import coffea\n",
    "import awkward as ak\n",
    "from coffea import processor\n",
    "from coffea.nanoevents.methods import vector\n",
    "import dask_awkward as dak\n",
    "import hist"
   ]
  },
  {
   "cell_type": "code",
   "execution_count": 2,
   "id": "e6b7c6ee",
   "metadata": {},
   "outputs": [],
   "source": [
    "sys.path.insert(0,\"../python/HNL_Plotting_HelperFunctions\")\n",
    "import MuonSystemReader\n",
    "import HNL_Processor\n"
   ]
  },
  {
   "cell_type": "code",
   "execution_count": 3,
   "id": "7cdce17e",
   "metadata": {},
   "outputs": [],
   "source": [
    "HNL_2GeV_10ctau_path = \"root://cmseos.fnal.gov//store/group/lpclonglived/amalbert/HNL_Tau_Search/signal_displacedHNL/HNL_tau_mN_2_ctau_1000/normalized/HNL_tau_mN_2_ctau_1000.root\"\n",
    "signal_events  = MuonSystemReader.loadTree_nanoFactory(HNL_2GeV_10ctau_path)"
   ]
  },
  {
   "cell_type": "code",
   "execution_count": null,
   "id": "25e967e0",
   "metadata": {},
   "outputs": [],
   "source": [
    "### NOTE: for this sample in data, the tau energy branch is messed up ###\n",
    "\n",
    "\n",
    "\n",
    "\n",
    "\n",
    "\n",
    "data_path_base = \"root://cmseos.fnal.gov//store/group/lpclonglived/amalbert/HNL_Tau_Search/2024_Data_noEtaCut/\"\n",
    "\n",
    "data_samples = [\"Muon0-Run2024B-PromptReco-v1\",\n",
    "    \"Muon0-Run2024C-PromptReco-v1\",\n",
    "    \"Muon0-Run2024D-PromptReco-v1\",\n",
    "    \"Muon0-Run2024E-PromptReco-v1\",\n",
    "    \"Muon0-Run2024E-PromptReco-v2\",\n",
    "    \"Muon0-Run2024F-PromptReco-v1\",\n",
    "    \"Muon0-Run2024G-PromptReco-v1\",\n",
    "    \"Muon0-Run2024H-PromptReco-v1\",\n",
    "    \"Muon0-Run2024I-PromptReco-v1\",\n",
    "    \"Muon0-Run2024I-PromptReco-v2\",\n",
    "    \"Muon1-Run2024B-PromptReco-v1\",\n",
    "    \"Muon1-Run2024C-PromptReco-v1\",\n",
    "    \"Muon1-Run2024D-PromptReco-v1\",\n",
    "    \"Muon1-Run2024E-PromptReco-v1\",\n",
    "    \"Muon1-Run2024E-PromptReco-v2\",\n",
    "    \"Muon1-Run2024F-PromptReco-v1\",\n",
    "    \"Muon1-Run2024G-PromptReco-v1\",\n",
    "    \"Muon1-Run2024H-PromptReco-v1\",\n",
    "    \"Muon1-Run2024I-PromptReco-v1\",\n",
    "    \"Muon1-Run2024I-PromptReco-v2\"\n",
    "    ]\n",
    "\n",
    "data_events_list = [data_path_base+sample+\"/normalized/\"+sample+\"_goodLumi.root\" for sample in data_samples]\n",
    "\n"
   ]
  },
  {
   "cell_type": "code",
   "execution_count": 6,
   "id": "52e44b61",
   "metadata": {},
   "outputs": [
    {
     "name": "stdout",
     "output_type": "stream",
     "text": [
      "root://cmseos.fnal.gov//store/group/lpclonglived/amalbert/HNL_Tau_Search/2024_Data_noEtaCut/Muon0-Run2024B-PromptReco-v1/normalized/Muon0-Run2024B-PromptReco-v1_goodLumi.root\n",
      "['CSC_Cluster_Size']\n",
      "Generated Masks, Starting to Fill Event-Level Histograms\n",
      "filling reco taus hists\n",
      "root://cmseos.fnal.gov//store/group/lpclonglived/amalbert/HNL_Tau_Search/2024_Data_noEtaCut/Muon0-Run2024C-PromptReco-v1/normalized/Muon0-Run2024C-PromptReco-v1_goodLumi.root\n",
      "['CSC_Cluster_Size']\n",
      "Generated Masks, Starting to Fill Event-Level Histograms\n",
      "filling reco taus hists\n",
      "root://cmseos.fnal.gov//store/group/lpclonglived/amalbert/HNL_Tau_Search/2024_Data_noEtaCut/Muon0-Run2024D-PromptReco-v1/normalized/Muon0-Run2024D-PromptReco-v1_goodLumi.root\n",
      "['CSC_Cluster_Size']\n",
      "Generated Masks, Starting to Fill Event-Level Histograms\n",
      "filling reco taus hists\n",
      "root://cmseos.fnal.gov//store/group/lpclonglived/amalbert/HNL_Tau_Search/2024_Data_noEtaCut/Muon0-Run2024E-PromptReco-v1/normalized/Muon0-Run2024E-PromptReco-v1_goodLumi.root\n",
      "['CSC_Cluster_Size']\n",
      "Generated Masks, Starting to Fill Event-Level Histograms\n",
      "filling reco taus hists\n",
      "root://cmseos.fnal.gov//store/group/lpclonglived/amalbert/HNL_Tau_Search/2024_Data_noEtaCut/Muon0-Run2024E-PromptReco-v2/normalized/Muon0-Run2024E-PromptReco-v2_goodLumi.root\n",
      "['CSC_Cluster_Size']\n",
      "Generated Masks, Starting to Fill Event-Level Histograms\n",
      "filling reco taus hists\n",
      "root://cmseos.fnal.gov//store/group/lpclonglived/amalbert/HNL_Tau_Search/2024_Data_noEtaCut/Muon0-Run2024F-PromptReco-v1/normalized/Muon0-Run2024F-PromptReco-v1_goodLumi.root\n",
      "['CSC_Cluster_Size']\n",
      "Generated Masks, Starting to Fill Event-Level Histograms\n",
      "filling reco taus hists\n"
     ]
    },
    {
     "ename": "KeyboardInterrupt",
     "evalue": "",
     "output_type": "error",
     "traceback": [
      "\u001b[0;31m---------------------------------------------------------------------------\u001b[0m",
      "\u001b[0;31mKeyboardInterrupt\u001b[0m                         Traceback (most recent call last)",
      "Cell \u001b[0;32mIn[6], line 6\u001b[0m\n\u001b[1;32m      4\u001b[0m data_events  \u001b[38;5;241m=\u001b[39m MuonSystemReader\u001b[38;5;241m.\u001b[39mloadTree_nanoFactory(sample)\n\u001b[1;32m      5\u001b[0m processor_data \u001b[38;5;241m=\u001b[39m HNL_Processor\u001b[38;5;241m.\u001b[39mHNL_Processor()\n\u001b[0;32m----> 6\u001b[0m outputs\u001b[38;5;241m.\u001b[39mappend(\u001b[43mprocessor_data\u001b[49m\u001b[38;5;241;43m.\u001b[39;49m\u001b[43mprocess\u001b[49m\u001b[43m(\u001b[49m\u001b[43mdata_events\u001b[49m\u001b[43m,\u001b[49m\u001b[43m \u001b[49m\u001b[43mhists_to_process\u001b[49m\u001b[43m \u001b[49m\u001b[38;5;241;43m=\u001b[39;49m\u001b[43m \u001b[49m\u001b[43m[\u001b[49m\u001b[38;5;124;43m\"\u001b[39;49m\u001b[38;5;124;43mCSC_Cluster_Size\u001b[39;49m\u001b[38;5;124;43m\"\u001b[39;49m\u001b[43m]\u001b[49m\u001b[43m)\u001b[49m)\n",
      "File \u001b[0;32m/uscms_data/d3/amalbert/el9_work/CMSSW_14_1_0_pre4/src/run3_llp_analyzer/HNL_Plotting_Scripts/../python/HNL_Plotting_HelperFunctions/HNL_Processor.py:427\u001b[0m, in \u001b[0;36mHNL_Processor.process\u001b[0;34m(self, events, hists_to_process, fillGenHists, tauID)\u001b[0m\n\u001b[1;32m    424\u001b[0m tau_cscCluster_eta \u001b[38;5;241m=\u001b[39m ak\u001b[38;5;241m.\u001b[39mflatten(ak\u001b[38;5;241m.\u001b[39mflatten(ak\u001b[38;5;241m.\u001b[39mcartesian([events\u001b[38;5;241m.\u001b[39mtauEta[total_mask_tau], events\u001b[38;5;241m.\u001b[39mcscRechitClusterEta[total_mask_cscCluster]], nested\u001b[38;5;241m=\u001b[39m\u001b[38;5;28;01mTrue\u001b[39;00m)))\n\u001b[1;32m    426\u001b[0m tau_cscCluster_phi \u001b[38;5;241m=\u001b[39m ak\u001b[38;5;241m.\u001b[39mflatten(ak\u001b[38;5;241m.\u001b[39mflatten(ak\u001b[38;5;241m.\u001b[39mcartesian([events\u001b[38;5;241m.\u001b[39mtauPhi[total_mask_tau], events\u001b[38;5;241m.\u001b[39mcscRechitClusterPhi[total_mask_cscCluster]], nested\u001b[38;5;241m=\u001b[39m\u001b[38;5;28;01mTrue\u001b[39;00m)))\n\u001b[0;32m--> 427\u001b[0m tau_cscCluster_phi_diffs \u001b[38;5;241m=\u001b[39m \u001b[43mdeltaPhi\u001b[49m\u001b[43m(\u001b[49m\u001b[43mtau_cscCluster_phi\u001b[49m\u001b[43m[\u001b[49m\u001b[38;5;124;43m\"\u001b[39;49m\u001b[38;5;124;43m0\u001b[39;49m\u001b[38;5;124;43m\"\u001b[39;49m\u001b[43m]\u001b[49m\u001b[38;5;241;43m-\u001b[39;49m\u001b[43mtau_cscCluster_phi\u001b[49m\u001b[43m[\u001b[49m\u001b[38;5;124;43m\"\u001b[39;49m\u001b[38;5;124;43m1\u001b[39;49m\u001b[38;5;124;43m\"\u001b[39;49m\u001b[43m]\u001b[49m\u001b[43m)\u001b[49m\n\u001b[1;32m    429\u001b[0m tau_cluster_dEta_hist\u001b[38;5;241m.\u001b[39mfill(plot\u001b[38;5;241m=\u001b[39m(tau_cscCluster_eta[\u001b[38;5;124m\"\u001b[39m\u001b[38;5;124m0\u001b[39m\u001b[38;5;124m\"\u001b[39m]\u001b[38;5;241m-\u001b[39mtau_cscCluster_eta[\u001b[38;5;124m\"\u001b[39m\u001b[38;5;124m1\u001b[39m\u001b[38;5;124m\"\u001b[39m])\u001b[38;5;241m.\u001b[39mcompute())\n\u001b[1;32m    430\u001b[0m tau_cluster_dPhi_hist\u001b[38;5;241m.\u001b[39mfill(plot\u001b[38;5;241m=\u001b[39mtau_cscCluster_phi_diffs\u001b[38;5;241m.\u001b[39mcompute())\n",
      "File \u001b[0;32m/uscms_data/d3/amalbert/el9_work/CMSSW_14_1_0_pre4/src/run3_llp_analyzer/HNL_Plotting_Scripts/../python/HNL_Plotting_HelperFunctions/HNL_Processor.py:27\u001b[0m, in \u001b[0;36mdeltaPhi\u001b[0;34m(tau_cscCluster_phi_diffs)\u001b[0m\n\u001b[1;32m     23\u001b[0m \u001b[38;5;28;01mdef\u001b[39;00m\u001b[38;5;250m \u001b[39m\u001b[38;5;21mdeltaPhi\u001b[39m(tau_cscCluster_phi_diffs):\n\u001b[1;32m     24\u001b[0m \u001b[38;5;250m    \u001b[39m\u001b[38;5;124;03m'''\u001b[39;00m\n\u001b[1;32m     25\u001b[0m \u001b[38;5;124;03m    deltaPhi returned where input array does not like in (-pi, pi) range\u001b[39;00m\n\u001b[1;32m     26\u001b[0m \u001b[38;5;124;03m    '''\u001b[39;00m\n\u001b[0;32m---> 27\u001b[0m     \u001b[38;5;28;01mwhile\u001b[39;00m(\u001b[43mak\u001b[49m\u001b[38;5;241;43m.\u001b[39;49m\u001b[43mcount_nonzero\u001b[49m\u001b[43m(\u001b[49m\u001b[43mtau_cscCluster_phi_diffs\u001b[49m\u001b[38;5;241;43m>\u001b[39;49m\u001b[43mnp\u001b[49m\u001b[38;5;241;43m.\u001b[39;49m\u001b[43mpi\u001b[49m\u001b[43m)\u001b[49m\u001b[38;5;241;43m.\u001b[39;49m\u001b[43mcompute\u001b[49m\u001b[43m(\u001b[49m\u001b[43m)\u001b[49m\u001b[38;5;241m>\u001b[39m\u001b[38;5;241m0\u001b[39m):\n\u001b[1;32m     28\u001b[0m             tau_cscCluster_phi_diffs \u001b[38;5;241m=\u001b[39m ak\u001b[38;5;241m.\u001b[39mwhere(tau_cscCluster_phi_diffs\u001b[38;5;241m<\u001b[39mnp\u001b[38;5;241m.\u001b[39mpi, tau_cscCluster_phi_diffs, tau_cscCluster_phi_diffs\u001b[38;5;241m-\u001b[39m(\u001b[38;5;241m2\u001b[39m\u001b[38;5;241m*\u001b[39mnp\u001b[38;5;241m.\u001b[39mpi))\n\u001b[1;32m     29\u001b[0m     \u001b[38;5;28;01mwhile\u001b[39;00m(ak\u001b[38;5;241m.\u001b[39mcount_nonzero(tau_cscCluster_phi_diffs\u001b[38;5;241m<\u001b[39m\u001b[38;5;241m-\u001b[39m\u001b[38;5;241m1\u001b[39m\u001b[38;5;241m*\u001b[39mnp\u001b[38;5;241m.\u001b[39mpi)\u001b[38;5;241m.\u001b[39mcompute()\u001b[38;5;241m>\u001b[39m\u001b[38;5;241m0\u001b[39m):\n",
      "File \u001b[0;32m/cvmfs/cms.cern.ch/el8_amd64_gcc12/external/py3-dask/2024.4.2-10e1f203d95f61be54d487854b8f804c/lib/python3.9/site-packages/dask/base.py:375\u001b[0m, in \u001b[0;36mDaskMethodsMixin.compute\u001b[0;34m(self, **kwargs)\u001b[0m\n\u001b[1;32m    351\u001b[0m \u001b[38;5;28;01mdef\u001b[39;00m\u001b[38;5;250m \u001b[39m\u001b[38;5;21mcompute\u001b[39m(\u001b[38;5;28mself\u001b[39m, \u001b[38;5;241m*\u001b[39m\u001b[38;5;241m*\u001b[39mkwargs):\n\u001b[1;32m    352\u001b[0m \u001b[38;5;250m    \u001b[39m\u001b[38;5;124;03m\"\"\"Compute this dask collection\u001b[39;00m\n\u001b[1;32m    353\u001b[0m \n\u001b[1;32m    354\u001b[0m \u001b[38;5;124;03m    This turns a lazy Dask collection into its in-memory equivalent.\u001b[39;00m\n\u001b[0;32m   (...)\u001b[0m\n\u001b[1;32m    373\u001b[0m \u001b[38;5;124;03m    dask.compute\u001b[39;00m\n\u001b[1;32m    374\u001b[0m \u001b[38;5;124;03m    \"\"\"\u001b[39;00m\n\u001b[0;32m--> 375\u001b[0m     (result,) \u001b[38;5;241m=\u001b[39m \u001b[43mcompute\u001b[49m\u001b[43m(\u001b[49m\u001b[38;5;28;43mself\u001b[39;49m\u001b[43m,\u001b[49m\u001b[43m \u001b[49m\u001b[43mtraverse\u001b[49m\u001b[38;5;241;43m=\u001b[39;49m\u001b[38;5;28;43;01mFalse\u001b[39;49;00m\u001b[43m,\u001b[49m\u001b[43m \u001b[49m\u001b[38;5;241;43m*\u001b[39;49m\u001b[38;5;241;43m*\u001b[39;49m\u001b[43mkwargs\u001b[49m\u001b[43m)\u001b[49m\n\u001b[1;32m    376\u001b[0m     \u001b[38;5;28;01mreturn\u001b[39;00m result\n",
      "File \u001b[0;32m/cvmfs/cms.cern.ch/el8_amd64_gcc12/external/py3-dask/2024.4.2-10e1f203d95f61be54d487854b8f804c/lib/python3.9/site-packages/dask/base.py:661\u001b[0m, in \u001b[0;36mcompute\u001b[0;34m(traverse, optimize_graph, scheduler, get, *args, **kwargs)\u001b[0m\n\u001b[1;32m    658\u001b[0m     postcomputes\u001b[38;5;241m.\u001b[39mappend(x\u001b[38;5;241m.\u001b[39m__dask_postcompute__())\n\u001b[1;32m    660\u001b[0m \u001b[38;5;28;01mwith\u001b[39;00m shorten_traceback():\n\u001b[0;32m--> 661\u001b[0m     results \u001b[38;5;241m=\u001b[39m \u001b[43mschedule\u001b[49m\u001b[43m(\u001b[49m\u001b[43mdsk\u001b[49m\u001b[43m,\u001b[49m\u001b[43m \u001b[49m\u001b[43mkeys\u001b[49m\u001b[43m,\u001b[49m\u001b[43m \u001b[49m\u001b[38;5;241;43m*\u001b[39;49m\u001b[38;5;241;43m*\u001b[39;49m\u001b[43mkwargs\u001b[49m\u001b[43m)\u001b[49m\n\u001b[1;32m    663\u001b[0m \u001b[38;5;28;01mreturn\u001b[39;00m repack([f(r, \u001b[38;5;241m*\u001b[39ma) \u001b[38;5;28;01mfor\u001b[39;00m r, (f, a) \u001b[38;5;129;01min\u001b[39;00m \u001b[38;5;28mzip\u001b[39m(results, postcomputes)])\n",
      "File \u001b[0;32m/cvmfs/cms.cern.ch/el8_amd64_gcc12/external/python3/3.9.14-c10287ae9cadff55334e60003302c349/lib/python3.9/queue.py:171\u001b[0m, in \u001b[0;36mQueue.get\u001b[0;34m(self, block, timeout)\u001b[0m\n\u001b[1;32m    169\u001b[0m \u001b[38;5;28;01melif\u001b[39;00m timeout \u001b[38;5;129;01mis\u001b[39;00m \u001b[38;5;28;01mNone\u001b[39;00m:\n\u001b[1;32m    170\u001b[0m     \u001b[38;5;28;01mwhile\u001b[39;00m \u001b[38;5;129;01mnot\u001b[39;00m \u001b[38;5;28mself\u001b[39m\u001b[38;5;241m.\u001b[39m_qsize():\n\u001b[0;32m--> 171\u001b[0m         \u001b[38;5;28;43mself\u001b[39;49m\u001b[38;5;241;43m.\u001b[39;49m\u001b[43mnot_empty\u001b[49m\u001b[38;5;241;43m.\u001b[39;49m\u001b[43mwait\u001b[49m\u001b[43m(\u001b[49m\u001b[43m)\u001b[49m\n\u001b[1;32m    172\u001b[0m \u001b[38;5;28;01melif\u001b[39;00m timeout \u001b[38;5;241m<\u001b[39m \u001b[38;5;241m0\u001b[39m:\n\u001b[1;32m    173\u001b[0m     \u001b[38;5;28;01mraise\u001b[39;00m \u001b[38;5;167;01mValueError\u001b[39;00m(\u001b[38;5;124m\"\u001b[39m\u001b[38;5;124m'\u001b[39m\u001b[38;5;124mtimeout\u001b[39m\u001b[38;5;124m'\u001b[39m\u001b[38;5;124m must be a non-negative number\u001b[39m\u001b[38;5;124m\"\u001b[39m)\n",
      "File \u001b[0;32m/cvmfs/cms.cern.ch/el8_amd64_gcc12/external/python3/3.9.14-c10287ae9cadff55334e60003302c349/lib/python3.9/threading.py:312\u001b[0m, in \u001b[0;36mCondition.wait\u001b[0;34m(self, timeout)\u001b[0m\n\u001b[1;32m    310\u001b[0m \u001b[38;5;28;01mtry\u001b[39;00m:    \u001b[38;5;66;03m# restore state no matter what (e.g., KeyboardInterrupt)\u001b[39;00m\n\u001b[1;32m    311\u001b[0m     \u001b[38;5;28;01mif\u001b[39;00m timeout \u001b[38;5;129;01mis\u001b[39;00m \u001b[38;5;28;01mNone\u001b[39;00m:\n\u001b[0;32m--> 312\u001b[0m         \u001b[43mwaiter\u001b[49m\u001b[38;5;241;43m.\u001b[39;49m\u001b[43macquire\u001b[49m\u001b[43m(\u001b[49m\u001b[43m)\u001b[49m\n\u001b[1;32m    313\u001b[0m         gotit \u001b[38;5;241m=\u001b[39m \u001b[38;5;28;01mTrue\u001b[39;00m\n\u001b[1;32m    314\u001b[0m     \u001b[38;5;28;01melse\u001b[39;00m:\n",
      "\u001b[0;31mKeyboardInterrupt\u001b[0m: "
     ]
    }
   ],
   "source": [
    "outputs = []\n",
    "for sample in data_events_list:\n",
    "    print(sample)\n",
    "    data_events  = MuonSystemReader.loadTree_nanoFactory(sample)\n",
    "    processor_data = HNL_Processor.HNL_Processor()\n",
    "    outputs.append(processor_data.process(data_events, hists_to_process = [\"CSC_Cluster_Size\"]))\n",
    "    "
   ]
  },
  {
   "cell_type": "code",
   "execution_count": null,
   "id": "cdf31090",
   "metadata": {},
   "outputs": [],
   "source": [
    "output_data = {}\n",
    "for idx, output in enumerate(outputs):\n",
    "    for key, hist in output.items():\n",
    "        if idx==0:\n",
    "            output_data[key] = hist\n",
    "        else:\n",
    "            output_data[key] = output_data[key]+hist\n"
   ]
  },
  {
   "cell_type": "code",
   "execution_count": null,
   "id": "3b293b78",
   "metadata": {},
   "outputs": [],
   "source": [
    "output_data = Processing_Helpers.processData()"
   ]
  },
  {
   "cell_type": "code",
   "execution_count": null,
   "id": "9a0ade89",
   "metadata": {},
   "outputs": [],
   "source": [
    "importlib.reload(MuonSystemReader)\n",
    "importlib.reload(HNL_Processor)"
   ]
  }
 ],
 "metadata": {
  "kernelspec": {
   "display_name": "PyROOT + Local Site Packages",
   "language": "python",
   "name": "pyroot_local"
  },
  "language_info": {
   "codemirror_mode": {
    "name": "ipython",
    "version": 3
   },
   "file_extension": ".py",
   "mimetype": "text/x-python",
   "name": "python",
   "nbconvert_exporter": "python",
   "pygments_lexer": "ipython3",
   "version": "3.9.21"
  }
 },
 "nbformat": 4,
 "nbformat_minor": 5
}
